{
 "cells": [
  {
   "cell_type": "markdown",
   "id": "e2137277",
   "metadata": {},
   "source": [
    "### Decorator"
   ]
  },
  {
   "cell_type": "code",
   "execution_count": 2,
   "id": "65c50593",
   "metadata": {},
   "outputs": [],
   "source": [
    "x=9"
   ]
  },
  {
   "cell_type": "code",
   "execution_count": 3,
   "id": "803a4f7e",
   "metadata": {},
   "outputs": [],
   "source": [
    "class Calculus:\n",
    "    pass"
   ]
  },
  {
   "cell_type": "code",
   "execution_count": 4,
   "id": "ae423164",
   "metadata": {},
   "outputs": [],
   "source": [
    "calc = Calculus()"
   ]
  },
  {
   "cell_type": "code",
   "execution_count": 7,
   "id": "e76a2f99",
   "metadata": {},
   "outputs": [],
   "source": [
    "def mathematics(x):\n",
    "    return x ** 4"
   ]
  },
  {
   "cell_type": "code",
   "execution_count": 8,
   "id": "f07d9973",
   "metadata": {},
   "outputs": [],
   "source": [
    "ma = mathematics(3)"
   ]
  },
  {
   "cell_type": "code",
   "execution_count": 9,
   "id": "a41637e8",
   "metadata": {},
   "outputs": [
    {
     "data": {
      "text/plain": [
       "81"
      ]
     },
     "execution_count": 9,
     "metadata": {},
     "output_type": "execute_result"
    }
   ],
   "source": [
    "ma"
   ]
  },
  {
   "cell_type": "code",
   "execution_count": 10,
   "id": "bf24cb54",
   "metadata": {},
   "outputs": [],
   "source": [
    "ma = mathematics"
   ]
  },
  {
   "cell_type": "code",
   "execution_count": 11,
   "id": "5abdda8e",
   "metadata": {},
   "outputs": [
    {
     "data": {
      "text/plain": [
       "<function __main__.mathematics(x)>"
      ]
     },
     "execution_count": 11,
     "metadata": {},
     "output_type": "execute_result"
    }
   ],
   "source": [
    "ma"
   ]
  },
  {
   "cell_type": "code",
   "execution_count": 12,
   "id": "60ee418f",
   "metadata": {},
   "outputs": [
    {
     "data": {
      "text/plain": [
       "6561"
      ]
     },
     "execution_count": 12,
     "metadata": {},
     "output_type": "execute_result"
    }
   ],
   "source": [
    "ma(9)"
   ]
  },
  {
   "cell_type": "code",
   "execution_count": 13,
   "id": "fff6d942",
   "metadata": {},
   "outputs": [
    {
     "data": {
      "text/plain": [
       "1"
      ]
     },
     "execution_count": 13,
     "metadata": {},
     "output_type": "execute_result"
    }
   ],
   "source": [
    "ma(1)"
   ]
  },
  {
   "cell_type": "code",
   "execution_count": 14,
   "id": "47bfd8a9",
   "metadata": {},
   "outputs": [],
   "source": [
    "def mathematics():\n",
    "    return 3 ** 4"
   ]
  },
  {
   "cell_type": "code",
   "execution_count": 15,
   "id": "3cd51fa1",
   "metadata": {},
   "outputs": [
    {
     "data": {
      "text/plain": [
       "81"
      ]
     },
     "execution_count": 15,
     "metadata": {},
     "output_type": "execute_result"
    }
   ],
   "source": [
    "mathematics()"
   ]
  },
  {
   "cell_type": "code",
   "execution_count": 16,
   "id": "d077bb2f",
   "metadata": {},
   "outputs": [],
   "source": [
    "def func(infunc):\n",
    "    '''raise 3 to the power of 4 and then multiply by 10'''\n",
    "    return infunc() * 10"
   ]
  },
  {
   "cell_type": "code",
   "execution_count": 17,
   "id": "9da28359",
   "metadata": {},
   "outputs": [
    {
     "data": {
      "text/plain": [
       "810"
      ]
     },
     "execution_count": 17,
     "metadata": {},
     "output_type": "execute_result"
    }
   ],
   "source": [
    "func(mathematics)"
   ]
  },
  {
   "cell_type": "code",
   "execution_count": 18,
   "id": "2f26969c",
   "metadata": {},
   "outputs": [],
   "source": [
    "def mathematics1():\n",
    "    return 3 ** 4\n",
    "\n",
    "def mathematics2():\n",
    "    return 2 ** 4"
   ]
  },
  {
   "cell_type": "code",
   "execution_count": 19,
   "id": "80934476",
   "metadata": {},
   "outputs": [],
   "source": [
    "def func(infunc1, infunc2):\n",
    "    '''2 to the power of multiply by 3 to the power of 4'''\n",
    "    return infunc1() * infunc2()"
   ]
  },
  {
   "cell_type": "code",
   "execution_count": 20,
   "id": "16d12b93",
   "metadata": {},
   "outputs": [
    {
     "data": {
      "text/plain": [
       "1296"
      ]
     },
     "execution_count": 20,
     "metadata": {},
     "output_type": "execute_result"
    }
   ],
   "source": [
    "func(mathematics1, mathematics2)"
   ]
  },
  {
   "cell_type": "code",
   "execution_count": null,
   "id": "98a18306",
   "metadata": {},
   "outputs": [],
   "source": [
    "mathematics1() and mathematics1"
   ]
  },
  {
   "cell_type": "code",
   "execution_count": 21,
   "id": "27df0c3b",
   "metadata": {},
   "outputs": [
    {
     "data": {
      "text/plain": [
       "81"
      ]
     },
     "execution_count": 21,
     "metadata": {},
     "output_type": "execute_result"
    }
   ],
   "source": [
    "mathematics1()"
   ]
  },
  {
   "cell_type": "code",
   "execution_count": 22,
   "id": "b217065d",
   "metadata": {},
   "outputs": [
    {
     "data": {
      "text/plain": [
       "<function __main__.mathematics1()>"
      ]
     },
     "execution_count": 22,
     "metadata": {},
     "output_type": "execute_result"
    }
   ],
   "source": [
    "mathematics1"
   ]
  },
  {
   "cell_type": "code",
   "execution_count": 23,
   "id": "44856433",
   "metadata": {},
   "outputs": [],
   "source": [
    "x = 10"
   ]
  },
  {
   "cell_type": "code",
   "execution_count": 24,
   "id": "a01fb227",
   "metadata": {},
   "outputs": [],
   "source": [
    "x = x + 5"
   ]
  },
  {
   "cell_type": "code",
   "execution_count": 25,
   "id": "a1987dbf",
   "metadata": {},
   "outputs": [],
   "source": [
    "def convert(func):\n",
    "    out = func()\n",
    "    return out.upper()"
   ]
  },
  {
   "cell_type": "code",
   "execution_count": 26,
   "id": "77f570e7",
   "metadata": {},
   "outputs": [],
   "source": [
    "def greet():\n",
    "    return 'Good Morning'"
   ]
  },
  {
   "cell_type": "code",
   "execution_count": 27,
   "id": "6566bea0",
   "metadata": {},
   "outputs": [
    {
     "data": {
      "text/plain": [
       "'Good Morning'"
      ]
     },
     "execution_count": 27,
     "metadata": {},
     "output_type": "execute_result"
    }
   ],
   "source": [
    "greet()"
   ]
  },
  {
   "cell_type": "code",
   "execution_count": 28,
   "id": "17c3f163",
   "metadata": {},
   "outputs": [
    {
     "data": {
      "text/plain": [
       "'GOOD MORNING'"
      ]
     },
     "execution_count": 28,
     "metadata": {},
     "output_type": "execute_result"
    }
   ],
   "source": [
    "convert(greet)"
   ]
  },
  {
   "cell_type": "code",
   "execution_count": 29,
   "id": "78c58900",
   "metadata": {},
   "outputs": [],
   "source": [
    "greet = convert(greet)"
   ]
  },
  {
   "cell_type": "code",
   "execution_count": 31,
   "id": "40038f61",
   "metadata": {},
   "outputs": [
    {
     "data": {
      "text/plain": [
       "'GOOD MORNING'"
      ]
     },
     "execution_count": 31,
     "metadata": {},
     "output_type": "execute_result"
    }
   ],
   "source": [
    "greet"
   ]
  },
  {
   "cell_type": "code",
   "execution_count": 38,
   "id": "d6507ab0",
   "metadata": {},
   "outputs": [],
   "source": [
    "def convert(func):\n",
    "    print(greet1)\n",
    "    out = func()\n",
    "    return out.upper()"
   ]
  },
  {
   "cell_type": "code",
   "execution_count": 33,
   "id": "1e9ad2ce",
   "metadata": {},
   "outputs": [],
   "source": [
    "@convert\n",
    "def greet1():\n",
    "    return 'Good Morning'"
   ]
  },
  {
   "cell_type": "code",
   "execution_count": null,
   "id": "f0177fdd",
   "metadata": {},
   "outputs": [],
   "source": [
    "greet1 = convert(greet1)"
   ]
  },
  {
   "cell_type": "code",
   "execution_count": 34,
   "id": "1f4de79d",
   "metadata": {},
   "outputs": [
    {
     "data": {
      "text/plain": [
       "'GOOD MORNING'"
      ]
     },
     "execution_count": 34,
     "metadata": {},
     "output_type": "execute_result"
    }
   ],
   "source": [
    "greet1"
   ]
  },
  {
   "cell_type": "code",
   "execution_count": 40,
   "id": "411048c5",
   "metadata": {},
   "outputs": [],
   "source": [
    "def greet1():\n",
    "    return 'Good Morning'"
   ]
  },
  {
   "cell_type": "code",
   "execution_count": 41,
   "id": "e19037ca",
   "metadata": {},
   "outputs": [
    {
     "name": "stdout",
     "output_type": "stream",
     "text": [
      "<function greet1 at 0x0000028E1B0923A0>\n"
     ]
    },
    {
     "data": {
      "text/plain": [
       "'GOOD MORNING'"
      ]
     },
     "execution_count": 41,
     "metadata": {},
     "output_type": "execute_result"
    }
   ],
   "source": [
    "convert(greet1)"
   ]
  },
  {
   "cell_type": "code",
   "execution_count": 37,
   "id": "8c99db9d",
   "metadata": {},
   "outputs": [
    {
     "name": "stderr",
     "output_type": "stream",
     "text": [
      "<>:1: SyntaxWarning: 'str' object is not callable; perhaps you missed a comma?\n",
      "<>:1: SyntaxWarning: 'str' object is not callable; perhaps you missed a comma?\n",
      "C:\\Users\\OMOLEW~1\\AppData\\Local\\Temp/ipykernel_22836/753020097.py:1: SyntaxWarning: 'str' object is not callable; perhaps you missed a comma?\n",
      "  'omolewa'()\n"
     ]
    },
    {
     "ename": "TypeError",
     "evalue": "'str' object is not callable",
     "output_type": "error",
     "traceback": [
      "\u001b[1;31m---------------------------------------------------------------------------\u001b[0m",
      "\u001b[1;31mTypeError\u001b[0m                                 Traceback (most recent call last)",
      "\u001b[1;32mC:\\Users\\OMOLEW~1\\AppData\\Local\\Temp/ipykernel_22836/753020097.py\u001b[0m in \u001b[0;36m<module>\u001b[1;34m\u001b[0m\n\u001b[1;32m----> 1\u001b[1;33m \u001b[1;34m'omolewa'\u001b[0m\u001b[1;33m(\u001b[0m\u001b[1;33m)\u001b[0m\u001b[1;33m\u001b[0m\u001b[1;33m\u001b[0m\u001b[0m\n\u001b[0m",
      "\u001b[1;31mTypeError\u001b[0m: 'str' object is not callable"
     ]
    }
   ],
   "source": [
    "'omolewa'()"
   ]
  },
  {
   "cell_type": "code",
   "execution_count": null,
   "id": "c6c2a818",
   "metadata": {},
   "outputs": [],
   "source": []
  },
  {
   "cell_type": "code",
   "execution_count": null,
   "id": "8bd08f7f",
   "metadata": {},
   "outputs": [],
   "source": []
  },
  {
   "cell_type": "code",
   "execution_count": null,
   "id": "c033bc1b",
   "metadata": {},
   "outputs": [],
   "source": []
  },
  {
   "cell_type": "code",
   "execution_count": 42,
   "id": "23203887",
   "metadata": {},
   "outputs": [],
   "source": [
    "def greet1():\n",
    "    return 'Good Morning'"
   ]
  },
  {
   "cell_type": "code",
   "execution_count": 43,
   "id": "58124165",
   "metadata": {},
   "outputs": [
    {
     "data": {
      "text/plain": [
       "'Good Morning'"
      ]
     },
     "execution_count": 43,
     "metadata": {},
     "output_type": "execute_result"
    }
   ],
   "source": [
    "greet1()"
   ]
  },
  {
   "cell_type": "code",
   "execution_count": 46,
   "id": "0b985f33",
   "metadata": {},
   "outputs": [],
   "source": [
    "def convert(func):\n",
    "    out = func()\n",
    "    return out.upper() * 3"
   ]
  },
  {
   "cell_type": "code",
   "execution_count": 47,
   "id": "6c82b03e",
   "metadata": {},
   "outputs": [
    {
     "data": {
      "text/plain": [
       "'GOOD MORNINGGOOD MORNINGGOOD MORNING'"
      ]
     },
     "execution_count": 47,
     "metadata": {},
     "output_type": "execute_result"
    }
   ],
   "source": [
    "convert(greet1)"
   ]
  },
  {
   "cell_type": "code",
   "execution_count": 48,
   "id": "f477a03a",
   "metadata": {},
   "outputs": [],
   "source": [
    "@convert\n",
    "def greet1():\n",
    "    return 'Good Morning'"
   ]
  },
  {
   "cell_type": "code",
   "execution_count": 49,
   "id": "5db32f90",
   "metadata": {},
   "outputs": [
    {
     "data": {
      "text/plain": [
       "'GOOD MORNINGGOOD MORNINGGOOD MORNING'"
      ]
     },
     "execution_count": 49,
     "metadata": {},
     "output_type": "execute_result"
    }
   ],
   "source": [
    "greet1"
   ]
  },
  {
   "cell_type": "code",
   "execution_count": null,
   "id": "84d4a6ca",
   "metadata": {},
   "outputs": [],
   "source": []
  },
  {
   "cell_type": "code",
   "execution_count": null,
   "id": "7019d577",
   "metadata": {},
   "outputs": [],
   "source": []
  },
  {
   "cell_type": "code",
   "execution_count": null,
   "id": "ca33d612",
   "metadata": {},
   "outputs": [],
   "source": []
  },
  {
   "cell_type": "code",
   "execution_count": null,
   "id": "0e266a22",
   "metadata": {},
   "outputs": [],
   "source": [
    "convert(greet1)"
   ]
  },
  {
   "cell_type": "code",
   "execution_count": null,
   "id": "0f54d4ef",
   "metadata": {},
   "outputs": [],
   "source": []
  },
  {
   "cell_type": "code",
   "execution_count": null,
   "id": "e7fef854",
   "metadata": {},
   "outputs": [],
   "source": []
  },
  {
   "cell_type": "code",
   "execution_count": 50,
   "id": "8d12bf9e",
   "metadata": {},
   "outputs": [],
   "source": [
    "def greet1(name):\n",
    "    return f'Good Morning, {name}'"
   ]
  },
  {
   "cell_type": "code",
   "execution_count": 53,
   "id": "86fbd701",
   "metadata": {},
   "outputs": [
    {
     "name": "stdout",
     "output_type": "stream",
     "text": [
      "Please, enter your name: Asido\n"
     ]
    },
    {
     "data": {
      "text/plain": [
       "'Good Morning, Asido'"
      ]
     },
     "execution_count": 53,
     "metadata": {},
     "output_type": "execute_result"
    }
   ],
   "source": [
    "greet1(input('Please, enter your name: '))"
   ]
  },
  {
   "cell_type": "code",
   "execution_count": 51,
   "id": "606584aa",
   "metadata": {},
   "outputs": [
    {
     "data": {
      "text/plain": [
       "'Good Morning, Asido'"
      ]
     },
     "execution_count": 51,
     "metadata": {},
     "output_type": "execute_result"
    }
   ],
   "source": [
    "greet1('Asido')"
   ]
  },
  {
   "cell_type": "code",
   "execution_count": null,
   "id": "dfdecd3e",
   "metadata": {},
   "outputs": [],
   "source": [
    "def convert(func):\n",
    "    out = func()\n",
    "    return out.upper() * 3\n",
    "\n",
    "@convert\n",
    "def greet1(name):\n",
    "    return 'Good Morning'"
   ]
  },
  {
   "cell_type": "code",
   "execution_count": null,
   "id": "60e47c0e",
   "metadata": {},
   "outputs": [],
   "source": []
  },
  {
   "cell_type": "code",
   "execution_count": null,
   "id": "3c0bfafb",
   "metadata": {},
   "outputs": [],
   "source": []
  },
  {
   "cell_type": "code",
   "execution_count": null,
   "id": "77a2e916",
   "metadata": {},
   "outputs": [],
   "source": []
  },
  {
   "cell_type": "code",
   "execution_count": null,
   "id": "44275f51",
   "metadata": {},
   "outputs": [],
   "source": []
  },
  {
   "cell_type": "code",
   "execution_count": 54,
   "id": "e0b0ec81",
   "metadata": {},
   "outputs": [],
   "source": [
    "def greet1(name):\n",
    "    return f'Good Morning, {name}'"
   ]
  },
  {
   "cell_type": "code",
   "execution_count": 88,
   "id": "811f1543",
   "metadata": {},
   "outputs": [],
   "source": [
    "def change(func):\n",
    "    def decorator(name):\n",
    "        greet = func(name)\n",
    "        lis = greet.split(',')\n",
    "        lis.reverse()\n",
    "        return ', '.join(lis).strip()\n",
    "    \n",
    "    return decorator"
   ]
  },
  {
   "cell_type": "code",
   "execution_count": 89,
   "id": "e9cdbc2d",
   "metadata": {},
   "outputs": [],
   "source": [
    "greet1 = change(greet1)"
   ]
  },
  {
   "cell_type": "code",
   "execution_count": 90,
   "id": "07e2661e",
   "metadata": {},
   "outputs": [
    {
     "data": {
      "text/plain": [
       "<function __main__.change.<locals>.decorator(name)>"
      ]
     },
     "execution_count": 90,
     "metadata": {},
     "output_type": "execute_result"
    }
   ],
   "source": [
    "greet1"
   ]
  },
  {
   "cell_type": "code",
   "execution_count": 71,
   "id": "d405b0f2",
   "metadata": {},
   "outputs": [
    {
     "data": {
      "text/plain": [
       "'Omolewa, Good Morning'"
      ]
     },
     "execution_count": 71,
     "metadata": {},
     "output_type": "execute_result"
    }
   ],
   "source": [
    "greet1('Omolewa')"
   ]
  },
  {
   "cell_type": "code",
   "execution_count": null,
   "id": "a6258aa4",
   "metadata": {},
   "outputs": [],
   "source": []
  },
  {
   "cell_type": "code",
   "execution_count": 85,
   "id": "1b65a59e",
   "metadata": {},
   "outputs": [],
   "source": [
    "def name():\n",
    "    def lname(gname):\n",
    "        return f'Good Morning {gname}'\n",
    "    return lname "
   ]
  },
  {
   "cell_type": "code",
   "execution_count": 78,
   "id": "ccb23f06",
   "metadata": {},
   "outputs": [
    {
     "data": {
      "text/plain": [
       "<function __main__.name.<locals>.lname()>"
      ]
     },
     "execution_count": 78,
     "metadata": {},
     "output_type": "execute_result"
    }
   ],
   "source": [
    "name()"
   ]
  },
  {
   "cell_type": "code",
   "execution_count": 86,
   "id": "92ebe757",
   "metadata": {},
   "outputs": [],
   "source": [
    "bn = name()"
   ]
  },
  {
   "cell_type": "code",
   "execution_count": 87,
   "id": "9ff2eafb",
   "metadata": {},
   "outputs": [
    {
     "data": {
      "text/plain": [
       "'Good Morning Brown'"
      ]
     },
     "execution_count": 87,
     "metadata": {},
     "output_type": "execute_result"
    }
   ],
   "source": [
    "bn('Brown')"
   ]
  },
  {
   "cell_type": "code",
   "execution_count": 91,
   "id": "7fd1b863",
   "metadata": {},
   "outputs": [],
   "source": [
    "def change(func):\n",
    "    def decorator(name):\n",
    "        greet = func(name)\n",
    "        lis = greet.split(',')\n",
    "        lis.reverse()\n",
    "        return ', '.join(lis).strip()\n",
    "    \n",
    "    return decorator\n",
    "\n",
    "@change\n",
    "def greetgreet(name):\n",
    "    return f'Good Morning, {name}'"
   ]
  },
  {
   "cell_type": "code",
   "execution_count": 93,
   "id": "e7f262d0",
   "metadata": {},
   "outputs": [
    {
     "name": "stdout",
     "output_type": "stream",
     "text": [
      "Please, enter your name: Brown\n"
     ]
    },
    {
     "data": {
      "text/plain": [
       "'Brown, Good Morning'"
      ]
     },
     "execution_count": 93,
     "metadata": {},
     "output_type": "execute_result"
    }
   ],
   "source": [
    "greetgreet(input('Please, enter your name: '))"
   ]
  },
  {
   "cell_type": "code",
   "execution_count": 94,
   "id": "f7e3b923",
   "metadata": {},
   "outputs": [
    {
     "data": {
      "text/plain": [
       "'Ogechi, Good Morning'"
      ]
     },
     "execution_count": 94,
     "metadata": {},
     "output_type": "execute_result"
    }
   ],
   "source": [
    "greetgreet('Ogechi')"
   ]
  },
  {
   "cell_type": "code",
   "execution_count": null,
   "id": "b584f66c",
   "metadata": {},
   "outputs": [],
   "source": []
  }
 ],
 "metadata": {
  "kernelspec": {
   "display_name": "Python 3 (ipykernel)",
   "language": "python",
   "name": "python3"
  },
  "language_info": {
   "codemirror_mode": {
    "name": "ipython",
    "version": 3
   },
   "file_extension": ".py",
   "mimetype": "text/x-python",
   "name": "python",
   "nbconvert_exporter": "python",
   "pygments_lexer": "ipython3",
   "version": "3.9.7"
  }
 },
 "nbformat": 4,
 "nbformat_minor": 5
}
