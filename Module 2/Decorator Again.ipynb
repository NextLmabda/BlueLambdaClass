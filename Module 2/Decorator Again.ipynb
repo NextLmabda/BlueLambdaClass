{
 "cells": [
  {
   "cell_type": "code",
   "execution_count": 14,
   "id": "e64a1665",
   "metadata": {},
   "outputs": [],
   "source": [
    "def printList(**kwargs):\n",
    "    return list(kwargs.values())"
   ]
  },
  {
   "cell_type": "code",
   "execution_count": 15,
   "id": "34a919ac",
   "metadata": {},
   "outputs": [
    {
     "data": {
      "text/plain": [
       "['Omolewa', 'Adaramola']"
      ]
     },
     "execution_count": 15,
     "metadata": {},
     "output_type": "execute_result"
    }
   ],
   "source": [
    "printList(fname = 'Omolewa', lname = 'Adaramola')"
   ]
  },
  {
   "cell_type": "markdown",
   "id": "e22ebd82",
   "metadata": {},
   "source": [
    "fname is Omolewa\n",
    "lname is Adaramola\n",
    "mname is Bukola"
   ]
  },
  {
   "cell_type": "code",
   "execution_count": null,
   "id": "7997ad15",
   "metadata": {},
   "outputs": [],
   "source": []
  },
  {
   "cell_type": "code",
   "execution_count": null,
   "id": "885f3033",
   "metadata": {},
   "outputs": [],
   "source": []
  },
  {
   "cell_type": "code",
   "execution_count": null,
   "id": "92e339ff",
   "metadata": {},
   "outputs": [],
   "source": []
  },
  {
   "cell_type": "code",
   "execution_count": null,
   "id": "1c5c0464",
   "metadata": {},
   "outputs": [],
   "source": []
  },
  {
   "cell_type": "code",
   "execution_count": null,
   "id": "fa118f8c",
   "metadata": {},
   "outputs": [],
   "source": []
  },
  {
   "cell_type": "code",
   "execution_count": null,
   "id": "ccd4220c",
   "metadata": {},
   "outputs": [],
   "source": []
  },
  {
   "cell_type": "code",
   "execution_count": null,
   "id": "e624d449",
   "metadata": {},
   "outputs": [],
   "source": []
  },
  {
   "cell_type": "code",
   "execution_count": null,
   "id": "f7637a97",
   "metadata": {},
   "outputs": [],
   "source": []
  },
  {
   "cell_type": "code",
   "execution_count": null,
   "id": "691991e8",
   "metadata": {},
   "outputs": [],
   "source": []
  },
  {
   "cell_type": "code",
   "execution_count": 35,
   "id": "179acca8",
   "metadata": {},
   "outputs": [],
   "source": [
    "def rename(name):\n",
    "    return f'My name is {name}'"
   ]
  },
  {
   "cell_type": "code",
   "execution_count": 17,
   "id": "ec10a677",
   "metadata": {},
   "outputs": [
    {
     "data": {
      "text/plain": [
       "'My name is Omolewa'"
      ]
     },
     "execution_count": 17,
     "metadata": {},
     "output_type": "execute_result"
    }
   ],
   "source": [
    "rename('Omolewa')"
   ]
  },
  {
   "cell_type": "code",
   "execution_count": 18,
   "id": "5f0767f2",
   "metadata": {},
   "outputs": [
    {
     "data": {
      "text/plain": [
       "<function __main__.rename(name)>"
      ]
     },
     "execution_count": 18,
     "metadata": {},
     "output_type": "execute_result"
    }
   ],
   "source": [
    "rename"
   ]
  },
  {
   "cell_type": "code",
   "execution_count": 19,
   "id": "efac2c3d",
   "metadata": {},
   "outputs": [],
   "source": [
    "a = rename\n",
    "b = rename('Dele')"
   ]
  },
  {
   "cell_type": "code",
   "execution_count": null,
   "id": "39ff0fd8",
   "metadata": {},
   "outputs": [],
   "source": [
    "def rename(name):\n",
    "    return f'My name is {name}'"
   ]
  },
  {
   "cell_type": "code",
   "execution_count": 20,
   "id": "d0d1616d",
   "metadata": {},
   "outputs": [
    {
     "data": {
      "text/plain": [
       "function"
      ]
     },
     "execution_count": 20,
     "metadata": {},
     "output_type": "execute_result"
    }
   ],
   "source": [
    "type(a)"
   ]
  },
  {
   "cell_type": "code",
   "execution_count": 21,
   "id": "f94c5dc7",
   "metadata": {},
   "outputs": [
    {
     "data": {
      "text/plain": [
       "str"
      ]
     },
     "execution_count": 21,
     "metadata": {},
     "output_type": "execute_result"
    }
   ],
   "source": [
    "type(b)"
   ]
  },
  {
   "cell_type": "code",
   "execution_count": 22,
   "id": "51394b33",
   "metadata": {},
   "outputs": [
    {
     "data": {
      "text/plain": [
       "<function __main__.rename(name)>"
      ]
     },
     "execution_count": 22,
     "metadata": {},
     "output_type": "execute_result"
    }
   ],
   "source": [
    "a"
   ]
  },
  {
   "cell_type": "code",
   "execution_count": 23,
   "id": "7e9a7a1c",
   "metadata": {},
   "outputs": [
    {
     "data": {
      "text/plain": [
       "'My name is Brown'"
      ]
     },
     "execution_count": 23,
     "metadata": {},
     "output_type": "execute_result"
    }
   ],
   "source": [
    "a('Brown')"
   ]
  },
  {
   "cell_type": "code",
   "execution_count": 24,
   "id": "9b2ea7ca",
   "metadata": {},
   "outputs": [
    {
     "data": {
      "text/plain": [
       "'My name is Dele'"
      ]
     },
     "execution_count": 24,
     "metadata": {},
     "output_type": "execute_result"
    }
   ],
   "source": [
    "b"
   ]
  },
  {
   "cell_type": "code",
   "execution_count": 28,
   "id": "a6237786",
   "metadata": {},
   "outputs": [],
   "source": [
    "f = p = rename('Fola')"
   ]
  },
  {
   "cell_type": "code",
   "execution_count": 29,
   "id": "c21ddfab",
   "metadata": {},
   "outputs": [
    {
     "data": {
      "text/plain": [
       "str"
      ]
     },
     "execution_count": 29,
     "metadata": {},
     "output_type": "execute_result"
    }
   ],
   "source": [
    "type(f)"
   ]
  },
  {
   "cell_type": "code",
   "execution_count": 30,
   "id": "37827059",
   "metadata": {},
   "outputs": [
    {
     "data": {
      "text/plain": [
       "str"
      ]
     },
     "execution_count": 30,
     "metadata": {},
     "output_type": "execute_result"
    }
   ],
   "source": [
    "type(p)"
   ]
  },
  {
   "cell_type": "code",
   "execution_count": null,
   "id": "0698e776",
   "metadata": {},
   "outputs": [],
   "source": []
  },
  {
   "cell_type": "code",
   "execution_count": null,
   "id": "44fceca9",
   "metadata": {},
   "outputs": [],
   "source": []
  },
  {
   "cell_type": "code",
   "execution_count": null,
   "id": "a518f16d",
   "metadata": {},
   "outputs": [],
   "source": []
  },
  {
   "cell_type": "code",
   "execution_count": 80,
   "id": "640e54e1",
   "metadata": {},
   "outputs": [],
   "source": [
    "def name(x):\n",
    "    '''\n",
    "    x: str\n",
    "    x: dele\n",
    "    usage: name('Dele') and the output will be 'DELE'\n",
    "    '''\n",
    "    return x.upper()\n",
    "\n",
    "def rename(func):\n",
    "    '''\n",
    "    func: python function\n",
    "    usage: \n",
    "    '''\n",
    "    print(func)\n",
    "    print(type(func))\n",
    "    return func('Omolewa')"
   ]
  },
  {
   "cell_type": "code",
   "execution_count": 81,
   "id": "ea8ff2dd",
   "metadata": {},
   "outputs": [
    {
     "name": "stdout",
     "output_type": "stream",
     "text": [
      "<function name at 0x00000223808D0D30>\n",
      "<class 'function'>\n"
     ]
    },
    {
     "data": {
      "text/plain": [
       "'OMOLEWA'"
      ]
     },
     "execution_count": 81,
     "metadata": {},
     "output_type": "execute_result"
    }
   ],
   "source": [
    "rename(name)"
   ]
  },
  {
   "cell_type": "code",
   "execution_count": null,
   "id": "872e6510",
   "metadata": {},
   "outputs": [],
   "source": [
    "a = 5\n",
    "map(a)"
   ]
  },
  {
   "cell_type": "code",
   "execution_count": 74,
   "id": "81247461",
   "metadata": {},
   "outputs": [
    {
     "data": {
      "text/plain": [
       "'DELE'"
      ]
     },
     "execution_count": 74,
     "metadata": {},
     "output_type": "execute_result"
    }
   ],
   "source": [
    "name('Dele')"
   ]
  },
  {
   "cell_type": "code",
   "execution_count": null,
   "id": "c054160d",
   "metadata": {},
   "outputs": [],
   "source": []
  },
  {
   "cell_type": "code",
   "execution_count": null,
   "id": "ce602d15",
   "metadata": {},
   "outputs": [],
   "source": []
  },
  {
   "cell_type": "code",
   "execution_count": null,
   "id": "c34b9ed3",
   "metadata": {},
   "outputs": [],
   "source": []
  },
  {
   "cell_type": "code",
   "execution_count": null,
   "id": "c8f2f7d7",
   "metadata": {},
   "outputs": [],
   "source": []
  },
  {
   "cell_type": "code",
   "execution_count": null,
   "id": "42de7a91",
   "metadata": {},
   "outputs": [],
   "source": []
  },
  {
   "cell_type": "code",
   "execution_count": 60,
   "id": "267ba193",
   "metadata": {},
   "outputs": [
    {
     "data": {
      "text/plain": [
       "<function __main__.rename(func)>"
      ]
     },
     "execution_count": 60,
     "metadata": {},
     "output_type": "execute_result"
    }
   ],
   "source": [
    "name(rename)"
   ]
  },
  {
   "cell_type": "code",
   "execution_count": 62,
   "id": "83f1563c",
   "metadata": {},
   "outputs": [
    {
     "ename": "TypeError",
     "evalue": "'list' object is not callable",
     "output_type": "error",
     "traceback": [
      "\u001b[1;31m---------------------------------------------------------------------------\u001b[0m",
      "\u001b[1;31mTypeError\u001b[0m                                 Traceback (most recent call last)",
      "\u001b[1;32mC:\\Users\\OMOLEW~1\\AppData\\Local\\Temp/ipykernel_28580/2268249244.py\u001b[0m in \u001b[0;36m<module>\u001b[1;34m\u001b[0m\n\u001b[1;32m----> 1\u001b[1;33m \u001b[0mrename\u001b[0m\u001b[1;33m(\u001b[0m\u001b[1;33m[\u001b[0m\u001b[1;34m'Omolewa'\u001b[0m\u001b[1;33m]\u001b[0m\u001b[1;33m)\u001b[0m\u001b[1;33m\u001b[0m\u001b[1;33m\u001b[0m\u001b[0m\n\u001b[0m",
      "\u001b[1;32mC:\\Users\\OMOLEW~1\\AppData\\Local\\Temp/ipykernel_28580/2340991746.py\u001b[0m in \u001b[0;36mrename\u001b[1;34m(func)\u001b[0m\n\u001b[0;32m      3\u001b[0m \u001b[1;33m\u001b[0m\u001b[0m\n\u001b[0;32m      4\u001b[0m \u001b[1;32mdef\u001b[0m \u001b[0mrename\u001b[0m\u001b[1;33m(\u001b[0m\u001b[0mfunc\u001b[0m\u001b[1;33m)\u001b[0m\u001b[1;33m:\u001b[0m\u001b[1;33m\u001b[0m\u001b[1;33m\u001b[0m\u001b[0m\n\u001b[1;32m----> 5\u001b[1;33m     \u001b[1;32mreturn\u001b[0m \u001b[0mfunc\u001b[0m\u001b[1;33m(\u001b[0m\u001b[1;34m'Omolewa'\u001b[0m\u001b[1;33m)\u001b[0m\u001b[1;33m\u001b[0m\u001b[1;33m\u001b[0m\u001b[0m\n\u001b[0m",
      "\u001b[1;31mTypeError\u001b[0m: 'list' object is not callable"
     ]
    }
   ],
   "source": [
    "rename(['Omolewa'])"
   ]
  },
  {
   "cell_type": "code",
   "execution_count": null,
   "id": "41f89d52",
   "metadata": {},
   "outputs": [],
   "source": []
  },
  {
   "cell_type": "code",
   "execution_count": null,
   "id": "88ba1bd2",
   "metadata": {},
   "outputs": [],
   "source": []
  },
  {
   "cell_type": "code",
   "execution_count": null,
   "id": "379347c2",
   "metadata": {},
   "outputs": [],
   "source": []
  },
  {
   "cell_type": "code",
   "execution_count": null,
   "id": "d92453a0",
   "metadata": {},
   "outputs": [],
   "source": []
  },
  {
   "cell_type": "code",
   "execution_count": null,
   "id": "7b7c6050",
   "metadata": {},
   "outputs": [],
   "source": []
  },
  {
   "cell_type": "code",
   "execution_count": null,
   "id": "17f9de86",
   "metadata": {},
   "outputs": [],
   "source": []
  },
  {
   "cell_type": "code",
   "execution_count": 39,
   "id": "e37c01c1",
   "metadata": {},
   "outputs": [
    {
     "data": {
      "text/plain": [
       "'Omolewa'"
      ]
     },
     "execution_count": 39,
     "metadata": {},
     "output_type": "execute_result"
    }
   ],
   "source": [
    "name('Omolewa')"
   ]
  },
  {
   "cell_type": "code",
   "execution_count": null,
   "id": "162aace5",
   "metadata": {},
   "outputs": [],
   "source": [
    "x = 'Omolewa'"
   ]
  },
  {
   "cell_type": "code",
   "execution_count": 43,
   "id": "1480825b",
   "metadata": {},
   "outputs": [
    {
     "data": {
      "text/plain": [
       "'Bolu'"
      ]
     },
     "execution_count": 43,
     "metadata": {},
     "output_type": "execute_result"
    }
   ],
   "source": [
    "name(x = 'Bolu')"
   ]
  },
  {
   "cell_type": "code",
   "execution_count": null,
   "id": "fa3dea7f",
   "metadata": {},
   "outputs": [],
   "source": []
  },
  {
   "cell_type": "code",
   "execution_count": null,
   "id": "21da0150",
   "metadata": {},
   "outputs": [],
   "source": []
  },
  {
   "cell_type": "code",
   "execution_count": null,
   "id": "0c97165f",
   "metadata": {},
   "outputs": [],
   "source": []
  },
  {
   "cell_type": "code",
   "execution_count": null,
   "id": "49f08503",
   "metadata": {},
   "outputs": [],
   "source": []
  },
  {
   "cell_type": "code",
   "execution_count": 49,
   "id": "a2601eb1",
   "metadata": {},
   "outputs": [],
   "source": [
    "def rename(func):\n",
    "    return func('Omolewa')"
   ]
  },
  {
   "cell_type": "code",
   "execution_count": 50,
   "id": "b686b750",
   "metadata": {},
   "outputs": [
    {
     "data": {
      "text/plain": [
       "'Omolewa'"
      ]
     },
     "execution_count": 50,
     "metadata": {},
     "output_type": "execute_result"
    }
   ],
   "source": [
    "rename(name)"
   ]
  },
  {
   "cell_type": "code",
   "execution_count": 44,
   "id": "58aec0a8",
   "metadata": {},
   "outputs": [],
   "source": [
    "func = name"
   ]
  },
  {
   "cell_type": "code",
   "execution_count": 45,
   "id": "bca1b1a8",
   "metadata": {},
   "outputs": [
    {
     "data": {
      "text/plain": [
       "'OMO'"
      ]
     },
     "execution_count": 45,
     "metadata": {},
     "output_type": "execute_result"
    }
   ],
   "source": [
    "name('OMO')"
   ]
  },
  {
   "cell_type": "code",
   "execution_count": 46,
   "id": "a34c8828",
   "metadata": {},
   "outputs": [
    {
     "data": {
      "text/plain": [
       "'Brown'"
      ]
     },
     "execution_count": 46,
     "metadata": {},
     "output_type": "execute_result"
    }
   ],
   "source": [
    "func('Brown')"
   ]
  },
  {
   "cell_type": "code",
   "execution_count": null,
   "id": "90dde0bc",
   "metadata": {},
   "outputs": [],
   "source": []
  },
  {
   "cell_type": "code",
   "execution_count": null,
   "id": "481f021c",
   "metadata": {},
   "outputs": [],
   "source": []
  },
  {
   "cell_type": "code",
   "execution_count": 42,
   "id": "9ea3df11",
   "metadata": {},
   "outputs": [
    {
     "data": {
      "text/plain": [
       "<function __main__.name(x)>"
      ]
     },
     "execution_count": 42,
     "metadata": {},
     "output_type": "execute_result"
    }
   ],
   "source": [
    "name"
   ]
  },
  {
   "cell_type": "code",
   "execution_count": null,
   "id": "33f51e68",
   "metadata": {},
   "outputs": [],
   "source": [
    "map"
   ]
  },
  {
   "cell_type": "code",
   "execution_count": null,
   "id": "eb2bbfcf",
   "metadata": {},
   "outputs": [],
   "source": []
  },
  {
   "cell_type": "code",
   "execution_count": null,
   "id": "f4015759",
   "metadata": {},
   "outputs": [],
   "source": []
  },
  {
   "cell_type": "code",
   "execution_count": null,
   "id": "eb5f99ef",
   "metadata": {},
   "outputs": [],
   "source": []
  },
  {
   "cell_type": "code",
   "execution_count": null,
   "id": "2c8817a1",
   "metadata": {},
   "outputs": [],
   "source": []
  },
  {
   "cell_type": "code",
   "execution_count": 52,
   "id": "a1008337",
   "metadata": {},
   "outputs": [],
   "source": [
    "def do(f):\n",
    "    return f('Omolewa')"
   ]
  },
  {
   "cell_type": "code",
   "execution_count": 53,
   "id": "0b3d506c",
   "metadata": {},
   "outputs": [
    {
     "ename": "TypeError",
     "evalue": "'str' object is not callable",
     "output_type": "error",
     "traceback": [
      "\u001b[1;31m---------------------------------------------------------------------------\u001b[0m",
      "\u001b[1;31mTypeError\u001b[0m                                 Traceback (most recent call last)",
      "\u001b[1;32mC:\\Users\\OMOLEW~1\\AppData\\Local\\Temp/ipykernel_28580/1451163525.py\u001b[0m in \u001b[0;36m<module>\u001b[1;34m\u001b[0m\n\u001b[1;32m----> 1\u001b[1;33m \u001b[0mdo\u001b[0m\u001b[1;33m(\u001b[0m\u001b[1;34m'Brown'\u001b[0m\u001b[1;33m)\u001b[0m\u001b[1;33m\u001b[0m\u001b[1;33m\u001b[0m\u001b[0m\n\u001b[0m",
      "\u001b[1;32mC:\\Users\\OMOLEW~1\\AppData\\Local\\Temp/ipykernel_28580/3516422057.py\u001b[0m in \u001b[0;36mdo\u001b[1;34m(f)\u001b[0m\n\u001b[0;32m      1\u001b[0m \u001b[1;32mdef\u001b[0m \u001b[0mdo\u001b[0m\u001b[1;33m(\u001b[0m\u001b[0mf\u001b[0m\u001b[1;33m)\u001b[0m\u001b[1;33m:\u001b[0m\u001b[1;33m\u001b[0m\u001b[1;33m\u001b[0m\u001b[0m\n\u001b[1;32m----> 2\u001b[1;33m     \u001b[1;32mreturn\u001b[0m \u001b[0mf\u001b[0m\u001b[1;33m(\u001b[0m\u001b[1;34m'Omolewa'\u001b[0m\u001b[1;33m)\u001b[0m\u001b[1;33m\u001b[0m\u001b[1;33m\u001b[0m\u001b[0m\n\u001b[0m",
      "\u001b[1;31mTypeError\u001b[0m: 'str' object is not callable"
     ]
    }
   ],
   "source": [
    "do('Brown')"
   ]
  },
  {
   "cell_type": "code",
   "execution_count": null,
   "id": "514a945c",
   "metadata": {},
   "outputs": [],
   "source": []
  },
  {
   "cell_type": "code",
   "execution_count": null,
   "id": "97ec07da",
   "metadata": {},
   "outputs": [],
   "source": []
  },
  {
   "cell_type": "code",
   "execution_count": 54,
   "id": "033b3ace",
   "metadata": {},
   "outputs": [],
   "source": [
    "def do(f):\n",
    "    return f"
   ]
  },
  {
   "cell_type": "code",
   "execution_count": 56,
   "id": "94b349c5",
   "metadata": {},
   "outputs": [
    {
     "data": {
      "text/plain": [
       "<function __main__.rename(func)>"
      ]
     },
     "execution_count": 56,
     "metadata": {},
     "output_type": "execute_result"
    }
   ],
   "source": [
    "do(rename)"
   ]
  },
  {
   "cell_type": "code",
   "execution_count": null,
   "id": "483fc587",
   "metadata": {},
   "outputs": [],
   "source": []
  },
  {
   "cell_type": "code",
   "execution_count": 82,
   "id": "d48fdfaf",
   "metadata": {},
   "outputs": [],
   "source": [
    "def name(x):\n",
    "    '''\n",
    "    x: str\n",
    "    x: dele\n",
    "    usage: name('Dele') and the output will be 'DELE'\n",
    "    '''\n",
    "    return x.upper()\n",
    "\n",
    "def rename(func, x):\n",
    "    '''\n",
    "    func: python function\n",
    "    usage: \n",
    "    '''\n",
    "    return func(x)"
   ]
  },
  {
   "cell_type": "code",
   "execution_count": 84,
   "id": "795535c5",
   "metadata": {},
   "outputs": [
    {
     "data": {
      "text/plain": [
       "'OMOLEWA'"
      ]
     },
     "execution_count": 84,
     "metadata": {},
     "output_type": "execute_result"
    }
   ],
   "source": [
    "rename(name, 'omolewa')"
   ]
  },
  {
   "cell_type": "code",
   "execution_count": 102,
   "id": "ef0f9233",
   "metadata": {},
   "outputs": [],
   "source": [
    "def multi(x):\n",
    "    def square():\n",
    "        def cube():\n",
    "            return x ** 3\n",
    "        return cube\n",
    "    return square"
   ]
  },
  {
   "cell_type": "code",
   "execution_count": 101,
   "id": "92358850",
   "metadata": {},
   "outputs": [
    {
     "ename": "NameError",
     "evalue": "name 'cube' is not defined",
     "output_type": "error",
     "traceback": [
      "\u001b[1;31m---------------------------------------------------------------------------\u001b[0m",
      "\u001b[1;31mNameError\u001b[0m                                 Traceback (most recent call last)",
      "\u001b[1;32mC:\\Users\\OMOLEW~1\\AppData\\Local\\Temp/ipykernel_28580/366448618.py\u001b[0m in \u001b[0;36m<module>\u001b[1;34m\u001b[0m\n\u001b[1;32m----> 1\u001b[1;33m \u001b[0mmulti\u001b[0m\u001b[1;33m(\u001b[0m\u001b[1;36m3\u001b[0m\u001b[1;33m)\u001b[0m\u001b[1;33m\u001b[0m\u001b[1;33m\u001b[0m\u001b[0m\n\u001b[0m",
      "\u001b[1;32mC:\\Users\\OMOLEW~1\\AppData\\Local\\Temp/ipykernel_28580/2640404989.py\u001b[0m in \u001b[0;36mmulti\u001b[1;34m(x)\u001b[0m\n\u001b[0;32m      4\u001b[0m             \u001b[1;32mreturn\u001b[0m \u001b[0mx\u001b[0m \u001b[1;33m**\u001b[0m \u001b[1;36m3\u001b[0m\u001b[1;33m\u001b[0m\u001b[1;33m\u001b[0m\u001b[0m\n\u001b[0;32m      5\u001b[0m         \u001b[1;32mreturn\u001b[0m \u001b[0mcube\u001b[0m\u001b[1;33m\u001b[0m\u001b[1;33m\u001b[0m\u001b[0m\n\u001b[1;32m----> 6\u001b[1;33m     \u001b[1;32mreturn\u001b[0m \u001b[0mcube\u001b[0m\u001b[1;33m\u001b[0m\u001b[1;33m\u001b[0m\u001b[0m\n\u001b[0m",
      "\u001b[1;31mNameError\u001b[0m: name 'cube' is not defined"
     ]
    }
   ],
   "source": [
    "multi(3)"
   ]
  },
  {
   "cell_type": "code",
   "execution_count": 95,
   "id": "f81511d9",
   "metadata": {},
   "outputs": [],
   "source": [
    "a = multi(3)"
   ]
  },
  {
   "cell_type": "code",
   "execution_count": 96,
   "id": "96f9d9e1",
   "metadata": {},
   "outputs": [
    {
     "data": {
      "text/plain": [
       "<function __main__.multi.<locals>.square.<locals>.cube()>"
      ]
     },
     "execution_count": 96,
     "metadata": {},
     "output_type": "execute_result"
    }
   ],
   "source": [
    "a()"
   ]
  },
  {
   "cell_type": "code",
   "execution_count": 97,
   "id": "b5f24f86",
   "metadata": {},
   "outputs": [],
   "source": [
    "c = a()"
   ]
  },
  {
   "cell_type": "code",
   "execution_count": 98,
   "id": "631a15fa",
   "metadata": {},
   "outputs": [
    {
     "data": {
      "text/plain": [
       "27"
      ]
     },
     "execution_count": 98,
     "metadata": {},
     "output_type": "execute_result"
    }
   ],
   "source": [
    "c()"
   ]
  },
  {
   "cell_type": "code",
   "execution_count": 99,
   "id": "8a140175",
   "metadata": {},
   "outputs": [
    {
     "data": {
      "text/plain": [
       "27"
      ]
     },
     "execution_count": 99,
     "metadata": {},
     "output_type": "execute_result"
    }
   ],
   "source": [
    "multi(3)()()"
   ]
  },
  {
   "cell_type": "code",
   "execution_count": null,
   "id": "b2b5e557",
   "metadata": {},
   "outputs": [],
   "source": []
  },
  {
   "cell_type": "code",
   "execution_count": 109,
   "id": "0cd57bba",
   "metadata": {},
   "outputs": [],
   "source": [
    "def multi():\n",
    "    def square(x):\n",
    "        return x ** 2\n",
    "    return square"
   ]
  },
  {
   "cell_type": "code",
   "execution_count": 120,
   "id": "bcf8b6e3",
   "metadata": {},
   "outputs": [],
   "source": [
    "c = multi()"
   ]
  },
  {
   "cell_type": "code",
   "execution_count": 121,
   "id": "3ac8fcf1",
   "metadata": {},
   "outputs": [
    {
     "data": {
      "text/plain": [
       "100"
      ]
     },
     "execution_count": 121,
     "metadata": {},
     "output_type": "execute_result"
    }
   ],
   "source": [
    "c(10)"
   ]
  },
  {
   "cell_type": "code",
   "execution_count": 105,
   "id": "f3b43fb1",
   "metadata": {},
   "outputs": [],
   "source": [
    "def blue(a, b, c, d):\n",
    "    return 'Omolewa'"
   ]
  },
  {
   "cell_type": "code",
   "execution_count": null,
   "id": "b7cd76ef",
   "metadata": {},
   "outputs": [],
   "source": []
  },
  {
   "cell_type": "code",
   "execution_count": 114,
   "id": "6431c8ac",
   "metadata": {},
   "outputs": [],
   "source": [
    "def greet(name):\n",
    "    return f'Morning, {name}'"
   ]
  },
  {
   "cell_type": "code",
   "execution_count": 115,
   "id": "94be666e",
   "metadata": {},
   "outputs": [
    {
     "data": {
      "text/plain": [
       "'Morning, Omolewa'"
      ]
     },
     "execution_count": 115,
     "metadata": {},
     "output_type": "execute_result"
    }
   ],
   "source": [
    "greet('Omolewa')"
   ]
  },
  {
   "cell_type": "code",
   "execution_count": 130,
   "id": "bdf152e1",
   "metadata": {},
   "outputs": [],
   "source": [
    "def modify(func):\n",
    "    def decorator(name):\n",
    "        out = func(name)\n",
    "        out = out.split(',')\n",
    "        out.insert(0, 'Good')\n",
    "        return ' '.join(out)\n",
    "    return decorator"
   ]
  },
  {
   "cell_type": "code",
   "execution_count": 131,
   "id": "e666f15c",
   "metadata": {},
   "outputs": [],
   "source": [
    "d = modify(greet)"
   ]
  },
  {
   "cell_type": "code",
   "execution_count": 132,
   "id": "823b672d",
   "metadata": {},
   "outputs": [
    {
     "data": {
      "text/plain": [
       "<function __main__.modify.<locals>.decorator(name)>"
      ]
     },
     "execution_count": 132,
     "metadata": {},
     "output_type": "execute_result"
    }
   ],
   "source": [
    "d"
   ]
  },
  {
   "cell_type": "code",
   "execution_count": 134,
   "id": "e08bc038",
   "metadata": {},
   "outputs": [
    {
     "data": {
      "text/plain": [
       "'Good Morning  Dele'"
      ]
     },
     "execution_count": 134,
     "metadata": {},
     "output_type": "execute_result"
    }
   ],
   "source": [
    "d('Dele')"
   ]
  },
  {
   "cell_type": "code",
   "execution_count": 122,
   "id": "816efeb9",
   "metadata": {},
   "outputs": [],
   "source": [
    "n = 'Morning, Omolewa'"
   ]
  },
  {
   "cell_type": "code",
   "execution_count": 123,
   "id": "dfcff144",
   "metadata": {},
   "outputs": [
    {
     "data": {
      "text/plain": [
       "['Morning', ' Omolewa']"
      ]
     },
     "execution_count": 123,
     "metadata": {},
     "output_type": "execute_result"
    }
   ],
   "source": [
    "n.split(',')"
   ]
  },
  {
   "cell_type": "code",
   "execution_count": 124,
   "id": "134e9fca",
   "metadata": {},
   "outputs": [],
   "source": [
    "n = n.split(',')"
   ]
  },
  {
   "cell_type": "code",
   "execution_count": 127,
   "id": "396956f9",
   "metadata": {},
   "outputs": [],
   "source": [
    "n.insert(0, 'Good')"
   ]
  },
  {
   "cell_type": "code",
   "execution_count": 128,
   "id": "3a46136c",
   "metadata": {},
   "outputs": [
    {
     "data": {
      "text/plain": [
       "['Good', 'Morning', ' Omolewa']"
      ]
     },
     "execution_count": 128,
     "metadata": {},
     "output_type": "execute_result"
    }
   ],
   "source": [
    "n"
   ]
  },
  {
   "cell_type": "code",
   "execution_count": 129,
   "id": "bcd684c4",
   "metadata": {},
   "outputs": [
    {
     "data": {
      "text/plain": [
       "'Good Morning  Omolewa'"
      ]
     },
     "execution_count": 129,
     "metadata": {},
     "output_type": "execute_result"
    }
   ],
   "source": [
    "' '.join(n)"
   ]
  },
  {
   "cell_type": "code",
   "execution_count": 135,
   "id": "ab94a011",
   "metadata": {},
   "outputs": [],
   "source": [
    "def modify(func):\n",
    "    def decorator(name):\n",
    "        out = func(name)\n",
    "        out = out.split(',')\n",
    "        out.insert(0, 'Good')\n",
    "        return ' '.join(out)\n",
    "    return decorator"
   ]
  },
  {
   "cell_type": "code",
   "execution_count": 136,
   "id": "a9fc9d4f",
   "metadata": {},
   "outputs": [],
   "source": [
    "@modify\n",
    "def greet(name):\n",
    "    return f'Morning, {name}'"
   ]
  },
  {
   "cell_type": "code",
   "execution_count": 137,
   "id": "4c99e2df",
   "metadata": {},
   "outputs": [
    {
     "data": {
      "text/plain": [
       "'Good Morning  Bolu'"
      ]
     },
     "execution_count": 137,
     "metadata": {},
     "output_type": "execute_result"
    }
   ],
   "source": [
    "greet('Bolu')"
   ]
  },
  {
   "cell_type": "code",
   "execution_count": 140,
   "id": "52b6e110",
   "metadata": {},
   "outputs": [],
   "source": [
    "def modify(func):\n",
    "    def decorator(name):\n",
    "        return f'Goodbye {name}'\n",
    "    return decorator\n",
    "\n",
    "@modify\n",
    "def greet(name):\n",
    "    return f'Morning, {name}'"
   ]
  },
  {
   "cell_type": "code",
   "execution_count": 141,
   "id": "1406f1a9",
   "metadata": {},
   "outputs": [
    {
     "data": {
      "text/plain": [
       "'Goodbye Omolewa'"
      ]
     },
     "execution_count": 141,
     "metadata": {},
     "output_type": "execute_result"
    }
   ],
   "source": [
    "greet('Omolewa')"
   ]
  },
  {
   "cell_type": "code",
   "execution_count": 142,
   "id": "a3b79a0b",
   "metadata": {},
   "outputs": [
    {
     "data": {
      "text/plain": [
       "'Goodbye Dele'"
      ]
     },
     "execution_count": 142,
     "metadata": {},
     "output_type": "execute_result"
    }
   ],
   "source": [
    "greet('Dele')"
   ]
  },
  {
   "cell_type": "code",
   "execution_count": 154,
   "id": "c48feebe",
   "metadata": {},
   "outputs": [],
   "source": [
    "# Recursive function\n",
    "def add(x):\n",
    "    if x < 1:\n",
    "        return 0\n",
    "    else:\n",
    "        return x + add(x - 1)"
   ]
  },
  {
   "cell_type": "code",
   "execution_count": 158,
   "id": "723f4c76",
   "metadata": {},
   "outputs": [
    {
     "data": {
      "text/plain": [
       "5050"
      ]
     },
     "execution_count": 158,
     "metadata": {},
     "output_type": "execute_result"
    }
   ],
   "source": [
    "add(100)"
   ]
  },
  {
   "cell_type": "code",
   "execution_count": null,
   "id": "5a1a60f9",
   "metadata": {},
   "outputs": [],
   "source": []
  }
 ],
 "metadata": {
  "kernelspec": {
   "display_name": "Python 3 (ipykernel)",
   "language": "python",
   "name": "python3"
  },
  "language_info": {
   "codemirror_mode": {
    "name": "ipython",
    "version": 3
   },
   "file_extension": ".py",
   "mimetype": "text/x-python",
   "name": "python",
   "nbconvert_exporter": "python",
   "pygments_lexer": "ipython3",
   "version": "3.9.7"
  }
 },
 "nbformat": 4,
 "nbformat_minor": 5
}
