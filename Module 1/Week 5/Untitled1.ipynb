{
 "cells": [
  {
   "cell_type": "code",
   "execution_count": 19,
   "id": "efd8c6e6",
   "metadata": {},
   "outputs": [],
   "source": [
    "class Person():\n",
    "    country = 'Nigeria'\n",
    "    def __init__(self, fname, lname, mname):\n",
    "        self.firstname = fname\n",
    "        self.lastname = lname\n",
    "        self.middlename = mname\n",
    "\n",
    "    def printname(self):\n",
    "        print(self.firstname, self.lastname)"
   ]
  },
  {
   "cell_type": "code",
   "execution_count": 20,
   "id": "1aaadcd9",
   "metadata": {},
   "outputs": [],
   "source": [
    "person1 = Person('Omolewa', 'Adaramola', 'Bukola')\n",
    "person2 = Person('Bolu', 'Ajibade', 'Oluwa')"
   ]
  },
  {
   "cell_type": "code",
   "execution_count": 21,
   "id": "df090c94",
   "metadata": {},
   "outputs": [
    {
     "data": {
      "text/plain": [
       "'Omolewa'"
      ]
     },
     "execution_count": 21,
     "metadata": {},
     "output_type": "execute_result"
    }
   ],
   "source": [
    "person1.firstname"
   ]
  },
  {
   "cell_type": "code",
   "execution_count": 24,
   "id": "c51fb378",
   "metadata": {},
   "outputs": [
    {
     "data": {
      "text/plain": [
       "'Bolu'"
      ]
     },
     "execution_count": 24,
     "metadata": {},
     "output_type": "execute_result"
    }
   ],
   "source": [
    "person2.firstname"
   ]
  },
  {
   "cell_type": "code",
   "execution_count": 25,
   "id": "6ba53eeb",
   "metadata": {},
   "outputs": [
    {
     "name": "stdout",
     "output_type": "stream",
     "text": [
      "Omolewa Adaramola\n"
     ]
    }
   ],
   "source": [
    "person1.printname()"
   ]
  },
  {
   "cell_type": "code",
   "execution_count": 26,
   "id": "5c3acdef",
   "metadata": {},
   "outputs": [
    {
     "data": {
      "text/plain": [
       "<bound method Person.printname of <__main__.Person object at 0x0000029EFD497A90>>"
      ]
     },
     "execution_count": 26,
     "metadata": {},
     "output_type": "execute_result"
    }
   ],
   "source": [
    "person1.printname"
   ]
  },
  {
   "cell_type": "code",
   "execution_count": 27,
   "id": "c96d11ea",
   "metadata": {},
   "outputs": [],
   "source": [
    "new  = person1.printname"
   ]
  },
  {
   "cell_type": "code",
   "execution_count": 28,
   "id": "27c4581c",
   "metadata": {},
   "outputs": [
    {
     "name": "stdout",
     "output_type": "stream",
     "text": [
      "Omolewa Adaramola\n"
     ]
    }
   ],
   "source": [
    "new()"
   ]
  },
  {
   "cell_type": "code",
   "execution_count": 29,
   "id": "99cb442b",
   "metadata": {},
   "outputs": [],
   "source": [
    "class Person():\n",
    "    country = 'Nigeria'\n",
    "    def __init__(self, fname, lname, mname):\n",
    "        self.firstname = fname\n",
    "        self.lastname = lname\n",
    "        self.middlename = mname\n",
    "\n",
    "    def printname(self):\n",
    "        print(self.firstname, self.lastname)"
   ]
  },
  {
   "cell_type": "code",
   "execution_count": 37,
   "id": "f2ca0bee",
   "metadata": {},
   "outputs": [],
   "source": [
    "class Student(Person):\n",
    "    \n",
    "    def callname(self):\n",
    "        print('Great !!!!!')"
   ]
  },
  {
   "cell_type": "code",
   "execution_count": 40,
   "id": "fe475d5a",
   "metadata": {},
   "outputs": [],
   "source": [
    "x = Student(\"Mike\", \"Olsen\", 'Omolewa')"
   ]
  },
  {
   "cell_type": "code",
   "execution_count": 41,
   "id": "a9c74755",
   "metadata": {},
   "outputs": [
    {
     "name": "stdout",
     "output_type": "stream",
     "text": [
      "Mike Olsen\n"
     ]
    }
   ],
   "source": [
    "x.printname()"
   ]
  },
  {
   "cell_type": "code",
   "execution_count": 59,
   "id": "02d6edb1",
   "metadata": {},
   "outputs": [],
   "source": [
    "class Person():\n",
    "    country = 'Nigeria'\n",
    "    def __init__(self, fname, lname):\n",
    "        self.firstname = fname\n",
    "        self.lastname = lname\n",
    "\n",
    "    def printname(self):\n",
    "        print(self.firstname, self.lastname)\n",
    "        \n",
    "class Student(Person):\n",
    "    def __init__(self, fname, lname):\n",
    "        Person.__init__(self, fname, lname)"
   ]
  },
  {
   "cell_type": "markdown",
   "id": "c7438c7b",
   "metadata": {},
   "source": [
    "class Student(Person):\n",
    "    def __init__(self, fname, mname):\n",
    "        Person(fname, lname)"
   ]
  },
  {
   "cell_type": "code",
   "execution_count": 60,
   "id": "3e806ee1",
   "metadata": {},
   "outputs": [],
   "source": [
    "x = Student(\"Mike\", 'Omolewa')"
   ]
  },
  {
   "cell_type": "code",
   "execution_count": 61,
   "id": "446734c2",
   "metadata": {},
   "outputs": [
    {
     "name": "stdout",
     "output_type": "stream",
     "text": [
      "Mike Omolewa\n"
     ]
    }
   ],
   "source": [
    "x.printname()"
   ]
  },
  {
   "cell_type": "code",
   "execution_count": 62,
   "id": "430564db",
   "metadata": {},
   "outputs": [],
   "source": [
    "class Student(Person):\n",
    "    def __init__(self, fname, lname):\n",
    "        super().__init__(fname, lname)"
   ]
  },
  {
   "cell_type": "code",
   "execution_count": 63,
   "id": "851b9806",
   "metadata": {},
   "outputs": [],
   "source": [
    "class Student(Person):\n",
    "  def __init__(self, fname, lname):\n",
    "    super().__init__(fname, lname)\n",
    "    self.graduationyear = 2019"
   ]
  },
  {
   "cell_type": "code",
   "execution_count": 64,
   "id": "fe7fe548",
   "metadata": {},
   "outputs": [],
   "source": [
    "x = Student(\"Mike\", 'Omolewa')"
   ]
  },
  {
   "cell_type": "code",
   "execution_count": null,
   "id": "b077abc6",
   "metadata": {},
   "outputs": [],
   "source": [
    "class Student(Person):\n",
    "  def __init__(self, fname, lname, year):\n",
    "    super().__init__(fname, lname)\n",
    "    self.graduationyear = year\n",
    "\n",
    "  def welcome(self):\n",
    "    print(\"Welcome\", self.firstname, self.lastname, \"to the class of\", self.graduationyear)"
   ]
  },
  {
   "cell_type": "code",
   "execution_count": null,
   "id": "6ef121d5",
   "metadata": {},
   "outputs": [],
   "source": []
  },
  {
   "cell_type": "code",
   "execution_count": 72,
   "id": "77865964",
   "metadata": {},
   "outputs": [],
   "source": [
    "def maths(x, y):\n",
    "    return x + y"
   ]
  },
  {
   "cell_type": "code",
   "execution_count": 73,
   "id": "72336dcc",
   "metadata": {},
   "outputs": [
    {
     "data": {
      "text/plain": [
       "5"
      ]
     },
     "execution_count": 73,
     "metadata": {},
     "output_type": "execute_result"
    }
   ],
   "source": [
    "maths(2, 3)"
   ]
  },
  {
   "cell_type": "code",
   "execution_count": 69,
   "id": "beeef61c",
   "metadata": {},
   "outputs": [],
   "source": [
    "def concat(str1, str2):\n",
    "    return str1 + ' ' + str2"
   ]
  },
  {
   "cell_type": "code",
   "execution_count": 71,
   "id": "22728157",
   "metadata": {},
   "outputs": [
    {
     "data": {
      "text/plain": [
       "'omolewa adaramola'"
      ]
     },
     "execution_count": 71,
     "metadata": {},
     "output_type": "execute_result"
    }
   ],
   "source": [
    "concat('omolewa', 'adaramola')"
   ]
  },
  {
   "cell_type": "code",
   "execution_count": 74,
   "id": "0fbe2fd7",
   "metadata": {},
   "outputs": [],
   "source": [
    "def perform(v, c):\n",
    "    if type(v) == int and type(c) == int:\n",
    "        return v + c\n",
    "    else:\n",
    "        return v + ' ' + c"
   ]
  },
  {
   "cell_type": "code",
   "execution_count": 75,
   "id": "c239717e",
   "metadata": {},
   "outputs": [
    {
     "data": {
      "text/plain": [
       "5"
      ]
     },
     "execution_count": 75,
     "metadata": {},
     "output_type": "execute_result"
    }
   ],
   "source": [
    "perform(2, 3)"
   ]
  },
  {
   "cell_type": "code",
   "execution_count": 76,
   "id": "6d5c54b1",
   "metadata": {},
   "outputs": [
    {
     "data": {
      "text/plain": [
       "'omo bolu'"
      ]
     },
     "execution_count": 76,
     "metadata": {},
     "output_type": "execute_result"
    }
   ],
   "source": [
    "perform('omo', 'bolu')"
   ]
  },
  {
   "cell_type": "code",
   "execution_count": 77,
   "id": "da9709f1",
   "metadata": {},
   "outputs": [],
   "source": [
    "def perform(func1, func2, v, c):\n",
    "    if type(v) == int and type(c) == int:\n",
    "        return func1(v, c)\n",
    "    else:\n",
    "        return func2(v, c)"
   ]
  },
  {
   "cell_type": "code",
   "execution_count": 83,
   "id": "b8c8b470",
   "metadata": {},
   "outputs": [
    {
     "data": {
      "text/plain": [
       "'asido omolewa'"
      ]
     },
     "execution_count": 83,
     "metadata": {},
     "output_type": "execute_result"
    }
   ],
   "source": [
    "perform(maths, concat, 'asido', 'omolewa')"
   ]
  },
  {
   "cell_type": "code",
   "execution_count": 79,
   "id": "db069000",
   "metadata": {},
   "outputs": [
    {
     "data": {
      "text/plain": [
       "<function __main__.maths(x, y)>"
      ]
     },
     "execution_count": 79,
     "metadata": {},
     "output_type": "execute_result"
    }
   ],
   "source": [
    "maths"
   ]
  },
  {
   "cell_type": "code",
   "execution_count": 81,
   "id": "366115ea",
   "metadata": {},
   "outputs": [],
   "source": [
    "b = maths"
   ]
  },
  {
   "cell_type": "code",
   "execution_count": 82,
   "id": "0e99420b",
   "metadata": {},
   "outputs": [
    {
     "data": {
      "text/plain": [
       "6"
      ]
     },
     "execution_count": 82,
     "metadata": {},
     "output_type": "execute_result"
    }
   ],
   "source": [
    "b(2, 4)"
   ]
  },
  {
   "cell_type": "code",
   "execution_count": 87,
   "id": "d6c93dc9",
   "metadata": {},
   "outputs": [],
   "source": [
    "def saymyname(func, name):\n",
    "    return f'My name is {func(name)}'"
   ]
  },
  {
   "cell_type": "code",
   "execution_count": 88,
   "id": "5523c173",
   "metadata": {},
   "outputs": [
    {
     "name": "stdout",
     "output_type": "stream",
     "text": [
      "omolewa\n"
     ]
    },
    {
     "data": {
      "text/plain": [
       "'My name is None'"
      ]
     },
     "execution_count": 88,
     "metadata": {},
     "output_type": "execute_result"
    }
   ],
   "source": [
    "saymyname(print, 'omolewa')"
   ]
  },
  {
   "cell_type": "code",
   "execution_count": 90,
   "id": "baebeec6",
   "metadata": {},
   "outputs": [],
   "source": [
    "import math"
   ]
  },
  {
   "cell_type": "code",
   "execution_count": 91,
   "id": "a2b208d2",
   "metadata": {},
   "outputs": [
    {
     "data": {
      "text/plain": [
       "10"
      ]
     },
     "execution_count": 91,
     "metadata": {},
     "output_type": "execute_result"
    }
   ],
   "source": [
    "math.comb(5, 2)"
   ]
  },
  {
   "cell_type": "code",
   "execution_count": 92,
   "id": "7f63115f",
   "metadata": {},
   "outputs": [],
   "source": [
    "from math import comb"
   ]
  },
  {
   "cell_type": "code",
   "execution_count": 93,
   "id": "34dbc823",
   "metadata": {},
   "outputs": [
    {
     "data": {
      "text/plain": [
       "7"
      ]
     },
     "execution_count": 93,
     "metadata": {},
     "output_type": "execute_result"
    }
   ],
   "source": [
    "comb(7, 1)"
   ]
  },
  {
   "cell_type": "code",
   "execution_count": 94,
   "id": "21728215",
   "metadata": {},
   "outputs": [
    {
     "data": {
      "text/plain": [
       "3628800"
      ]
     },
     "execution_count": 94,
     "metadata": {},
     "output_type": "execute_result"
    }
   ],
   "source": [
    "math.factorial(10)"
   ]
  },
  {
   "cell_type": "code",
   "execution_count": 95,
   "id": "01c029fe",
   "metadata": {},
   "outputs": [],
   "source": [
    "from math import factorial"
   ]
  },
  {
   "cell_type": "code",
   "execution_count": 97,
   "id": "4c5358d4",
   "metadata": {},
   "outputs": [],
   "source": [
    "def combination(x, y, func):\n",
    "    return (func(x) / (func(x - y) * func(y)))"
   ]
  },
  {
   "cell_type": "code",
   "execution_count": 98,
   "id": "b76ffbd4",
   "metadata": {},
   "outputs": [
    {
     "data": {
      "text/plain": [
       "7.0"
      ]
     },
     "execution_count": 98,
     "metadata": {},
     "output_type": "execute_result"
    }
   ],
   "source": [
    "combination(7, 1, factorial)"
   ]
  },
  {
   "cell_type": "code",
   "execution_count": null,
   "id": "917e7b13",
   "metadata": {},
   "outputs": [],
   "source": []
  }
 ],
 "metadata": {
  "kernelspec": {
   "display_name": "Python 3 (ipykernel)",
   "language": "python",
   "name": "python3"
  },
  "language_info": {
   "codemirror_mode": {
    "name": "ipython",
    "version": 3
   },
   "file_extension": ".py",
   "mimetype": "text/x-python",
   "name": "python",
   "nbconvert_exporter": "python",
   "pygments_lexer": "ipython3",
   "version": "3.9.7"
  }
 },
 "nbformat": 4,
 "nbformat_minor": 5
}
