{
 "cells": [
  {
   "cell_type": "code",
   "execution_count": 1,
   "id": "0a016304",
   "metadata": {},
   "outputs": [
    {
     "data": {
      "text/plain": [
       "<function __main__.<lambda>(x)>"
      ]
     },
     "execution_count": 1,
     "metadata": {},
     "output_type": "execute_result"
    }
   ],
   "source": [
    "lambda x: x ** 2"
   ]
  },
  {
   "cell_type": "code",
   "execution_count": 2,
   "id": "3d13f087",
   "metadata": {},
   "outputs": [],
   "source": [
    "square1 = lambda x: x ** 2"
   ]
  },
  {
   "cell_type": "code",
   "execution_count": 3,
   "id": "d522ad2b",
   "metadata": {},
   "outputs": [
    {
     "data": {
      "text/plain": [
       "25"
      ]
     },
     "execution_count": 3,
     "metadata": {},
     "output_type": "execute_result"
    }
   ],
   "source": [
    "square1(5)"
   ]
  },
  {
   "cell_type": "code",
   "execution_count": 4,
   "id": "5c376a25",
   "metadata": {},
   "outputs": [
    {
     "data": {
      "text/plain": [
       "'<lambda>'"
      ]
     },
     "execution_count": 4,
     "metadata": {},
     "output_type": "execute_result"
    }
   ],
   "source": [
    "square1.__name__"
   ]
  },
  {
   "cell_type": "code",
   "execution_count": 5,
   "id": "19634410",
   "metadata": {},
   "outputs": [],
   "source": [
    "def square2(func):\n",
    "    return func(3)"
   ]
  },
  {
   "cell_type": "code",
   "execution_count": 6,
   "id": "a84687a1",
   "metadata": {},
   "outputs": [
    {
     "data": {
      "text/plain": [
       "9"
      ]
     },
     "execution_count": 6,
     "metadata": {},
     "output_type": "execute_result"
    }
   ],
   "source": [
    "square2(square1)"
   ]
  },
  {
   "cell_type": "code",
   "execution_count": 7,
   "id": "e5bb7bfc",
   "metadata": {},
   "outputs": [],
   "source": [
    "def maths():\n",
    "    def cube(x):\n",
    "        return x ** 3\n",
    "    return cube"
   ]
  },
  {
   "cell_type": "code",
   "execution_count": 8,
   "id": "485b99d0",
   "metadata": {},
   "outputs": [],
   "source": [
    "out = maths()"
   ]
  },
  {
   "cell_type": "code",
   "execution_count": 10,
   "id": "eef890cb",
   "metadata": {},
   "outputs": [
    {
     "data": {
      "text/plain": [
       "27"
      ]
     },
     "execution_count": 10,
     "metadata": {},
     "output_type": "execute_result"
    }
   ],
   "source": [
    "out(3)"
   ]
  },
  {
   "cell_type": "code",
   "execution_count": null,
   "id": "508205ba",
   "metadata": {},
   "outputs": [],
   "source": []
  },
  {
   "cell_type": "code",
   "execution_count": null,
   "id": "06439335",
   "metadata": {},
   "outputs": [],
   "source": []
  },
  {
   "cell_type": "code",
   "execution_count": null,
   "id": "4a462aac",
   "metadata": {},
   "outputs": [],
   "source": [
    "def sq():\n",
    "    pass\n",
    "\n",
    "def sd():\n",
    "    pass"
   ]
  },
  {
   "cell_type": "code",
   "execution_count": 44,
   "id": "75d7f756",
   "metadata": {},
   "outputs": [],
   "source": [
    "def sq():\n",
    "    \n",
    "\n",
    "    def sd():\n",
    "        \n",
    "    \n",
    "        def dq():\n",
    "            return 4\n",
    "        \n",
    "        return 5\n",
    "    \n",
    "    return 6"
   ]
  },
  {
   "cell_type": "code",
   "execution_count": null,
   "id": "a26b50cf",
   "metadata": {},
   "outputs": [],
   "source": []
  },
  {
   "cell_type": "code",
   "execution_count": null,
   "id": "362220ee",
   "metadata": {},
   "outputs": [],
   "source": []
  },
  {
   "cell_type": "code",
   "execution_count": 50,
   "id": "3d638628",
   "metadata": {},
   "outputs": [],
   "source": [
    "def decorator_function(original_function):\n",
    "    \n",
    "    def wrapper_function():\n",
    "        print('Wrapper excuted this before {}'.format(original_function.__name__))\n",
    "        \n",
    "        return original_function()\n",
    "    return wrapper_function\n",
    "\n"
   ]
  },
  {
   "cell_type": "code",
   "execution_count": 56,
   "id": "21013b7a",
   "metadata": {},
   "outputs": [],
   "source": [
    "@decorator_function\n",
    "def loko():\n",
    "    print('Display function ran')"
   ]
  },
  {
   "cell_type": "code",
   "execution_count": null,
   "id": "ed989f9a",
   "metadata": {},
   "outputs": [],
   "source": [
    "loko = decorator_function(loko)"
   ]
  },
  {
   "cell_type": "code",
   "execution_count": 57,
   "id": "9207a7d2",
   "metadata": {},
   "outputs": [
    {
     "name": "stdout",
     "output_type": "stream",
     "text": [
      "Wrapper excuted this before loko\n",
      "Display function ran\n"
     ]
    }
   ],
   "source": [
    "loko()"
   ]
  },
  {
   "cell_type": "code",
   "execution_count": null,
   "id": "254d8a08",
   "metadata": {},
   "outputs": [],
   "source": []
  },
  {
   "cell_type": "code",
   "execution_count": 22,
   "id": "9b5fcfba",
   "metadata": {},
   "outputs": [
    {
     "data": {
      "text/plain": [
       "<function __main__.decorator_function.<locals>.wrapper_function()>"
      ]
     },
     "execution_count": 22,
     "metadata": {},
     "output_type": "execute_result"
    }
   ],
   "source": [
    "decorator_function(display)"
   ]
  },
  {
   "cell_type": "code",
   "execution_count": null,
   "id": "2e41ec67",
   "metadata": {},
   "outputs": [],
   "source": [
    "original_function = display"
   ]
  },
  {
   "cell_type": "code",
   "execution_count": null,
   "id": "e2683bb2",
   "metadata": {},
   "outputs": [],
   "source": [
    "wrapper_function"
   ]
  },
  {
   "cell_type": "code",
   "execution_count": 51,
   "id": "ecad2f67",
   "metadata": {},
   "outputs": [],
   "source": [
    "out = decorator_function(display)"
   ]
  },
  {
   "cell_type": "code",
   "execution_count": 53,
   "id": "0b1e8ff9",
   "metadata": {},
   "outputs": [
    {
     "name": "stdout",
     "output_type": "stream",
     "text": [
      "Wrapper excuted this before display\n",
      "Display function ran\n"
     ]
    }
   ],
   "source": [
    "out()"
   ]
  },
  {
   "cell_type": "code",
   "execution_count": 54,
   "id": "4c8c558c",
   "metadata": {},
   "outputs": [],
   "source": [
    "display = decorator_function(display)"
   ]
  },
  {
   "cell_type": "code",
   "execution_count": 55,
   "id": "cb01fd8f",
   "metadata": {},
   "outputs": [
    {
     "name": "stdout",
     "output_type": "stream",
     "text": [
      "Wrapper excuted this before display\n",
      "Display function ran\n"
     ]
    }
   ],
   "source": [
    "display()"
   ]
  },
  {
   "cell_type": "code",
   "execution_count": null,
   "id": "b25ddb83",
   "metadata": {},
   "outputs": [],
   "source": []
  },
  {
   "cell_type": "code",
   "execution_count": null,
   "id": "17aaf2d4",
   "metadata": {},
   "outputs": [],
   "source": []
  },
  {
   "cell_type": "code",
   "execution_count": null,
   "id": "fccaea6e",
   "metadata": {},
   "outputs": [],
   "source": []
  },
  {
   "cell_type": "code",
   "execution_count": null,
   "id": "2a6db881",
   "metadata": {},
   "outputs": [],
   "source": []
  },
  {
   "cell_type": "code",
   "execution_count": null,
   "id": "8b7b59a7",
   "metadata": {},
   "outputs": [],
   "source": []
  },
  {
   "cell_type": "code",
   "execution_count": null,
   "id": "40b7d486",
   "metadata": {},
   "outputs": [],
   "source": []
  },
  {
   "cell_type": "code",
   "execution_count": null,
   "id": "a23ff753",
   "metadata": {},
   "outputs": [],
   "source": []
  },
  {
   "cell_type": "code",
   "execution_count": null,
   "id": "ae773204",
   "metadata": {},
   "outputs": [],
   "source": []
  },
  {
   "cell_type": "code",
   "execution_count": null,
   "id": "33beadd8",
   "metadata": {},
   "outputs": [],
   "source": []
  },
  {
   "cell_type": "code",
   "execution_count": 49,
   "id": "2e395f30",
   "metadata": {},
   "outputs": [],
   "source": [
    "def square(x):\n",
    "    print('Omolewa')\n",
    "    return x ** 2\n",
    "    "
   ]
  },
  {
   "cell_type": "code",
   "execution_count": 43,
   "id": "089e4b7d",
   "metadata": {},
   "outputs": [],
   "source": [
    "z = square(4)"
   ]
  },
  {
   "cell_type": "code",
   "execution_count": null,
   "id": "258449c6",
   "metadata": {},
   "outputs": [],
   "source": []
  },
  {
   "cell_type": "code",
   "execution_count": null,
   "id": "c6e6831e",
   "metadata": {},
   "outputs": [],
   "source": []
  },
  {
   "cell_type": "code",
   "execution_count": 39,
   "id": "b2dc61fe",
   "metadata": {},
   "outputs": [],
   "source": [
    "def decorator_function(original_function):\n",
    "    \n",
    "    def wrapper_function():\n",
    "        print('Wrapper excuted this before {}'.format(original_function.__name__))\n",
    "        \n",
    "        return original_function()\n",
    "    return wrapper_function"
   ]
  },
  {
   "cell_type": "code",
   "execution_count": 40,
   "id": "57364ca2",
   "metadata": {},
   "outputs": [
    {
     "ename": "NameError",
     "evalue": "name 'wrapper_function' is not defined",
     "output_type": "error",
     "traceback": [
      "\u001b[1;31m---------------------------------------------------------------------------\u001b[0m",
      "\u001b[1;31mNameError\u001b[0m                                 Traceback (most recent call last)",
      "\u001b[1;32mC:\\Users\\OMOLEW~1\\AppData\\Local\\Temp/ipykernel_38464/2724638789.py\u001b[0m in \u001b[0;36m<module>\u001b[1;34m\u001b[0m\n\u001b[1;32m----> 1\u001b[1;33m \u001b[0mwrapper_function\u001b[0m\u001b[1;33m(\u001b[0m\u001b[1;33m)\u001b[0m\u001b[1;33m\u001b[0m\u001b[1;33m\u001b[0m\u001b[0m\n\u001b[0m",
      "\u001b[1;31mNameError\u001b[0m: name 'wrapper_function' is not defined"
     ]
    }
   ],
   "source": [
    "wrapper_function()"
   ]
  },
  {
   "cell_type": "code",
   "execution_count": null,
   "id": "0b8ef8cb",
   "metadata": {},
   "outputs": [],
   "source": []
  },
  {
   "cell_type": "code",
   "execution_count": null,
   "id": "599db539",
   "metadata": {},
   "outputs": [],
   "source": []
  },
  {
   "cell_type": "code",
   "execution_count": 23,
   "id": "3edd6c58",
   "metadata": {},
   "outputs": [],
   "source": [
    "display = decorator_function(display)"
   ]
  },
  {
   "cell_type": "code",
   "execution_count": 24,
   "id": "72664ba2",
   "metadata": {},
   "outputs": [
    {
     "name": "stdout",
     "output_type": "stream",
     "text": [
      "Wrapper excuted this before display\n",
      "Display function ran\n"
     ]
    }
   ],
   "source": [
    "display()"
   ]
  },
  {
   "cell_type": "code",
   "execution_count": null,
   "id": "06fc880a",
   "metadata": {},
   "outputs": [],
   "source": []
  },
  {
   "cell_type": "code",
   "execution_count": null,
   "id": "e8412e78",
   "metadata": {},
   "outputs": [],
   "source": []
  },
  {
   "cell_type": "code",
   "execution_count": 12,
   "id": "bd844c9c",
   "metadata": {},
   "outputs": [],
   "source": [
    "def square(x):\n",
    "    return x ** 2"
   ]
  },
  {
   "cell_type": "code",
   "execution_count": 15,
   "id": "58ddd625",
   "metadata": {},
   "outputs": [
    {
     "data": {
      "text/plain": [
       "<function __main__.square(x)>"
      ]
     },
     "execution_count": 15,
     "metadata": {},
     "output_type": "execute_result"
    }
   ],
   "source": [
    "square"
   ]
  },
  {
   "cell_type": "code",
   "execution_count": 14,
   "id": "c8e9d2f6",
   "metadata": {},
   "outputs": [
    {
     "data": {
      "text/plain": [
       "9"
      ]
     },
     "execution_count": 14,
     "metadata": {},
     "output_type": "execute_result"
    }
   ],
   "source": [
    "square(3)"
   ]
  },
  {
   "cell_type": "code",
   "execution_count": 38,
   "id": "f75e8ea5",
   "metadata": {},
   "outputs": [],
   "source": [
    "def upper(name):\n",
    "    return name.upper()\n",
    "\n",
    "def lower(name):\n",
    "    return name.lower()"
   ]
  },
  {
   "cell_type": "code",
   "execution_count": 31,
   "id": "09dd11ba",
   "metadata": {},
   "outputs": [],
   "source": [
    "def convert(func):\n",
    "    return func()"
   ]
  },
  {
   "cell_type": "code",
   "execution_count": 33,
   "id": "83a2174a",
   "metadata": {},
   "outputs": [
    {
     "ename": "TypeError",
     "evalue": "upper() missing 1 required positional argument: 'name'",
     "output_type": "error",
     "traceback": [
      "\u001b[1;31m---------------------------------------------------------------------------\u001b[0m",
      "\u001b[1;31mTypeError\u001b[0m                                 Traceback (most recent call last)",
      "\u001b[1;32mC:\\Users\\OMOLEW~1\\AppData\\Local\\Temp/ipykernel_38464/2267817949.py\u001b[0m in \u001b[0;36m<module>\u001b[1;34m\u001b[0m\n\u001b[1;32m----> 1\u001b[1;33m \u001b[0mconvert\u001b[0m\u001b[1;33m(\u001b[0m\u001b[0mupper\u001b[0m\u001b[1;33m)\u001b[0m\u001b[1;33m\u001b[0m\u001b[1;33m\u001b[0m\u001b[0m\n\u001b[0m",
      "\u001b[1;32mC:\\Users\\OMOLEW~1\\AppData\\Local\\Temp/ipykernel_38464/3504297476.py\u001b[0m in \u001b[0;36mconvert\u001b[1;34m(func)\u001b[0m\n\u001b[0;32m      1\u001b[0m \u001b[1;32mdef\u001b[0m \u001b[0mconvert\u001b[0m\u001b[1;33m(\u001b[0m\u001b[0mfunc\u001b[0m\u001b[1;33m)\u001b[0m\u001b[1;33m:\u001b[0m\u001b[1;33m\u001b[0m\u001b[1;33m\u001b[0m\u001b[0m\n\u001b[1;32m----> 2\u001b[1;33m     \u001b[1;32mreturn\u001b[0m \u001b[0mfunc\u001b[0m\u001b[1;33m(\u001b[0m\u001b[1;33m)\u001b[0m\u001b[1;33m\u001b[0m\u001b[1;33m\u001b[0m\u001b[0m\n\u001b[0m",
      "\u001b[1;31mTypeError\u001b[0m: upper() missing 1 required positional argument: 'name'"
     ]
    }
   ],
   "source": [
    "convert(upper)"
   ]
  },
  {
   "cell_type": "code",
   "execution_count": 34,
   "id": "0a29cb9a",
   "metadata": {},
   "outputs": [],
   "source": [
    "func = upper"
   ]
  },
  {
   "cell_type": "code",
   "execution_count": 36,
   "id": "0e0d244d",
   "metadata": {},
   "outputs": [
    {
     "data": {
      "text/plain": [
       "'OMOLEWA'"
      ]
     },
     "execution_count": 36,
     "metadata": {},
     "output_type": "execute_result"
    }
   ],
   "source": [
    "func('omolewa')"
   ]
  },
  {
   "cell_type": "code",
   "execution_count": null,
   "id": "de3ee98a",
   "metadata": {},
   "outputs": [],
   "source": []
  },
  {
   "cell_type": "code",
   "execution_count": null,
   "id": "7f24d218",
   "metadata": {},
   "outputs": [],
   "source": []
  },
  {
   "cell_type": "code",
   "execution_count": null,
   "id": "8e4837cf",
   "metadata": {},
   "outputs": [],
   "source": []
  },
  {
   "cell_type": "code",
   "execution_count": null,
   "id": "11fec2ca",
   "metadata": {},
   "outputs": [],
   "source": []
  },
  {
   "cell_type": "code",
   "execution_count": 29,
   "id": "f454be1a",
   "metadata": {},
   "outputs": [
    {
     "name": "stdout",
     "output_type": "stream",
     "text": [
      "KOLA\n"
     ]
    }
   ],
   "source": [
    "upper('Kola')"
   ]
  },
  {
   "cell_type": "code",
   "execution_count": null,
   "id": "5bf3ac3c",
   "metadata": {},
   "outputs": [],
   "source": []
  },
  {
   "cell_type": "code",
   "execution_count": null,
   "id": "b98b35fd",
   "metadata": {},
   "outputs": [],
   "source": []
  },
  {
   "cell_type": "code",
   "execution_count": null,
   "id": "c9522478",
   "metadata": {},
   "outputs": [],
   "source": []
  },
  {
   "cell_type": "code",
   "execution_count": null,
   "id": "e34c47c7",
   "metadata": {},
   "outputs": [],
   "source": []
  },
  {
   "cell_type": "code",
   "execution_count": null,
   "id": "4f77f9cb",
   "metadata": {},
   "outputs": [],
   "source": []
  },
  {
   "cell_type": "code",
   "execution_count": null,
   "id": "3219f2de",
   "metadata": {},
   "outputs": [],
   "source": []
  }
 ],
 "metadata": {
  "kernelspec": {
   "display_name": "Python 3 (ipykernel)",
   "language": "python",
   "name": "python3"
  },
  "language_info": {
   "codemirror_mode": {
    "name": "ipython",
    "version": 3
   },
   "file_extension": ".py",
   "mimetype": "text/x-python",
   "name": "python",
   "nbconvert_exporter": "python",
   "pygments_lexer": "ipython3",
   "version": "3.9.7"
  }
 },
 "nbformat": 4,
 "nbformat_minor": 5
}
