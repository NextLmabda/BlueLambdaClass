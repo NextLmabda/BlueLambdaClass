{
 "cells": [
  {
   "cell_type": "code",
   "execution_count": 1,
   "id": "eb962635",
   "metadata": {},
   "outputs": [],
   "source": [
    "class Maths:\n",
    "    x = 5\n",
    "    y = 10"
   ]
  },
  {
   "cell_type": "code",
   "execution_count": 4,
   "id": "4a9131b0",
   "metadata": {},
   "outputs": [],
   "source": [
    "maths1 = Maths()\n",
    "maths2 = Maths()"
   ]
  },
  {
   "cell_type": "code",
   "execution_count": 5,
   "id": "8e53ebf7",
   "metadata": {},
   "outputs": [
    {
     "data": {
      "text/plain": [
       "5"
      ]
     },
     "execution_count": 5,
     "metadata": {},
     "output_type": "execute_result"
    }
   ],
   "source": [
    "maths1.x"
   ]
  },
  {
   "cell_type": "code",
   "execution_count": 119,
   "id": "96876a71",
   "metadata": {},
   "outputs": [
    {
     "ename": "TypeError",
     "evalue": "'int' object is not callable",
     "output_type": "error",
     "traceback": [
      "\u001b[1;31m---------------------------------------------------------------------------\u001b[0m",
      "\u001b[1;31mTypeError\u001b[0m                                 Traceback (most recent call last)",
      "\u001b[1;32mC:\\Users\\OMOLEW~1\\AppData\\Local\\Temp/ipykernel_27316/4021792668.py\u001b[0m in \u001b[0;36m<module>\u001b[1;34m\u001b[0m\n\u001b[1;32m----> 1\u001b[1;33m \u001b[0mmaths2\u001b[0m\u001b[1;33m.\u001b[0m\u001b[0mx\u001b[0m\u001b[1;33m(\u001b[0m\u001b[1;33m)\u001b[0m\u001b[1;33m\u001b[0m\u001b[1;33m\u001b[0m\u001b[0m\n\u001b[0m",
      "\u001b[1;31mTypeError\u001b[0m: 'int' object is not callable"
     ]
    }
   ],
   "source": [
    "maths2.x()"
   ]
  },
  {
   "cell_type": "code",
   "execution_count": 7,
   "id": "04e5dbf5",
   "metadata": {},
   "outputs": [],
   "source": [
    "maths1.x = 10000"
   ]
  },
  {
   "cell_type": "code",
   "execution_count": 8,
   "id": "ef0dcbeb",
   "metadata": {},
   "outputs": [
    {
     "data": {
      "text/plain": [
       "10000"
      ]
     },
     "execution_count": 8,
     "metadata": {},
     "output_type": "execute_result"
    }
   ],
   "source": [
    "maths1.x"
   ]
  },
  {
   "cell_type": "code",
   "execution_count": 9,
   "id": "9a8ec2d6",
   "metadata": {},
   "outputs": [
    {
     "data": {
      "text/plain": [
       "5"
      ]
     },
     "execution_count": 9,
     "metadata": {},
     "output_type": "execute_result"
    }
   ],
   "source": [
    "maths2.x"
   ]
  },
  {
   "cell_type": "code",
   "execution_count": null,
   "id": "fd584e0b",
   "metadata": {},
   "outputs": [],
   "source": [
    "Maths = Maths()"
   ]
  },
  {
   "cell_type": "code",
   "execution_count": 40,
   "id": "925e2956",
   "metadata": {},
   "outputs": [],
   "source": [
    "class Maths:\n",
    "    x = 5\n",
    "    y = 10\n",
    "    \n",
    "    def get(self):\n",
    "        print(self.out)\n",
    "        \n",
    "    def multiply(self, x, y):\n",
    "        return x * y\n",
    "    \n",
    "    def divide(self, x, y):\n",
    "        self.out = x / y\n",
    "        \n",
    "    "
   ]
  },
  {
   "cell_type": "code",
   "execution_count": 41,
   "id": "8da47035",
   "metadata": {},
   "outputs": [],
   "source": [
    "maths = Maths()"
   ]
  },
  {
   "cell_type": "code",
   "execution_count": 42,
   "id": "3294a04b",
   "metadata": {},
   "outputs": [
    {
     "data": {
      "text/plain": [
       "6"
      ]
     },
     "execution_count": 42,
     "metadata": {},
     "output_type": "execute_result"
    }
   ],
   "source": [
    "maths.multiply(2, 3)"
   ]
  },
  {
   "cell_type": "code",
   "execution_count": 43,
   "id": "da6ba762",
   "metadata": {},
   "outputs": [],
   "source": [
    "maths.divide(4, 2)"
   ]
  },
  {
   "cell_type": "code",
   "execution_count": 44,
   "id": "33f4ef3d",
   "metadata": {},
   "outputs": [
    {
     "name": "stdout",
     "output_type": "stream",
     "text": [
      "2.0\n"
     ]
    }
   ],
   "source": [
    "maths.get()"
   ]
  },
  {
   "cell_type": "code",
   "execution_count": 48,
   "id": "c40f24b2",
   "metadata": {},
   "outputs": [],
   "source": [
    "class Process:\n",
    "    \n",
    "    def print_fname(self):\n",
    "        print('Omolewa')\n",
    "        \n",
    "    def print_lname(self):\n",
    "        print('Adaramola')\n",
    "        \n",
    "    def print_mname(self):\n",
    "        print('Bukola')\n",
    "        \n",
    "    def run_process(self):\n",
    "        self.print_fname()\n",
    "        self.print_mname()\n",
    "        self.print_lname()"
   ]
  },
  {
   "cell_type": "code",
   "execution_count": 49,
   "id": "6aaff689",
   "metadata": {},
   "outputs": [],
   "source": [
    "process = Process()"
   ]
  },
  {
   "cell_type": "code",
   "execution_count": 50,
   "id": "e1f12942",
   "metadata": {},
   "outputs": [
    {
     "name": "stdout",
     "output_type": "stream",
     "text": [
      "Omolewa\n",
      "Bukola\n",
      "Adaramola\n"
     ]
    }
   ],
   "source": [
    "process.run_process()"
   ]
  },
  {
   "cell_type": "code",
   "execution_count": 60,
   "id": "5f737cf8",
   "metadata": {},
   "outputs": [],
   "source": [
    "class Process:\n",
    "    \n",
    "    def print_fname(self):\n",
    "        return 'Omolewa'\n",
    "        \n",
    "    def print_lname(self):\n",
    "        return 'Adaramola'\n",
    "        \n",
    "    def print_mname(self):\n",
    "        return 'Bukola'\n",
    "        \n",
    "    def run_process(self):\n",
    "        fname = self.print_fname()\n",
    "        lname = self.print_lname()\n",
    "        mname = self.print_mname()\n",
    "        \n",
    "        print('{}, {}, {}'.format(lname, fname, mname))\n",
    "        \n",
    "        print(' '.join([lname, fname, mname]))"
   ]
  },
  {
   "cell_type": "code",
   "execution_count": 61,
   "id": "e1e3be3b",
   "metadata": {},
   "outputs": [],
   "source": [
    "process = Process()"
   ]
  },
  {
   "cell_type": "code",
   "execution_count": 62,
   "id": "22643027",
   "metadata": {},
   "outputs": [
    {
     "name": "stdout",
     "output_type": "stream",
     "text": [
      "Adaramola, Omolewa, Bukola\n",
      "Adaramola Omolewa Bukola\n"
     ]
    }
   ],
   "source": [
    "process.run_process()"
   ]
  },
  {
   "cell_type": "code",
   "execution_count": 117,
   "id": "eb6da48e",
   "metadata": {},
   "outputs": [],
   "source": [
    "class Process:\n",
    "    \n",
    "    def __init__(self, lname, fname, mname = None):\n",
    "        pass\n",
    "        self.lname = lname\n",
    "        self.mname = mname\n",
    "        self.fname = fname\n",
    "        \n",
    "        def concat():\n",
    "            print('{0} {1}'.format(self.fname, self.lname))\n",
    "        concat()\n",
    "        \n",
    "    def print_fname(self):\n",
    "        return self.fname\n",
    "        \n",
    "    def print_lname(self):\n",
    "        return self.lname\n",
    "        \n",
    "    def print_mname(self):\n",
    "        return self.mname\n",
    "        \n",
    "    def run_process(self):\n",
    "        fname = self.print_fname()\n",
    "        lname = self.print_lname()\n",
    "        mname = self.print_mname()\n",
    "        \n",
    "        if mname == None:\n",
    "            print('{}, {}'.format(lname, fname))\n",
    "        else:\n",
    "            print('{}, {} {}'.format(lname, fname, mname))"
   ]
  },
  {
   "cell_type": "code",
   "execution_count": 118,
   "id": "bd7f6b3f",
   "metadata": {},
   "outputs": [
    {
     "name": "stdout",
     "output_type": "stream",
     "text": [
      "Bukola Adaramola\n"
     ]
    }
   ],
   "source": [
    "process = Process(lname = 'Adaramola', fname= 'Bukola', mname = 'David')"
   ]
  },
  {
   "cell_type": "code",
   "execution_count": 75,
   "id": "1c858714",
   "metadata": {},
   "outputs": [
    {
     "name": "stdout",
     "output_type": "stream",
     "text": [
      "Adaramola, Bukola David\n"
     ]
    }
   ],
   "source": [
    "process.run_process()"
   ]
  },
  {
   "cell_type": "code",
   "execution_count": null,
   "id": "3fabfef9",
   "metadata": {},
   "outputs": [],
   "source": []
  },
  {
   "cell_type": "code",
   "execution_count": 13,
   "id": "0b4be198",
   "metadata": {},
   "outputs": [],
   "source": [
    "x = [1, 2, 3, 4, 4, 2, 1, 10, 34]"
   ]
  },
  {
   "cell_type": "code",
   "execution_count": 14,
   "id": "010a75b0",
   "metadata": {},
   "outputs": [
    {
     "data": {
      "text/plain": [
       "{1, 2, 3, 4, 10, 34}"
      ]
     },
     "execution_count": 14,
     "metadata": {},
     "output_type": "execute_result"
    }
   ],
   "source": [
    "set(x)"
   ]
  },
  {
   "cell_type": "code",
   "execution_count": 15,
   "id": "9e20d514",
   "metadata": {},
   "outputs": [
    {
     "data": {
      "text/plain": [
       "{1, 2, 3}"
      ]
     },
     "execution_count": 15,
     "metadata": {},
     "output_type": "execute_result"
    }
   ],
   "source": [
    "set((1, 2, 2, 3))"
   ]
  },
  {
   "cell_type": "code",
   "execution_count": 83,
   "id": "44b5713b",
   "metadata": {},
   "outputs": [],
   "source": [
    "import pandas as pd"
   ]
  },
  {
   "cell_type": "code",
   "execution_count": 86,
   "id": "44c08fa9",
   "metadata": {},
   "outputs": [],
   "source": [
    "pd.set_option('display.max_columns', 100)"
   ]
  },
  {
   "cell_type": "code",
   "execution_count": 87,
   "id": "40b1f5f5",
   "metadata": {},
   "outputs": [],
   "source": [
    "df = pd.read_csv('Telco.csv')"
   ]
  },
  {
   "cell_type": "code",
   "execution_count": 96,
   "id": "452a8eea",
   "metadata": {},
   "outputs": [],
   "source": [
    "df = df.head(3)"
   ]
  },
  {
   "cell_type": "code",
   "execution_count": 100,
   "id": "f797f24c",
   "metadata": {},
   "outputs": [
    {
     "data": {
      "text/plain": [
       "customerID           object\n",
       "gender               object\n",
       "SeniorCitizen         int64\n",
       "Partner              object\n",
       "Dependents           object\n",
       "tenure                int64\n",
       "PhoneService         object\n",
       "MultipleLines        object\n",
       "InternetService      object\n",
       "OnlineSecurity       object\n",
       "OnlineBackup         object\n",
       "DeviceProtection     object\n",
       "TechSupport          object\n",
       "StreamingTV          object\n",
       "StreamingMovies      object\n",
       "Contract             object\n",
       "PaperlessBilling      int64\n",
       "PaymentMethod        object\n",
       "MonthlyCharges      float64\n",
       "TotalCharges         object\n",
       "Churn                object\n",
       "dtype: object"
      ]
     },
     "execution_count": 100,
     "metadata": {},
     "output_type": "execute_result"
    }
   ],
   "source": [
    "df.dtypes"
   ]
  },
  {
   "cell_type": "code",
   "execution_count": 101,
   "id": "e19a8554",
   "metadata": {},
   "outputs": [
    {
     "data": {
      "text/html": [
       "<div>\n",
       "<style scoped>\n",
       "    .dataframe tbody tr th:only-of-type {\n",
       "        vertical-align: middle;\n",
       "    }\n",
       "\n",
       "    .dataframe tbody tr th {\n",
       "        vertical-align: top;\n",
       "    }\n",
       "\n",
       "    .dataframe thead th {\n",
       "        text-align: right;\n",
       "    }\n",
       "</style>\n",
       "<table border=\"1\" class=\"dataframe\">\n",
       "  <thead>\n",
       "    <tr style=\"text-align: right;\">\n",
       "      <th></th>\n",
       "      <th>customerID</th>\n",
       "      <th>gender</th>\n",
       "      <th>SeniorCitizen</th>\n",
       "      <th>Partner</th>\n",
       "      <th>Dependents</th>\n",
       "      <th>tenure</th>\n",
       "      <th>PhoneService</th>\n",
       "      <th>MultipleLines</th>\n",
       "      <th>InternetService</th>\n",
       "      <th>OnlineSecurity</th>\n",
       "      <th>OnlineBackup</th>\n",
       "      <th>DeviceProtection</th>\n",
       "      <th>TechSupport</th>\n",
       "      <th>StreamingTV</th>\n",
       "      <th>StreamingMovies</th>\n",
       "      <th>Contract</th>\n",
       "      <th>PaperlessBilling</th>\n",
       "      <th>PaymentMethod</th>\n",
       "      <th>MonthlyCharges</th>\n",
       "      <th>TotalCharges</th>\n",
       "      <th>Churn</th>\n",
       "    </tr>\n",
       "  </thead>\n",
       "  <tbody>\n",
       "    <tr>\n",
       "      <th>0</th>\n",
       "      <td>7590-VHVEG</td>\n",
       "      <td>Female</td>\n",
       "      <td>0</td>\n",
       "      <td>Yes</td>\n",
       "      <td>No</td>\n",
       "      <td>1</td>\n",
       "      <td>No</td>\n",
       "      <td>No phone service</td>\n",
       "      <td>DSL</td>\n",
       "      <td>No</td>\n",
       "      <td>Yes</td>\n",
       "      <td>No</td>\n",
       "      <td>No</td>\n",
       "      <td>No</td>\n",
       "      <td>No</td>\n",
       "      <td>Month-to-month</td>\n",
       "      <td>0</td>\n",
       "      <td>Electronic check</td>\n",
       "      <td>29.85</td>\n",
       "      <td>29.85</td>\n",
       "      <td>No</td>\n",
       "    </tr>\n",
       "    <tr>\n",
       "      <th>1</th>\n",
       "      <td>5575-GNVDE</td>\n",
       "      <td>Male</td>\n",
       "      <td>0</td>\n",
       "      <td>No</td>\n",
       "      <td>No</td>\n",
       "      <td>34</td>\n",
       "      <td>Yes</td>\n",
       "      <td>No</td>\n",
       "      <td>DSL</td>\n",
       "      <td>Yes</td>\n",
       "      <td>No</td>\n",
       "      <td>Yes</td>\n",
       "      <td>No</td>\n",
       "      <td>No</td>\n",
       "      <td>No</td>\n",
       "      <td>One year</td>\n",
       "      <td>0</td>\n",
       "      <td>Mailed check</td>\n",
       "      <td>56.95</td>\n",
       "      <td>1889.5</td>\n",
       "      <td>No</td>\n",
       "    </tr>\n",
       "    <tr>\n",
       "      <th>2</th>\n",
       "      <td>3668-QPYBK</td>\n",
       "      <td>Male</td>\n",
       "      <td>0</td>\n",
       "      <td>No</td>\n",
       "      <td>No</td>\n",
       "      <td>2</td>\n",
       "      <td>Yes</td>\n",
       "      <td>No</td>\n",
       "      <td>DSL</td>\n",
       "      <td>Yes</td>\n",
       "      <td>Yes</td>\n",
       "      <td>No</td>\n",
       "      <td>No</td>\n",
       "      <td>No</td>\n",
       "      <td>No</td>\n",
       "      <td>Month-to-month</td>\n",
       "      <td>0</td>\n",
       "      <td>Mailed check</td>\n",
       "      <td>53.85</td>\n",
       "      <td>108.15</td>\n",
       "      <td>Yes</td>\n",
       "    </tr>\n",
       "  </tbody>\n",
       "</table>\n",
       "</div>"
      ],
      "text/plain": [
       "   customerID  gender  SeniorCitizen Partner Dependents  tenure PhoneService  \\\n",
       "0  7590-VHVEG  Female              0     Yes         No       1           No   \n",
       "1  5575-GNVDE    Male              0      No         No      34          Yes   \n",
       "2  3668-QPYBK    Male              0      No         No       2          Yes   \n",
       "\n",
       "      MultipleLines InternetService OnlineSecurity OnlineBackup  \\\n",
       "0  No phone service             DSL             No          Yes   \n",
       "1                No             DSL            Yes           No   \n",
       "2                No             DSL            Yes          Yes   \n",
       "\n",
       "  DeviceProtection TechSupport StreamingTV StreamingMovies        Contract  \\\n",
       "0               No          No          No              No  Month-to-month   \n",
       "1              Yes          No          No              No        One year   \n",
       "2               No          No          No              No  Month-to-month   \n",
       "\n",
       "   PaperlessBilling     PaymentMethod  MonthlyCharges TotalCharges Churn  \n",
       "0                 0  Electronic check           29.85        29.85    No  \n",
       "1                 0      Mailed check           56.95       1889.5    No  \n",
       "2                 0      Mailed check           53.85       108.15   Yes  "
      ]
     },
     "execution_count": 101,
     "metadata": {},
     "output_type": "execute_result"
    }
   ],
   "source": [
    "df"
   ]
  },
  {
   "cell_type": "code",
   "execution_count": 106,
   "id": "ea648700",
   "metadata": {},
   "outputs": [],
   "source": [
    "class Process:\n",
    "    def __init__(self, df):\n",
    "        print('Brown')\n",
    "        self.df = df\n",
    "    \n",
    "    def convert(self):\n",
    "        self.df['PaperlessBilling'] = self.df['PaperlessBilling'].apply(lambda x: 1 if x == 'Yes'\n",
    "                                                                       else(0))\n",
    "        \n",
    "    def multiply(self):\n",
    "        self.df['Charges'] = self.df['MonthlyCharges'] * self.df['TotalCharges']\n",
    "        \n",
    "    def run(self):\n",
    "        self.convert()\n",
    "        #self.multiply()\n",
    "        return self.df"
   ]
  },
  {
   "cell_type": "code",
   "execution_count": 107,
   "id": "d817e3bb",
   "metadata": {},
   "outputs": [
    {
     "name": "stdout",
     "output_type": "stream",
     "text": [
      "Brown\n"
     ]
    }
   ],
   "source": [
    "process = Process(df)"
   ]
  },
  {
   "cell_type": "code",
   "execution_count": 104,
   "id": "ec88afb1",
   "metadata": {},
   "outputs": [
    {
     "name": "stderr",
     "output_type": "stream",
     "text": [
      "C:\\Users\\OMOLEW~1\\AppData\\Local\\Temp/ipykernel_27316/2845300179.py:6: SettingWithCopyWarning: \n",
      "A value is trying to be set on a copy of a slice from a DataFrame.\n",
      "Try using .loc[row_indexer,col_indexer] = value instead\n",
      "\n",
      "See the caveats in the documentation: https://pandas.pydata.org/pandas-docs/stable/user_guide/indexing.html#returning-a-view-versus-a-copy\n",
      "  self.df['PaperlessBilling'] = self.df['PaperlessBilling'].apply(lambda x: 1 if x == 'Yes'\n"
     ]
    }
   ],
   "source": [
    "cf = process.run()"
   ]
  },
  {
   "cell_type": "code",
   "execution_count": 105,
   "id": "6cf20fdd",
   "metadata": {},
   "outputs": [
    {
     "data": {
      "text/html": [
       "<div>\n",
       "<style scoped>\n",
       "    .dataframe tbody tr th:only-of-type {\n",
       "        vertical-align: middle;\n",
       "    }\n",
       "\n",
       "    .dataframe tbody tr th {\n",
       "        vertical-align: top;\n",
       "    }\n",
       "\n",
       "    .dataframe thead th {\n",
       "        text-align: right;\n",
       "    }\n",
       "</style>\n",
       "<table border=\"1\" class=\"dataframe\">\n",
       "  <thead>\n",
       "    <tr style=\"text-align: right;\">\n",
       "      <th></th>\n",
       "      <th>customerID</th>\n",
       "      <th>gender</th>\n",
       "      <th>SeniorCitizen</th>\n",
       "      <th>Partner</th>\n",
       "      <th>Dependents</th>\n",
       "      <th>tenure</th>\n",
       "      <th>PhoneService</th>\n",
       "      <th>MultipleLines</th>\n",
       "      <th>InternetService</th>\n",
       "      <th>OnlineSecurity</th>\n",
       "      <th>OnlineBackup</th>\n",
       "      <th>DeviceProtection</th>\n",
       "      <th>TechSupport</th>\n",
       "      <th>StreamingTV</th>\n",
       "      <th>StreamingMovies</th>\n",
       "      <th>Contract</th>\n",
       "      <th>PaperlessBilling</th>\n",
       "      <th>PaymentMethod</th>\n",
       "      <th>MonthlyCharges</th>\n",
       "      <th>TotalCharges</th>\n",
       "      <th>Churn</th>\n",
       "    </tr>\n",
       "  </thead>\n",
       "  <tbody>\n",
       "    <tr>\n",
       "      <th>0</th>\n",
       "      <td>7590-VHVEG</td>\n",
       "      <td>Female</td>\n",
       "      <td>0</td>\n",
       "      <td>Yes</td>\n",
       "      <td>No</td>\n",
       "      <td>1</td>\n",
       "      <td>No</td>\n",
       "      <td>No phone service</td>\n",
       "      <td>DSL</td>\n",
       "      <td>No</td>\n",
       "      <td>Yes</td>\n",
       "      <td>No</td>\n",
       "      <td>No</td>\n",
       "      <td>No</td>\n",
       "      <td>No</td>\n",
       "      <td>Month-to-month</td>\n",
       "      <td>0</td>\n",
       "      <td>Electronic check</td>\n",
       "      <td>29.85</td>\n",
       "      <td>29.85</td>\n",
       "      <td>No</td>\n",
       "    </tr>\n",
       "    <tr>\n",
       "      <th>1</th>\n",
       "      <td>5575-GNVDE</td>\n",
       "      <td>Male</td>\n",
       "      <td>0</td>\n",
       "      <td>No</td>\n",
       "      <td>No</td>\n",
       "      <td>34</td>\n",
       "      <td>Yes</td>\n",
       "      <td>No</td>\n",
       "      <td>DSL</td>\n",
       "      <td>Yes</td>\n",
       "      <td>No</td>\n",
       "      <td>Yes</td>\n",
       "      <td>No</td>\n",
       "      <td>No</td>\n",
       "      <td>No</td>\n",
       "      <td>One year</td>\n",
       "      <td>0</td>\n",
       "      <td>Mailed check</td>\n",
       "      <td>56.95</td>\n",
       "      <td>1889.5</td>\n",
       "      <td>No</td>\n",
       "    </tr>\n",
       "    <tr>\n",
       "      <th>2</th>\n",
       "      <td>3668-QPYBK</td>\n",
       "      <td>Male</td>\n",
       "      <td>0</td>\n",
       "      <td>No</td>\n",
       "      <td>No</td>\n",
       "      <td>2</td>\n",
       "      <td>Yes</td>\n",
       "      <td>No</td>\n",
       "      <td>DSL</td>\n",
       "      <td>Yes</td>\n",
       "      <td>Yes</td>\n",
       "      <td>No</td>\n",
       "      <td>No</td>\n",
       "      <td>No</td>\n",
       "      <td>No</td>\n",
       "      <td>Month-to-month</td>\n",
       "      <td>0</td>\n",
       "      <td>Mailed check</td>\n",
       "      <td>53.85</td>\n",
       "      <td>108.15</td>\n",
       "      <td>Yes</td>\n",
       "    </tr>\n",
       "  </tbody>\n",
       "</table>\n",
       "</div>"
      ],
      "text/plain": [
       "   customerID  gender  SeniorCitizen Partner Dependents  tenure PhoneService  \\\n",
       "0  7590-VHVEG  Female              0     Yes         No       1           No   \n",
       "1  5575-GNVDE    Male              0      No         No      34          Yes   \n",
       "2  3668-QPYBK    Male              0      No         No       2          Yes   \n",
       "\n",
       "      MultipleLines InternetService OnlineSecurity OnlineBackup  \\\n",
       "0  No phone service             DSL             No          Yes   \n",
       "1                No             DSL            Yes           No   \n",
       "2                No             DSL            Yes          Yes   \n",
       "\n",
       "  DeviceProtection TechSupport StreamingTV StreamingMovies        Contract  \\\n",
       "0               No          No          No              No  Month-to-month   \n",
       "1              Yes          No          No              No        One year   \n",
       "2               No          No          No              No  Month-to-month   \n",
       "\n",
       "   PaperlessBilling     PaymentMethod  MonthlyCharges TotalCharges Churn  \n",
       "0                 0  Electronic check           29.85        29.85    No  \n",
       "1                 0      Mailed check           56.95       1889.5    No  \n",
       "2                 0      Mailed check           53.85       108.15   Yes  "
      ]
     },
     "execution_count": 105,
     "metadata": {},
     "output_type": "execute_result"
    }
   ],
   "source": [
    "cf"
   ]
  },
  {
   "cell_type": "code",
   "execution_count": null,
   "id": "529445c3",
   "metadata": {},
   "outputs": [],
   "source": [
    "pass\n",
    "continue\n",
    "break"
   ]
  },
  {
   "cell_type": "code",
   "execution_count": 109,
   "id": "41841d66",
   "metadata": {},
   "outputs": [],
   "source": [
    "names = ['Omolewa', 'Adebola', 'Femi', 'Olowo']"
   ]
  },
  {
   "cell_type": "code",
   "execution_count": 116,
   "id": "50fd9961",
   "metadata": {},
   "outputs": [
    {
     "name": "stdout",
     "output_type": "stream",
     "text": [
      "Omolewa\n"
     ]
    }
   ],
   "source": [
    "for name in names:\n",
    "    if name[0] == 'A':\n",
    "        break\n",
    "    else:\n",
    "        print(name)"
   ]
  },
  {
   "cell_type": "code",
   "execution_count": 114,
   "id": "a265a5b9",
   "metadata": {},
   "outputs": [
    {
     "ename": "IndentationError",
     "evalue": "expected an indented block (Temp/ipykernel_27316/416321013.py, line 9)",
     "output_type": "error",
     "traceback": [
      "\u001b[1;36m  File \u001b[1;32m\"C:\\Users\\OMOLEW~1\\AppData\\Local\\Temp/ipykernel_27316/416321013.py\"\u001b[1;36m, line \u001b[1;32m9\u001b[0m\n\u001b[1;33m    \u001b[0m\n\u001b[1;37m    ^\u001b[0m\n\u001b[1;31mIndentationError\u001b[0m\u001b[1;31m:\u001b[0m expected an indented block\n"
     ]
    }
   ],
   "source": [
    "class Maths:\n",
    "    def __init__(self):\n",
    "        pass\n",
    "    \n",
    "    def calc(self):\n",
    "        pass\n",
    "    \n",
    "    def minus(self):\n",
    "        "
   ]
  },
  {
   "cell_type": "code",
   "execution_count": null,
   "id": "bfba6432",
   "metadata": {},
   "outputs": [],
   "source": []
  }
 ],
 "metadata": {
  "kernelspec": {
   "display_name": "Python 3 (ipykernel)",
   "language": "python",
   "name": "python3"
  },
  "language_info": {
   "codemirror_mode": {
    "name": "ipython",
    "version": 3
   },
   "file_extension": ".py",
   "mimetype": "text/x-python",
   "name": "python",
   "nbconvert_exporter": "python",
   "pygments_lexer": "ipython3",
   "version": "3.9.7"
  }
 },
 "nbformat": 4,
 "nbformat_minor": 5
}
