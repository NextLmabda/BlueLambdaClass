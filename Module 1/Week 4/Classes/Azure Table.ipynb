{
 "cells": [
  {
   "cell_type": "code",
   "execution_count": 53,
   "id": "9683f685",
   "metadata": {},
   "outputs": [],
   "source": [
    "def sample_query_entities_multiple_params(**kwargs):\n",
    "    \n",
    "    print(kwargs)\n",
    "    string = []\n",
    "    for key in kwargs.keys():\n",
    "        string.append(key)\n",
    "    print(string)\n",
    "    concat = ' eq @{} and '.join(string)\n",
    "    #print(concat.format('Omolewa'))\n",
    "    print(concat)\n",
    "    #name_filter = \"Name eq @name and Brand eq @brand and Age eq @age and Country eq @country\"\n",
    "    #print(name_filter)"
   ]
  },
  {
   "cell_type": "code",
   "execution_count": 54,
   "id": "c34770d7",
   "metadata": {},
   "outputs": [
    {
     "name": "stdout",
     "output_type": "stream",
     "text": [
      "{'age': 10, 'ht': 6.5, 'ad': 300, 'wq': 100, 'qw': 80}\n",
      "['age', 'ht', 'ad', 'wq', 'qw']\n",
      "age eq @{} and ht eq @{} and ad eq @{} and wq eq @{} and qw\n"
     ]
    }
   ],
   "source": [
    "sample_query_entities_multiple_params(age=10, ht = 6.5, ad = 300, wq = 100, qw = 80)"
   ]
  },
  {
   "cell_type": "code",
   "execution_count": 8,
   "id": "9d1ee4ce",
   "metadata": {},
   "outputs": [],
   "source": [
    "def multiply(x):\n",
    "    return 2 * x"
   ]
  },
  {
   "cell_type": "code",
   "execution_count": 9,
   "id": "0afd30e3",
   "metadata": {},
   "outputs": [
    {
     "data": {
      "text/plain": [
       "8"
      ]
     },
     "execution_count": 9,
     "metadata": {},
     "output_type": "execute_result"
    }
   ],
   "source": [
    "multiply(4)"
   ]
  },
  {
   "cell_type": "code",
   "execution_count": 10,
   "id": "83d51356",
   "metadata": {},
   "outputs": [],
   "source": [
    "def multiply(x, y):\n",
    "    return x * y"
   ]
  },
  {
   "cell_type": "code",
   "execution_count": 11,
   "id": "f60fb0d3",
   "metadata": {},
   "outputs": [
    {
     "data": {
      "text/plain": [
       "6"
      ]
     },
     "execution_count": 11,
     "metadata": {},
     "output_type": "execute_result"
    }
   ],
   "source": [
    "multiply(2, 3)"
   ]
  },
  {
   "cell_type": "code",
   "execution_count": 18,
   "id": "6f7e12df",
   "metadata": {},
   "outputs": [],
   "source": [
    "def multiply(*args):\n",
    "    print(args)"
   ]
  },
  {
   "cell_type": "code",
   "execution_count": 19,
   "id": "cce53b32",
   "metadata": {},
   "outputs": [
    {
     "name": "stdout",
     "output_type": "stream",
     "text": [
      "(2, 3, 4, 5, 6, 100, 2, 100999)\n"
     ]
    }
   ],
   "source": [
    "multiply(2, 3, 4, 5, 6, 100, 2, 100999)"
   ]
  },
  {
   "cell_type": "code",
   "execution_count": 20,
   "id": "a66ba3f1",
   "metadata": {},
   "outputs": [],
   "source": [
    "def multiply(x = 2, y = 5):\n",
    "    return x * y"
   ]
  },
  {
   "cell_type": "code",
   "execution_count": 21,
   "id": "9be83d0f",
   "metadata": {},
   "outputs": [
    {
     "data": {
      "text/plain": [
       "35"
      ]
     },
     "execution_count": 21,
     "metadata": {},
     "output_type": "execute_result"
    }
   ],
   "source": [
    "multiply(x = 7, y = 5)"
   ]
  },
  {
   "cell_type": "code",
   "execution_count": 22,
   "id": "cceb8b9a",
   "metadata": {},
   "outputs": [],
   "source": [
    "def multiply(**kwargs):\n",
    "    print(kwargs)"
   ]
  },
  {
   "cell_type": "code",
   "execution_count": 24,
   "id": "3219211f",
   "metadata": {},
   "outputs": [
    {
     "name": "stdout",
     "output_type": "stream",
     "text": [
      "{'a': 10, 'y': 19, 'z': 17}\n"
     ]
    }
   ],
   "source": [
    "multiply(a = 10, y = 19, z = 17)"
   ]
  },
  {
   "cell_type": "code",
   "execution_count": 29,
   "id": "a69f8eca",
   "metadata": {},
   "outputs": [],
   "source": [
    "def multiply(*args, **kwargs):\n",
    "    print(args)\n",
    "    print(kwargs)\n",
    "    print(kwargs.keys())\n",
    "    kwargs['qp'] = 100000000000\n",
    "    print(kwargs)"
   ]
  },
  {
   "cell_type": "code",
   "execution_count": 30,
   "id": "385c5a2c",
   "metadata": {},
   "outputs": [
    {
     "name": "stdout",
     "output_type": "stream",
     "text": [
      "(2, 3, 4, 5)\n",
      "{'x': 7, 'y': 10}\n",
      "dict_keys(['x', 'y'])\n",
      "{'x': 7, 'y': 10, 'qp': 100000000000}\n"
     ]
    }
   ],
   "source": [
    "multiply(2, 3, 4, 5, x = 7, y = 10)"
   ]
  },
  {
   "cell_type": "code",
   "execution_count": 62,
   "id": "c7bce7d1",
   "metadata": {},
   "outputs": [],
   "source": [
    "def sample_query_entities_multiple_params(**kwargs):\n",
    "    \n",
    "    print(kwargs)\n",
    "    lis = []\n",
    "    for key in kwargs.keys():\n",
    "        lis.append('{0} eq @{1} '.format(key, key.lower()))\n",
    "    #name_filter = \"Name eq @name and Brand eq @brand and Age eq @age and Country eq @country\"\n",
    "    #print(name_filter)\n",
    "    print(''.join(lis))"
   ]
  },
  {
   "cell_type": "code",
   "execution_count": 63,
   "id": "c75dd661",
   "metadata": {},
   "outputs": [
    {
     "name": "stdout",
     "output_type": "stream",
     "text": [
      "{'Age': 10, 'Ht': 6.5, 'Ad': 300, 'Wq': 100, 'Qw': 80}\n",
      "Age eq @age Ht eq @ht Ad eq @ad Wq eq @wq Qw eq @qw \n"
     ]
    }
   ],
   "source": [
    "sample_query_entities_multiple_params(Age=10, Ht = 6.5, Ad = 300, Wq = 100, Qw = 80)"
   ]
  },
  {
   "cell_type": "code",
   "execution_count": null,
   "id": "c9ff6674",
   "metadata": {},
   "outputs": [],
   "source": []
  }
 ],
 "metadata": {
  "kernelspec": {
   "display_name": "Python 3 (ipykernel)",
   "language": "python",
   "name": "python3"
  },
  "language_info": {
   "codemirror_mode": {
    "name": "ipython",
    "version": 3
   },
   "file_extension": ".py",
   "mimetype": "text/x-python",
   "name": "python",
   "nbconvert_exporter": "python",
   "pygments_lexer": "ipython3",
   "version": "3.9.7"
  }
 },
 "nbformat": 4,
 "nbformat_minor": 5
}
