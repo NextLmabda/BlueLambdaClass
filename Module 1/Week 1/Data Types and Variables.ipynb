{
 "cells": [
  {
   "cell_type": "markdown",
   "id": "8e26d21e",
   "metadata": {},
   "source": [
    "- Numbers\n",
    "    - Int, Float, Complex Numbers\n",
    "- Strings\n",
    "- Lists\n",
    "- Tuples\n",
    "- Dictionaries\n",
    "- Using Numeric Variables\n",
    "- Using String Variables"
   ]
  },
  {
   "cell_type": "code",
   "execution_count": 1,
   "id": "b74e0754",
   "metadata": {},
   "outputs": [],
   "source": [
    "# My name is Omolewa"
   ]
  },
  {
   "cell_type": "code",
   "execution_count": null,
   "id": "e562cbf0",
   "metadata": {},
   "outputs": [],
   "source": [
    "# /, //, % (mod)"
   ]
  },
  {
   "cell_type": "code",
   "execution_count": 2,
   "id": "62298107",
   "metadata": {},
   "outputs": [
    {
     "data": {
      "text/plain": [
       "2.857142857142857"
      ]
     },
     "execution_count": 2,
     "metadata": {},
     "output_type": "execute_result"
    }
   ],
   "source": [
    "20 / 7"
   ]
  },
  {
   "cell_type": "code",
   "execution_count": 3,
   "id": "259ac344",
   "metadata": {},
   "outputs": [
    {
     "data": {
      "text/plain": [
       "2"
      ]
     },
     "execution_count": 3,
     "metadata": {},
     "output_type": "execute_result"
    }
   ],
   "source": [
    "20 // 7"
   ]
  },
  {
   "cell_type": "code",
   "execution_count": 4,
   "id": "89091dc8",
   "metadata": {},
   "outputs": [
    {
     "data": {
      "text/plain": [
       "6"
      ]
     },
     "execution_count": 4,
     "metadata": {},
     "output_type": "execute_result"
    }
   ],
   "source": [
    "20 % 7"
   ]
  },
  {
   "cell_type": "code",
   "execution_count": 5,
   "id": "1e3e9802",
   "metadata": {},
   "outputs": [],
   "source": [
    "# Boolean"
   ]
  },
  {
   "cell_type": "code",
   "execution_count": 6,
   "id": "a45e1549",
   "metadata": {},
   "outputs": [
    {
     "data": {
      "text/plain": [
       "False"
      ]
     },
     "execution_count": 6,
     "metadata": {},
     "output_type": "execute_result"
    }
   ],
   "source": [
    "# is 2 = 3?\n",
    "2 == 3"
   ]
  },
  {
   "cell_type": "code",
   "execution_count": 7,
   "id": "bcb3ca2f",
   "metadata": {},
   "outputs": [
    {
     "data": {
      "text/plain": [
       "True"
      ]
     },
     "execution_count": 7,
     "metadata": {},
     "output_type": "execute_result"
    }
   ],
   "source": [
    "10 == 10"
   ]
  },
  {
   "cell_type": "code",
   "execution_count": 8,
   "id": "ac846f76",
   "metadata": {},
   "outputs": [
    {
     "data": {
      "text/plain": [
       "False"
      ]
     },
     "execution_count": 8,
     "metadata": {},
     "output_type": "execute_result"
    }
   ],
   "source": [
    "10 > 10"
   ]
  },
  {
   "cell_type": "code",
   "execution_count": 9,
   "id": "52ca8857",
   "metadata": {},
   "outputs": [
    {
     "data": {
      "text/plain": [
       "True"
      ]
     },
     "execution_count": 9,
     "metadata": {},
     "output_type": "execute_result"
    }
   ],
   "source": [
    "10 % 2 == 0"
   ]
  },
  {
   "cell_type": "code",
   "execution_count": 10,
   "id": "aaabb221",
   "metadata": {},
   "outputs": [
    {
     "data": {
      "text/plain": [
       "2"
      ]
     },
     "execution_count": 10,
     "metadata": {},
     "output_type": "execute_result"
    }
   ],
   "source": [
    "True + True"
   ]
  },
  {
   "cell_type": "code",
   "execution_count": 11,
   "id": "157f7846",
   "metadata": {},
   "outputs": [
    {
     "data": {
      "text/plain": [
       "1"
      ]
     },
     "execution_count": 11,
     "metadata": {},
     "output_type": "execute_result"
    }
   ],
   "source": [
    "True + False"
   ]
  },
  {
   "cell_type": "markdown",
   "id": "e26f2220",
   "metadata": {},
   "source": [
    "### Strings"
   ]
  },
  {
   "cell_type": "code",
   "execution_count": 12,
   "id": "cc43f8bd",
   "metadata": {},
   "outputs": [],
   "source": [
    "name = 'Omolewa'"
   ]
  },
  {
   "cell_type": "code",
   "execution_count": 13,
   "id": "ed2bb341",
   "metadata": {},
   "outputs": [
    {
     "data": {
      "text/plain": [
       "str"
      ]
     },
     "execution_count": 13,
     "metadata": {},
     "output_type": "execute_result"
    }
   ],
   "source": [
    "type(name)"
   ]
  },
  {
   "cell_type": "code",
   "execution_count": 14,
   "id": "61131689",
   "metadata": {},
   "outputs": [],
   "source": [
    "x = 1000"
   ]
  },
  {
   "cell_type": "code",
   "execution_count": 15,
   "id": "29737aad",
   "metadata": {},
   "outputs": [
    {
     "data": {
      "text/plain": [
       "int"
      ]
     },
     "execution_count": 15,
     "metadata": {},
     "output_type": "execute_result"
    }
   ],
   "source": [
    "type(x)"
   ]
  },
  {
   "cell_type": "code",
   "execution_count": 16,
   "id": "f0c4093b",
   "metadata": {},
   "outputs": [],
   "source": [
    "y = 100.23"
   ]
  },
  {
   "cell_type": "code",
   "execution_count": 17,
   "id": "78051cb4",
   "metadata": {},
   "outputs": [
    {
     "data": {
      "text/plain": [
       "float"
      ]
     },
     "execution_count": 17,
     "metadata": {},
     "output_type": "execute_result"
    }
   ],
   "source": [
    "type(y)"
   ]
  },
  {
   "cell_type": "code",
   "execution_count": 18,
   "id": "3043e476",
   "metadata": {},
   "outputs": [],
   "source": [
    "xx ='1000'"
   ]
  },
  {
   "cell_type": "code",
   "execution_count": 19,
   "id": "7f307777",
   "metadata": {},
   "outputs": [
    {
     "data": {
      "text/plain": [
       "str"
      ]
     },
     "execution_count": 19,
     "metadata": {},
     "output_type": "execute_result"
    }
   ],
   "source": [
    "type(xx)"
   ]
  },
  {
   "cell_type": "code",
   "execution_count": 20,
   "id": "261d35dd",
   "metadata": {},
   "outputs": [
    {
     "ename": "NameError",
     "evalue": "name 'Omolewa' is not defined",
     "output_type": "error",
     "traceback": [
      "\u001b[1;31m---------------------------------------------------------------------------\u001b[0m",
      "\u001b[1;31mNameError\u001b[0m                                 Traceback (most recent call last)",
      "\u001b[1;32mC:\\Users\\OMOLEW~1\\AppData\\Local\\Temp/ipykernel_860/1060916346.py\u001b[0m in \u001b[0;36m<module>\u001b[1;34m\u001b[0m\n\u001b[1;32m----> 1\u001b[1;33m \u001b[0mname\u001b[0m \u001b[1;33m=\u001b[0m \u001b[0mOmolewa\u001b[0m\u001b[1;33m\u001b[0m\u001b[1;33m\u001b[0m\u001b[0m\n\u001b[0m",
      "\u001b[1;31mNameError\u001b[0m: name 'Omolewa' is not defined"
     ]
    }
   ],
   "source": [
    "name = Omolewa"
   ]
  },
  {
   "cell_type": "code",
   "execution_count": 21,
   "id": "445b5b01",
   "metadata": {},
   "outputs": [],
   "source": [
    "x = '1000'"
   ]
  },
  {
   "cell_type": "code",
   "execution_count": 22,
   "id": "b0e59836",
   "metadata": {},
   "outputs": [
    {
     "data": {
      "text/plain": [
       "1000"
      ]
     },
     "execution_count": 22,
     "metadata": {},
     "output_type": "execute_result"
    }
   ],
   "source": [
    "# Casting\n",
    "int(x)"
   ]
  },
  {
   "cell_type": "code",
   "execution_count": 23,
   "id": "1fa08f81",
   "metadata": {},
   "outputs": [
    {
     "data": {
      "text/plain": [
       "'220000'"
      ]
     },
     "execution_count": 23,
     "metadata": {},
     "output_type": "execute_result"
    }
   ],
   "source": [
    "str(220000)"
   ]
  },
  {
   "cell_type": "code",
   "execution_count": 24,
   "id": "69542dba",
   "metadata": {},
   "outputs": [
    {
     "ename": "ValueError",
     "evalue": "invalid literal for int() with base 10: 'Omo'",
     "output_type": "error",
     "traceback": [
      "\u001b[1;31m---------------------------------------------------------------------------\u001b[0m",
      "\u001b[1;31mValueError\u001b[0m                                Traceback (most recent call last)",
      "\u001b[1;32mC:\\Users\\OMOLEW~1\\AppData\\Local\\Temp/ipykernel_860/2095905436.py\u001b[0m in \u001b[0;36m<module>\u001b[1;34m\u001b[0m\n\u001b[1;32m----> 1\u001b[1;33m \u001b[0mint\u001b[0m\u001b[1;33m(\u001b[0m\u001b[1;34m'Omo'\u001b[0m\u001b[1;33m)\u001b[0m\u001b[1;33m\u001b[0m\u001b[1;33m\u001b[0m\u001b[0m\n\u001b[0m",
      "\u001b[1;31mValueError\u001b[0m: invalid literal for int() with base 10: 'Omo'"
     ]
    }
   ],
   "source": [
    "int('Omo')"
   ]
  },
  {
   "cell_type": "code",
   "execution_count": 25,
   "id": "76277294",
   "metadata": {},
   "outputs": [],
   "source": [
    "x = 'Omolewa'"
   ]
  },
  {
   "cell_type": "code",
   "execution_count": 26,
   "id": "76214eeb",
   "metadata": {},
   "outputs": [
    {
     "data": {
      "text/plain": [
       "'OmolewaOmolewaOmolewaOmolewaOmolewaOmolewaOmolewaOmolewaOmolewaOmolewa'"
      ]
     },
     "execution_count": 26,
     "metadata": {},
     "output_type": "execute_result"
    }
   ],
   "source": [
    "x * 10"
   ]
  },
  {
   "cell_type": "code",
   "execution_count": 27,
   "id": "f4f94162",
   "metadata": {},
   "outputs": [
    {
     "ename": "TypeError",
     "evalue": "can only concatenate str (not \"int\") to str",
     "output_type": "error",
     "traceback": [
      "\u001b[1;31m---------------------------------------------------------------------------\u001b[0m",
      "\u001b[1;31mTypeError\u001b[0m                                 Traceback (most recent call last)",
      "\u001b[1;32mC:\\Users\\OMOLEW~1\\AppData\\Local\\Temp/ipykernel_860/3365201894.py\u001b[0m in \u001b[0;36m<module>\u001b[1;34m\u001b[0m\n\u001b[1;32m----> 1\u001b[1;33m \u001b[0mx\u001b[0m \u001b[1;33m+\u001b[0m \u001b[1;36m10\u001b[0m\u001b[1;33m\u001b[0m\u001b[1;33m\u001b[0m\u001b[0m\n\u001b[0m",
      "\u001b[1;31mTypeError\u001b[0m: can only concatenate str (not \"int\") to str"
     ]
    }
   ],
   "source": [
    "x + 10"
   ]
  },
  {
   "cell_type": "code",
   "execution_count": 30,
   "id": "13d80c14",
   "metadata": {},
   "outputs": [
    {
     "data": {
      "text/plain": [
       "'OmolewaAdaramola'"
      ]
     },
     "execution_count": 30,
     "metadata": {},
     "output_type": "execute_result"
    }
   ],
   "source": [
    "# Concatenation\n",
    "'Omolewa' + 'Adaramola'"
   ]
  },
  {
   "cell_type": "code",
   "execution_count": 32,
   "id": "29bbb8bc",
   "metadata": {},
   "outputs": [
    {
     "data": {
      "text/plain": [
       "10023"
      ]
     },
     "execution_count": 32,
     "metadata": {},
     "output_type": "execute_result"
    }
   ],
   "source": [
    "int(str(100) + str(23))"
   ]
  },
  {
   "cell_type": "code",
   "execution_count": 34,
   "id": "5efb655a",
   "metadata": {},
   "outputs": [],
   "source": [
    "# Indexing\n",
    "x = 'Omolewa'"
   ]
  },
  {
   "cell_type": "code",
   "execution_count": 35,
   "id": "1b0d96fd",
   "metadata": {},
   "outputs": [
    {
     "data": {
      "text/plain": [
       "'O'"
      ]
     },
     "execution_count": 35,
     "metadata": {},
     "output_type": "execute_result"
    }
   ],
   "source": [
    "x[0]"
   ]
  },
  {
   "cell_type": "code",
   "execution_count": 36,
   "id": "46ab6496",
   "metadata": {},
   "outputs": [
    {
     "data": {
      "text/plain": [
       "'a'"
      ]
     },
     "execution_count": 36,
     "metadata": {},
     "output_type": "execute_result"
    }
   ],
   "source": [
    "x[6]"
   ]
  },
  {
   "cell_type": "code",
   "execution_count": 37,
   "id": "fbd317a3",
   "metadata": {},
   "outputs": [
    {
     "data": {
      "text/plain": [
       "'a'"
      ]
     },
     "execution_count": 37,
     "metadata": {},
     "output_type": "execute_result"
    }
   ],
   "source": [
    "x[-1]"
   ]
  },
  {
   "cell_type": "code",
   "execution_count": 40,
   "id": "f2e52bd1",
   "metadata": {},
   "outputs": [
    {
     "data": {
      "text/plain": [
       "'awelomO'"
      ]
     },
     "execution_count": 40,
     "metadata": {},
     "output_type": "execute_result"
    }
   ],
   "source": [
    "x[::-1]"
   ]
  },
  {
   "cell_type": "code",
   "execution_count": 41,
   "id": "4097cad6",
   "metadata": {},
   "outputs": [],
   "source": [
    "# Slicing"
   ]
  },
  {
   "cell_type": "code",
   "execution_count": 57,
   "id": "a1036f1d",
   "metadata": {},
   "outputs": [],
   "source": [
    "name = 'Adaramola'"
   ]
  },
  {
   "cell_type": "code",
   "execution_count": 43,
   "id": "dc7446c4",
   "metadata": {},
   "outputs": [
    {
     "data": {
      "text/plain": [
       "'Aro'"
      ]
     },
     "execution_count": 43,
     "metadata": {},
     "output_type": "execute_result"
    }
   ],
   "source": [
    "name[:7:3]"
   ]
  },
  {
   "cell_type": "code",
   "execution_count": 44,
   "id": "372c2df4",
   "metadata": {},
   "outputs": [
    {
     "data": {
      "text/plain": [
       "'Adaramo'"
      ]
     },
     "execution_count": 44,
     "metadata": {},
     "output_type": "execute_result"
    }
   ],
   "source": [
    "name[:7]"
   ]
  },
  {
   "cell_type": "code",
   "execution_count": 49,
   "id": "ea6fbf52",
   "metadata": {},
   "outputs": [],
   "source": [
    "name = name.upper()"
   ]
  },
  {
   "cell_type": "code",
   "execution_count": 50,
   "id": "cd871089",
   "metadata": {},
   "outputs": [
    {
     "data": {
      "text/plain": [
       "'ADARAMOLA'"
      ]
     },
     "execution_count": 50,
     "metadata": {},
     "output_type": "execute_result"
    }
   ],
   "source": [
    "name"
   ]
  },
  {
   "cell_type": "code",
   "execution_count": 52,
   "id": "a082c244",
   "metadata": {},
   "outputs": [
    {
     "data": {
      "text/plain": [
       "True"
      ]
     },
     "execution_count": 52,
     "metadata": {},
     "output_type": "execute_result"
    }
   ],
   "source": [
    "name.isupper()"
   ]
  },
  {
   "cell_type": "code",
   "execution_count": null,
   "id": "b2f1d926",
   "metadata": {},
   "outputs": [],
   "source": [
    "x = 10\n",
    "x = x + 5"
   ]
  },
  {
   "cell_type": "code",
   "execution_count": 55,
   "id": "ff9e519d",
   "metadata": {},
   "outputs": [
    {
     "data": {
      "text/plain": [
       "4"
      ]
     },
     "execution_count": 55,
     "metadata": {},
     "output_type": "execute_result"
    }
   ],
   "source": [
    "name.count('A')"
   ]
  },
  {
   "cell_type": "code",
   "execution_count": 54,
   "id": "f9cd75fa",
   "metadata": {},
   "outputs": [
    {
     "data": {
      "text/plain": [
       "'ADARAMOLA'"
      ]
     },
     "execution_count": 54,
     "metadata": {},
     "output_type": "execute_result"
    }
   ],
   "source": [
    "name"
   ]
  },
  {
   "cell_type": "code",
   "execution_count": 58,
   "id": "2b2a1c6c",
   "metadata": {},
   "outputs": [
    {
     "data": {
      "text/plain": [
       "'aDARAMOLA'"
      ]
     },
     "execution_count": 58,
     "metadata": {},
     "output_type": "execute_result"
    }
   ],
   "source": [
    "name.swapcase()"
   ]
  },
  {
   "cell_type": "code",
   "execution_count": 60,
   "id": "5791744e",
   "metadata": {},
   "outputs": [],
   "source": [
    "name = ' Adaramola '"
   ]
  },
  {
   "cell_type": "code",
   "execution_count": 63,
   "id": "313ca1ec",
   "metadata": {},
   "outputs": [
    {
     "data": {
      "text/plain": [
       "'Adaramola'"
      ]
     },
     "execution_count": 63,
     "metadata": {},
     "output_type": "execute_result"
    }
   ],
   "source": [
    "name.strip()"
   ]
  },
  {
   "cell_type": "code",
   "execution_count": null,
   "id": "88494366",
   "metadata": {},
   "outputs": [],
   "source": [
    "# Immutable "
   ]
  }
 ],
 "metadata": {
  "kernelspec": {
   "display_name": "Python 3 (ipykernel)",
   "language": "python",
   "name": "python3"
  },
  "language_info": {
   "codemirror_mode": {
    "name": "ipython",
    "version": 3
   },
   "file_extension": ".py",
   "mimetype": "text/x-python",
   "name": "python",
   "nbconvert_exporter": "python",
   "pygments_lexer": "ipython3",
   "version": "3.9.7"
  }
 },
 "nbformat": 4,
 "nbformat_minor": 5
}
