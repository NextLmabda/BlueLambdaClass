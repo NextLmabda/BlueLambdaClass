{
 "cells": [
  {
   "cell_type": "markdown",
   "id": "8e26d21e",
   "metadata": {},
   "source": [
    "- Numbers\n",
    "    - Int, Float, Complex Numbers\n",
    "- Strings\n",
    "- Lists\n",
    "- Tuples\n",
    "- Dictionaries\n",
    "- Using Numeric Variables\n",
    "- Using String Variables"
   ]
  },
  {
   "cell_type": "code",
   "execution_count": 1,
   "id": "b74e0754",
   "metadata": {},
   "outputs": [],
   "source": [
    "# My name is Omolewa"
   ]
  },
  {
   "cell_type": "code",
   "execution_count": null,
   "id": "e562cbf0",
   "metadata": {},
   "outputs": [],
   "source": [
    "# /, //, % (mod)"
   ]
  },
  {
   "cell_type": "code",
   "execution_count": 2,
   "id": "62298107",
   "metadata": {},
   "outputs": [
    {
     "data": {
      "text/plain": [
       "2.857142857142857"
      ]
     },
     "execution_count": 2,
     "metadata": {},
     "output_type": "execute_result"
    }
   ],
   "source": [
    "20 / 7"
   ]
  },
  {
   "cell_type": "code",
   "execution_count": 3,
   "id": "259ac344",
   "metadata": {},
   "outputs": [
    {
     "data": {
      "text/plain": [
       "2"
      ]
     },
     "execution_count": 3,
     "metadata": {},
     "output_type": "execute_result"
    }
   ],
   "source": [
    "20 // 7"
   ]
  },
  {
   "cell_type": "code",
   "execution_count": 4,
   "id": "89091dc8",
   "metadata": {},
   "outputs": [
    {
     "data": {
      "text/plain": [
       "6"
      ]
     },
     "execution_count": 4,
     "metadata": {},
     "output_type": "execute_result"
    }
   ],
   "source": [
    "20 % 7"
   ]
  },
  {
   "cell_type": "code",
   "execution_count": 5,
   "id": "1e3e9802",
   "metadata": {},
   "outputs": [],
   "source": [
    "# Boolean"
   ]
  },
  {
   "cell_type": "code",
   "execution_count": 6,
   "id": "a45e1549",
   "metadata": {},
   "outputs": [
    {
     "data": {
      "text/plain": [
       "False"
      ]
     },
     "execution_count": 6,
     "metadata": {},
     "output_type": "execute_result"
    }
   ],
   "source": [
    "# is 2 = 3?\n",
    "2 == 3"
   ]
  },
  {
   "cell_type": "code",
   "execution_count": 7,
   "id": "bcb3ca2f",
   "metadata": {},
   "outputs": [
    {
     "data": {
      "text/plain": [
       "True"
      ]
     },
     "execution_count": 7,
     "metadata": {},
     "output_type": "execute_result"
    }
   ],
   "source": [
    "10 == 10"
   ]
  },
  {
   "cell_type": "code",
   "execution_count": 8,
   "id": "ac846f76",
   "metadata": {},
   "outputs": [
    {
     "data": {
      "text/plain": [
       "False"
      ]
     },
     "execution_count": 8,
     "metadata": {},
     "output_type": "execute_result"
    }
   ],
   "source": [
    "10 > 10"
   ]
  },
  {
   "cell_type": "code",
   "execution_count": 9,
   "id": "52ca8857",
   "metadata": {},
   "outputs": [
    {
     "data": {
      "text/plain": [
       "True"
      ]
     },
     "execution_count": 9,
     "metadata": {},
     "output_type": "execute_result"
    }
   ],
   "source": [
    "10 % 2 == 0"
   ]
  },
  {
   "cell_type": "code",
   "execution_count": 10,
   "id": "aaabb221",
   "metadata": {},
   "outputs": [
    {
     "data": {
      "text/plain": [
       "2"
      ]
     },
     "execution_count": 10,
     "metadata": {},
     "output_type": "execute_result"
    }
   ],
   "source": [
    "True + True"
   ]
  },
  {
   "cell_type": "code",
   "execution_count": 11,
   "id": "157f7846",
   "metadata": {},
   "outputs": [
    {
     "data": {
      "text/plain": [
       "1"
      ]
     },
     "execution_count": 11,
     "metadata": {},
     "output_type": "execute_result"
    }
   ],
   "source": [
    "True + False"
   ]
  },
  {
   "cell_type": "markdown",
   "id": "e26f2220",
   "metadata": {},
   "source": [
    "### Strings"
   ]
  },
  {
   "cell_type": "code",
   "execution_count": 12,
   "id": "cc43f8bd",
   "metadata": {},
   "outputs": [],
   "source": [
    "name = 'Omolewa'"
   ]
  },
  {
   "cell_type": "code",
   "execution_count": 13,
   "id": "ed2bb341",
   "metadata": {},
   "outputs": [
    {
     "data": {
      "text/plain": [
       "str"
      ]
     },
     "execution_count": 13,
     "metadata": {},
     "output_type": "execute_result"
    }
   ],
   "source": [
    "type(name)"
   ]
  },
  {
   "cell_type": "code",
   "execution_count": 14,
   "id": "61131689",
   "metadata": {},
   "outputs": [],
   "source": [
    "x = 1000"
   ]
  },
  {
   "cell_type": "code",
   "execution_count": 15,
   "id": "29737aad",
   "metadata": {},
   "outputs": [
    {
     "data": {
      "text/plain": [
       "int"
      ]
     },
     "execution_count": 15,
     "metadata": {},
     "output_type": "execute_result"
    }
   ],
   "source": [
    "type(x)"
   ]
  },
  {
   "cell_type": "code",
   "execution_count": 16,
   "id": "f0c4093b",
   "metadata": {},
   "outputs": [],
   "source": [
    "y = 100.23"
   ]
  },
  {
   "cell_type": "code",
   "execution_count": 17,
   "id": "78051cb4",
   "metadata": {},
   "outputs": [
    {
     "data": {
      "text/plain": [
       "float"
      ]
     },
     "execution_count": 17,
     "metadata": {},
     "output_type": "execute_result"
    }
   ],
   "source": [
    "type(y)"
   ]
  },
  {
   "cell_type": "code",
   "execution_count": 18,
   "id": "3043e476",
   "metadata": {},
   "outputs": [],
   "source": [
    "xx ='1000'"
   ]
  },
  {
   "cell_type": "code",
   "execution_count": 19,
   "id": "7f307777",
   "metadata": {},
   "outputs": [
    {
     "data": {
      "text/plain": [
       "str"
      ]
     },
     "execution_count": 19,
     "metadata": {},
     "output_type": "execute_result"
    }
   ],
   "source": [
    "type(xx)"
   ]
  },
  {
   "cell_type": "code",
   "execution_count": 20,
   "id": "261d35dd",
   "metadata": {},
   "outputs": [
    {
     "ename": "NameError",
     "evalue": "name 'Omolewa' is not defined",
     "output_type": "error",
     "traceback": [
      "\u001b[1;31m---------------------------------------------------------------------------\u001b[0m",
      "\u001b[1;31mNameError\u001b[0m                                 Traceback (most recent call last)",
      "\u001b[1;32mC:\\Users\\OMOLEW~1\\AppData\\Local\\Temp/ipykernel_860/1060916346.py\u001b[0m in \u001b[0;36m<module>\u001b[1;34m\u001b[0m\n\u001b[1;32m----> 1\u001b[1;33m \u001b[0mname\u001b[0m \u001b[1;33m=\u001b[0m \u001b[0mOmolewa\u001b[0m\u001b[1;33m\u001b[0m\u001b[1;33m\u001b[0m\u001b[0m\n\u001b[0m",
      "\u001b[1;31mNameError\u001b[0m: name 'Omolewa' is not defined"
     ]
    }
   ],
   "source": [
    "name = Omolewa"
   ]
  },
  {
   "cell_type": "code",
   "execution_count": 21,
   "id": "445b5b01",
   "metadata": {},
   "outputs": [],
   "source": [
    "x = '1000'"
   ]
  },
  {
   "cell_type": "code",
   "execution_count": 22,
   "id": "b0e59836",
   "metadata": {},
   "outputs": [
    {
     "data": {
      "text/plain": [
       "1000"
      ]
     },
     "execution_count": 22,
     "metadata": {},
     "output_type": "execute_result"
    }
   ],
   "source": [
    "# Casting\n",
    "int(x)"
   ]
  },
  {
   "cell_type": "code",
   "execution_count": 23,
   "id": "1fa08f81",
   "metadata": {},
   "outputs": [
    {
     "data": {
      "text/plain": [
       "'220000'"
      ]
     },
     "execution_count": 23,
     "metadata": {},
     "output_type": "execute_result"
    }
   ],
   "source": [
    "str(220000)"
   ]
  },
  {
   "cell_type": "code",
   "execution_count": 24,
   "id": "69542dba",
   "metadata": {},
   "outputs": [
    {
     "ename": "ValueError",
     "evalue": "invalid literal for int() with base 10: 'Omo'",
     "output_type": "error",
     "traceback": [
      "\u001b[1;31m---------------------------------------------------------------------------\u001b[0m",
      "\u001b[1;31mValueError\u001b[0m                                Traceback (most recent call last)",
      "\u001b[1;32mC:\\Users\\OMOLEW~1\\AppData\\Local\\Temp/ipykernel_860/2095905436.py\u001b[0m in \u001b[0;36m<module>\u001b[1;34m\u001b[0m\n\u001b[1;32m----> 1\u001b[1;33m \u001b[0mint\u001b[0m\u001b[1;33m(\u001b[0m\u001b[1;34m'Omo'\u001b[0m\u001b[1;33m)\u001b[0m\u001b[1;33m\u001b[0m\u001b[1;33m\u001b[0m\u001b[0m\n\u001b[0m",
      "\u001b[1;31mValueError\u001b[0m: invalid literal for int() with base 10: 'Omo'"
     ]
    }
   ],
   "source": [
    "int('Omo')"
   ]
  },
  {
   "cell_type": "code",
   "execution_count": 25,
   "id": "76277294",
   "metadata": {},
   "outputs": [],
   "source": [
    "x = 'Omolewa'"
   ]
  },
  {
   "cell_type": "code",
   "execution_count": 26,
   "id": "76214eeb",
   "metadata": {},
   "outputs": [
    {
     "data": {
      "text/plain": [
       "'OmolewaOmolewaOmolewaOmolewaOmolewaOmolewaOmolewaOmolewaOmolewaOmolewa'"
      ]
     },
     "execution_count": 26,
     "metadata": {},
     "output_type": "execute_result"
    }
   ],
   "source": [
    "x * 10"
   ]
  },
  {
   "cell_type": "code",
   "execution_count": 27,
   "id": "f4f94162",
   "metadata": {},
   "outputs": [
    {
     "ename": "TypeError",
     "evalue": "can only concatenate str (not \"int\") to str",
     "output_type": "error",
     "traceback": [
      "\u001b[1;31m---------------------------------------------------------------------------\u001b[0m",
      "\u001b[1;31mTypeError\u001b[0m                                 Traceback (most recent call last)",
      "\u001b[1;32mC:\\Users\\OMOLEW~1\\AppData\\Local\\Temp/ipykernel_860/3365201894.py\u001b[0m in \u001b[0;36m<module>\u001b[1;34m\u001b[0m\n\u001b[1;32m----> 1\u001b[1;33m \u001b[0mx\u001b[0m \u001b[1;33m+\u001b[0m \u001b[1;36m10\u001b[0m\u001b[1;33m\u001b[0m\u001b[1;33m\u001b[0m\u001b[0m\n\u001b[0m",
      "\u001b[1;31mTypeError\u001b[0m: can only concatenate str (not \"int\") to str"
     ]
    }
   ],
   "source": [
    "x + 10"
   ]
  },
  {
   "cell_type": "code",
   "execution_count": 30,
   "id": "13d80c14",
   "metadata": {},
   "outputs": [
    {
     "data": {
      "text/plain": [
       "'OmolewaAdaramola'"
      ]
     },
     "execution_count": 30,
     "metadata": {},
     "output_type": "execute_result"
    }
   ],
   "source": [
    "# Concatenation\n",
    "'Omolewa' + 'Adaramola'"
   ]
  },
  {
   "cell_type": "code",
   "execution_count": 32,
   "id": "29bbb8bc",
   "metadata": {},
   "outputs": [
    {
     "data": {
      "text/plain": [
       "10023"
      ]
     },
     "execution_count": 32,
     "metadata": {},
     "output_type": "execute_result"
    }
   ],
   "source": [
    "int(str(100) + str(23))"
   ]
  },
  {
   "cell_type": "code",
   "execution_count": 34,
   "id": "5efb655a",
   "metadata": {},
   "outputs": [],
   "source": [
    "# Indexing\n",
    "x = 'Omolewa'"
   ]
  },
  {
   "cell_type": "code",
   "execution_count": 35,
   "id": "1b0d96fd",
   "metadata": {},
   "outputs": [
    {
     "data": {
      "text/plain": [
       "'O'"
      ]
     },
     "execution_count": 35,
     "metadata": {},
     "output_type": "execute_result"
    }
   ],
   "source": [
    "x[0]"
   ]
  },
  {
   "cell_type": "code",
   "execution_count": 36,
   "id": "46ab6496",
   "metadata": {},
   "outputs": [
    {
     "data": {
      "text/plain": [
       "'a'"
      ]
     },
     "execution_count": 36,
     "metadata": {},
     "output_type": "execute_result"
    }
   ],
   "source": [
    "x[6]"
   ]
  },
  {
   "cell_type": "code",
   "execution_count": 37,
   "id": "fbd317a3",
   "metadata": {},
   "outputs": [
    {
     "data": {
      "text/plain": [
       "'a'"
      ]
     },
     "execution_count": 37,
     "metadata": {},
     "output_type": "execute_result"
    }
   ],
   "source": [
    "x[-1]"
   ]
  },
  {
   "cell_type": "code",
   "execution_count": 40,
   "id": "f2e52bd1",
   "metadata": {},
   "outputs": [
    {
     "data": {
      "text/plain": [
       "'awelomO'"
      ]
     },
     "execution_count": 40,
     "metadata": {},
     "output_type": "execute_result"
    }
   ],
   "source": [
    "x[::-1]"
   ]
  },
  {
   "cell_type": "code",
   "execution_count": 41,
   "id": "4097cad6",
   "metadata": {},
   "outputs": [],
   "source": [
    "# Slicing"
   ]
  },
  {
   "cell_type": "code",
   "execution_count": 57,
   "id": "a1036f1d",
   "metadata": {},
   "outputs": [],
   "source": [
    "name = 'Adaramola'"
   ]
  },
  {
   "cell_type": "code",
   "execution_count": 43,
   "id": "dc7446c4",
   "metadata": {},
   "outputs": [
    {
     "data": {
      "text/plain": [
       "'Aro'"
      ]
     },
     "execution_count": 43,
     "metadata": {},
     "output_type": "execute_result"
    }
   ],
   "source": [
    "name[:7:3]"
   ]
  },
  {
   "cell_type": "code",
   "execution_count": 44,
   "id": "372c2df4",
   "metadata": {},
   "outputs": [
    {
     "data": {
      "text/plain": [
       "'Adaramo'"
      ]
     },
     "execution_count": 44,
     "metadata": {},
     "output_type": "execute_result"
    }
   ],
   "source": [
    "name[:7]"
   ]
  },
  {
   "cell_type": "code",
   "execution_count": 49,
   "id": "ea6fbf52",
   "metadata": {},
   "outputs": [],
   "source": [
    "name = name.upper()"
   ]
  },
  {
   "cell_type": "code",
   "execution_count": 50,
   "id": "cd871089",
   "metadata": {},
   "outputs": [
    {
     "data": {
      "text/plain": [
       "'ADARAMOLA'"
      ]
     },
     "execution_count": 50,
     "metadata": {},
     "output_type": "execute_result"
    }
   ],
   "source": [
    "name"
   ]
  },
  {
   "cell_type": "code",
   "execution_count": 52,
   "id": "a082c244",
   "metadata": {},
   "outputs": [
    {
     "data": {
      "text/plain": [
       "True"
      ]
     },
     "execution_count": 52,
     "metadata": {},
     "output_type": "execute_result"
    }
   ],
   "source": [
    "name.isupper()"
   ]
  },
  {
   "cell_type": "code",
   "execution_count": null,
   "id": "b2f1d926",
   "metadata": {},
   "outputs": [],
   "source": [
    "x = 10\n",
    "x = x + 5"
   ]
  },
  {
   "cell_type": "code",
   "execution_count": 55,
   "id": "ff9e519d",
   "metadata": {},
   "outputs": [
    {
     "data": {
      "text/plain": [
       "4"
      ]
     },
     "execution_count": 55,
     "metadata": {},
     "output_type": "execute_result"
    }
   ],
   "source": [
    "name.count('A')"
   ]
  },
  {
   "cell_type": "code",
   "execution_count": 54,
   "id": "f9cd75fa",
   "metadata": {},
   "outputs": [
    {
     "data": {
      "text/plain": [
       "'ADARAMOLA'"
      ]
     },
     "execution_count": 54,
     "metadata": {},
     "output_type": "execute_result"
    }
   ],
   "source": [
    "name"
   ]
  },
  {
   "cell_type": "code",
   "execution_count": 58,
   "id": "2b2a1c6c",
   "metadata": {},
   "outputs": [
    {
     "data": {
      "text/plain": [
       "'aDARAMOLA'"
      ]
     },
     "execution_count": 58,
     "metadata": {},
     "output_type": "execute_result"
    }
   ],
   "source": [
    "name.swapcase()"
   ]
  },
  {
   "cell_type": "code",
   "execution_count": 60,
   "id": "5791744e",
   "metadata": {},
   "outputs": [],
   "source": [
    "name = ' Adaramola '"
   ]
  },
  {
   "cell_type": "code",
   "execution_count": 63,
   "id": "313ca1ec",
   "metadata": {},
   "outputs": [
    {
     "data": {
      "text/plain": [
       "'Adaramola'"
      ]
     },
     "execution_count": 63,
     "metadata": {},
     "output_type": "execute_result"
    }
   ],
   "source": [
    "name.strip()"
   ]
  },
  {
   "cell_type": "code",
   "execution_count": 1,
   "id": "88494366",
   "metadata": {},
   "outputs": [],
   "source": [
    "# Immutable "
   ]
  },
  {
   "cell_type": "code",
   "execution_count": 2,
   "id": "0bee0ee5",
   "metadata": {},
   "outputs": [
    {
     "data": {
      "text/plain": [
       "'omolewa-adaramola-is-a-nigerian/from Ipoti/somewhere in ekiti\"state\"'"
      ]
     },
     "execution_count": 2,
     "metadata": {},
     "output_type": "execute_result"
    }
   ],
   "source": [
    "'omolewa-adaramola-is-a-nigerian/from Ipoti/somewhere in ekiti\"state\"'"
   ]
  },
  {
   "cell_type": "code",
   "execution_count": 3,
   "id": "f6efa309",
   "metadata": {},
   "outputs": [],
   "source": [
    "statement = 'omolewa-adaramola-is-a-nigerian/from Ipoti/somewhere in ekiti\"state\"'"
   ]
  },
  {
   "cell_type": "code",
   "execution_count": 4,
   "id": "2ec9f19d",
   "metadata": {},
   "outputs": [
    {
     "data": {
      "text/plain": [
       "'omolewa-adaramola-is-a-nigerian/from Ipoti/somewhere in ekiti\"state\"'"
      ]
     },
     "execution_count": 4,
     "metadata": {},
     "output_type": "execute_result"
    }
   ],
   "source": [
    "statement"
   ]
  },
  {
   "cell_type": "code",
   "execution_count": 8,
   "id": "88384036",
   "metadata": {},
   "outputs": [
    {
     "name": "stdout",
     "output_type": "stream",
     "text": [
      "['omolewa-adaramola-is-a-nigerian/from', 'Ipoti/somewhere', 'in', 'ekiti\"state\"']\n",
      "['omolewa', 'adaramola', 'is', 'a', 'nigerian/from Ipoti/somewhere in ekiti\"state\"']\n"
     ]
    }
   ],
   "source": [
    "print(statement.split())\n",
    "print(statement.split('-'))"
   ]
  },
  {
   "cell_type": "code",
   "execution_count": 9,
   "id": "9fab76d2",
   "metadata": {},
   "outputs": [
    {
     "data": {
      "text/plain": [
       "['omolewa',\n",
       " 'adaramola',\n",
       " 'is',\n",
       " 'a',\n",
       " 'nigerian/from Ipoti/somewhere in ekiti\"state\"']"
      ]
     },
     "execution_count": 9,
     "metadata": {},
     "output_type": "execute_result"
    }
   ],
   "source": [
    "statement.split('-')"
   ]
  },
  {
   "cell_type": "code",
   "execution_count": 16,
   "id": "e6cc11df",
   "metadata": {},
   "outputs": [
    {
     "data": {
      "text/plain": [
       "'omolewa adaramola is a nigerian/from Ipoti/somewhere in ekiti\"state\"'"
      ]
     },
     "execution_count": 16,
     "metadata": {},
     "output_type": "execute_result"
    }
   ],
   "source": [
    "' '.join(statement.split('-'))"
   ]
  },
  {
   "cell_type": "code",
   "execution_count": 17,
   "id": "150c1161",
   "metadata": {},
   "outputs": [
    {
     "data": {
      "text/plain": [
       "['omolewa adaramola is a nigerian', 'from Ipoti', 'somewhere in ekiti\"state\"']"
      ]
     },
     "execution_count": 17,
     "metadata": {},
     "output_type": "execute_result"
    }
   ],
   "source": [
    "' '.join(statement.split('-')).split('/')"
   ]
  },
  {
   "cell_type": "code",
   "execution_count": 18,
   "id": "b698dcf1",
   "metadata": {},
   "outputs": [
    {
     "data": {
      "text/plain": [
       "'omolewa adaramola is a nigerian from Ipoti somewhere in ekiti\"state\"'"
      ]
     },
     "execution_count": 18,
     "metadata": {},
     "output_type": "execute_result"
    }
   ],
   "source": [
    "' '.join(' '.join(statement.split('-')).split('/'))"
   ]
  },
  {
   "cell_type": "code",
   "execution_count": 19,
   "id": "83993176",
   "metadata": {},
   "outputs": [
    {
     "data": {
      "text/plain": [
       "'Omolewa is his dad\\'s favourite and I am quoting his dad\"I agree\"'"
      ]
     },
     "execution_count": 19,
     "metadata": {},
     "output_type": "execute_result"
    }
   ],
   "source": [
    "'''Omolewa is his dad's favourite and I am quoting his dad\"I agree\"'''"
   ]
  },
  {
   "cell_type": "code",
   "execution_count": 20,
   "id": "161619ef",
   "metadata": {},
   "outputs": [],
   "source": [
    "name = 'Omolewa'"
   ]
  },
  {
   "cell_type": "code",
   "execution_count": 21,
   "id": "6516c190",
   "metadata": {},
   "outputs": [
    {
     "data": {
      "text/plain": [
       "7"
      ]
     },
     "execution_count": 21,
     "metadata": {},
     "output_type": "execute_result"
    }
   ],
   "source": [
    "len(name)"
   ]
  },
  {
   "cell_type": "code",
   "execution_count": 23,
   "id": "a131ee7c",
   "metadata": {},
   "outputs": [
    {
     "data": {
      "text/plain": [
       "6"
      ]
     },
     "execution_count": 23,
     "metadata": {},
     "output_type": "execute_result"
    }
   ],
   "source": [
    "name.find('a')"
   ]
  },
  {
   "cell_type": "code",
   "execution_count": 25,
   "id": "dcd659f8",
   "metadata": {},
   "outputs": [
    {
     "data": {
      "text/plain": [
       "True"
      ]
     },
     "execution_count": 25,
     "metadata": {},
     "output_type": "execute_result"
    }
   ],
   "source": [
    "'a' in name"
   ]
  },
  {
   "cell_type": "code",
   "execution_count": 31,
   "id": "7b9fe83c",
   "metadata": {},
   "outputs": [
    {
     "data": {
      "text/plain": [
       "'1000 is a boy Dele Omolewa, Loko'"
      ]
     },
     "execution_count": 31,
     "metadata": {},
     "output_type": "execute_result"
    }
   ],
   "source": [
    "'{3} is a boy {1} {0}, {2}'.format('Omolewa', 'Dele', 'Loko', 1000)"
   ]
  },
  {
   "cell_type": "markdown",
   "id": "9aab5b01",
   "metadata": {},
   "source": [
    "#### GEtting input from a user"
   ]
  },
  {
   "cell_type": "code",
   "execution_count": 35,
   "id": "dd7c2c3a",
   "metadata": {},
   "outputs": [
    {
     "name": "stdout",
     "output_type": "stream",
     "text": [
      "Please, enter your Age: \n"
     ]
    },
    {
     "data": {
      "text/plain": [
       "''"
      ]
     },
     "execution_count": 35,
     "metadata": {},
     "output_type": "execute_result"
    }
   ],
   "source": [
    "input('Please, enter your Age: ')"
   ]
  },
  {
   "cell_type": "markdown",
   "id": "dd6ce51a",
   "metadata": {},
   "source": [
    "#### List"
   ]
  },
  {
   "cell_type": "code",
   "execution_count": 36,
   "id": "83992386",
   "metadata": {},
   "outputs": [],
   "source": [
    "names = ['Ola', 'Dele', 1000, 500]"
   ]
  },
  {
   "cell_type": "code",
   "execution_count": 37,
   "id": "7d96daa6",
   "metadata": {},
   "outputs": [],
   "source": [
    "names.append('Omolewa')"
   ]
  },
  {
   "cell_type": "code",
   "execution_count": 38,
   "id": "7c953c4d",
   "metadata": {},
   "outputs": [
    {
     "data": {
      "text/plain": [
       "['Ola', 'Dele', 1000, 500, 'Omolewa']"
      ]
     },
     "execution_count": 38,
     "metadata": {},
     "output_type": "execute_result"
    }
   ],
   "source": [
    "names"
   ]
  },
  {
   "cell_type": "code",
   "execution_count": 41,
   "id": "f47b9092",
   "metadata": {},
   "outputs": [],
   "source": [
    "names1 = ['Ola', 'Dele', 1000, 500]\n",
    "names2 = ['900', 1200]"
   ]
  },
  {
   "cell_type": "code",
   "execution_count": 42,
   "id": "e5e399fe",
   "metadata": {},
   "outputs": [],
   "source": [
    "names1.append(names2)"
   ]
  },
  {
   "cell_type": "code",
   "execution_count": 43,
   "id": "5bf86e31",
   "metadata": {},
   "outputs": [
    {
     "data": {
      "text/plain": [
       "['Ola', 'Dele', 1000, 500, ['900', 1200]]"
      ]
     },
     "execution_count": 43,
     "metadata": {},
     "output_type": "execute_result"
    }
   ],
   "source": [
    "names1"
   ]
  },
  {
   "cell_type": "code",
   "execution_count": 44,
   "id": "0dd3a662",
   "metadata": {},
   "outputs": [],
   "source": [
    "names1 = ['Ola', 'Dele', 1000, 500]\n",
    "names2 = ['900', 1200]"
   ]
  },
  {
   "cell_type": "code",
   "execution_count": 45,
   "id": "c2962cbb",
   "metadata": {},
   "outputs": [],
   "source": [
    "names1.extend(names2)"
   ]
  },
  {
   "cell_type": "code",
   "execution_count": 46,
   "id": "899680c6",
   "metadata": {},
   "outputs": [
    {
     "data": {
      "text/plain": [
       "['Ola', 'Dele', 1000, 500, '900', 1200]"
      ]
     },
     "execution_count": 46,
     "metadata": {},
     "output_type": "execute_result"
    }
   ],
   "source": [
    "names1"
   ]
  },
  {
   "cell_type": "code",
   "execution_count": 47,
   "id": "a50145ce",
   "metadata": {},
   "outputs": [
    {
     "data": {
      "text/plain": [
       "6"
      ]
     },
     "execution_count": 47,
     "metadata": {},
     "output_type": "execute_result"
    }
   ],
   "source": [
    "len(names1)"
   ]
  },
  {
   "cell_type": "code",
   "execution_count": 48,
   "id": "6968efb8",
   "metadata": {},
   "outputs": [
    {
     "data": {
      "text/plain": [
       "1200"
      ]
     },
     "execution_count": 48,
     "metadata": {},
     "output_type": "execute_result"
    }
   ],
   "source": [
    "names1[-1]"
   ]
  },
  {
   "cell_type": "code",
   "execution_count": 50,
   "id": "fa6c9f8b",
   "metadata": {},
   "outputs": [],
   "source": [
    "names1.insert(2, 'Michael')"
   ]
  },
  {
   "cell_type": "code",
   "execution_count": 51,
   "id": "cf2dc74d",
   "metadata": {},
   "outputs": [
    {
     "data": {
      "text/plain": [
       "['Ola', 'Dele', 'Michael', 1000, 500, '900', 1200]"
      ]
     },
     "execution_count": 51,
     "metadata": {},
     "output_type": "execute_result"
    }
   ],
   "source": [
    "names1"
   ]
  },
  {
   "cell_type": "code",
   "execution_count": 52,
   "id": "ed3db45b",
   "metadata": {},
   "outputs": [
    {
     "ename": "TypeError",
     "evalue": "'<' not supported between instances of 'int' and 'str'",
     "output_type": "error",
     "traceback": [
      "\u001b[1;31m---------------------------------------------------------------------------\u001b[0m",
      "\u001b[1;31mTypeError\u001b[0m                                 Traceback (most recent call last)",
      "\u001b[1;32mC:\\Users\\OMOLEW~1\\AppData\\Local\\Temp/ipykernel_28564/1587392785.py\u001b[0m in \u001b[0;36m<module>\u001b[1;34m\u001b[0m\n\u001b[1;32m----> 1\u001b[1;33m \u001b[0mnames1\u001b[0m\u001b[1;33m.\u001b[0m\u001b[0msort\u001b[0m\u001b[1;33m(\u001b[0m\u001b[1;33m)\u001b[0m\u001b[1;33m\u001b[0m\u001b[1;33m\u001b[0m\u001b[0m\n\u001b[0m",
      "\u001b[1;31mTypeError\u001b[0m: '<' not supported between instances of 'int' and 'str'"
     ]
    }
   ],
   "source": [
    "names1.sort()"
   ]
  },
  {
   "cell_type": "code",
   "execution_count": 53,
   "id": "f01119b7",
   "metadata": {},
   "outputs": [],
   "source": [
    "nums = [23, 1, 98, 7]"
   ]
  },
  {
   "cell_type": "code",
   "execution_count": 54,
   "id": "d50a20bd",
   "metadata": {},
   "outputs": [],
   "source": [
    "nums.sort()"
   ]
  },
  {
   "cell_type": "code",
   "execution_count": 55,
   "id": "3707875b",
   "metadata": {},
   "outputs": [
    {
     "data": {
      "text/plain": [
       "[1, 7, 23, 98]"
      ]
     },
     "execution_count": 55,
     "metadata": {},
     "output_type": "execute_result"
    }
   ],
   "source": [
    "nums"
   ]
  },
  {
   "cell_type": "code",
   "execution_count": 56,
   "id": "c378e147",
   "metadata": {},
   "outputs": [],
   "source": [
    "names1.remove('Dele')"
   ]
  },
  {
   "cell_type": "code",
   "execution_count": 57,
   "id": "767bb073",
   "metadata": {},
   "outputs": [
    {
     "data": {
      "text/plain": [
       "['Michael', 'Ola', 1000, 500, '900', 1200]"
      ]
     },
     "execution_count": 57,
     "metadata": {},
     "output_type": "execute_result"
    }
   ],
   "source": [
    "names1"
   ]
  },
  {
   "cell_type": "code",
   "execution_count": 58,
   "id": "9b9cb039",
   "metadata": {},
   "outputs": [
    {
     "data": {
      "text/plain": [
       "1200"
      ]
     },
     "execution_count": 58,
     "metadata": {},
     "output_type": "execute_result"
    }
   ],
   "source": [
    "names1.pop(-1)"
   ]
  },
  {
   "cell_type": "markdown",
   "id": "a2c857c7",
   "metadata": {},
   "source": [
    "# "
   ]
  },
  {
   "cell_type": "code",
   "execution_count": 59,
   "id": "b899ef20",
   "metadata": {},
   "outputs": [
    {
     "data": {
      "text/plain": [
       "['Michael', 'Ola', 1000, 500, '900']"
      ]
     },
     "execution_count": 59,
     "metadata": {},
     "output_type": "execute_result"
    }
   ],
   "source": [
    "names1"
   ]
  },
  {
   "cell_type": "code",
   "execution_count": 60,
   "id": "fba770fc",
   "metadata": {},
   "outputs": [
    {
     "data": {
      "text/plain": [
       "['Michael', 'Ola', 1000]"
      ]
     },
     "execution_count": 60,
     "metadata": {},
     "output_type": "execute_result"
    }
   ],
   "source": [
    "names1[:3]"
   ]
  },
  {
   "cell_type": "code",
   "execution_count": 62,
   "id": "23637456",
   "metadata": {},
   "outputs": [
    {
     "data": {
      "text/plain": [
       "'MICHAEL'"
      ]
     },
     "execution_count": 62,
     "metadata": {},
     "output_type": "execute_result"
    }
   ],
   "source": [
    "names1[0].upper()"
   ]
  },
  {
   "cell_type": "code",
   "execution_count": 63,
   "id": "e1f34655",
   "metadata": {},
   "outputs": [
    {
     "data": {
      "text/plain": [
       "'Michael'"
      ]
     },
     "execution_count": 63,
     "metadata": {},
     "output_type": "execute_result"
    }
   ],
   "source": [
    "names1[0]"
   ]
  },
  {
   "cell_type": "markdown",
   "id": "8c5d0ce5",
   "metadata": {},
   "source": [
    "#### Dictionary\n",
    "\n",
    "Key-Value pair"
   ]
  },
  {
   "cell_type": "code",
   "execution_count": 64,
   "id": "ce9dcfdf",
   "metadata": {},
   "outputs": [
    {
     "data": {
      "text/plain": [
       "{'Key': 'Value'}"
      ]
     },
     "execution_count": 64,
     "metadata": {},
     "output_type": "execute_result"
    }
   ],
   "source": [
    "{'Key': 'Value'}"
   ]
  },
  {
   "cell_type": "code",
   "execution_count": 65,
   "id": "d3ee0a88",
   "metadata": {},
   "outputs": [],
   "source": [
    "countries = {'Nigeria': 'Abuja', 'USA': 'DC', 'Canada': 'Toronto'}"
   ]
  },
  {
   "cell_type": "code",
   "execution_count": 67,
   "id": "2bc31cca",
   "metadata": {},
   "outputs": [
    {
     "data": {
      "text/plain": [
       "dict_keys(['Nigeria', 'USA', 'Canada'])"
      ]
     },
     "execution_count": 67,
     "metadata": {},
     "output_type": "execute_result"
    }
   ],
   "source": [
    "countries.keys()"
   ]
  },
  {
   "cell_type": "code",
   "execution_count": 68,
   "id": "7d6a442d",
   "metadata": {},
   "outputs": [
    {
     "data": {
      "text/plain": [
       "dict_values(['Abuja', 'DC', 'Toronto'])"
      ]
     },
     "execution_count": 68,
     "metadata": {},
     "output_type": "execute_result"
    }
   ],
   "source": [
    "countries.values()"
   ]
  },
  {
   "cell_type": "code",
   "execution_count": 69,
   "id": "56a05155",
   "metadata": {},
   "outputs": [
    {
     "data": {
      "text/plain": [
       "'Abuja'"
      ]
     },
     "execution_count": 69,
     "metadata": {},
     "output_type": "execute_result"
    }
   ],
   "source": [
    "countries['Nigeria']"
   ]
  },
  {
   "cell_type": "code",
   "execution_count": 94,
   "id": "63a8d55d",
   "metadata": {},
   "outputs": [
    {
     "ename": "TypeError",
     "evalue": "unhashable type: 'list'",
     "output_type": "error",
     "traceback": [
      "\u001b[1;31m---------------------------------------------------------------------------\u001b[0m",
      "\u001b[1;31mTypeError\u001b[0m                                 Traceback (most recent call last)",
      "\u001b[1;32mC:\\Users\\OMOLEW~1\\AppData\\Local\\Temp/ipykernel_28564/1157172022.py\u001b[0m in \u001b[0;36m<module>\u001b[1;34m\u001b[0m\n\u001b[0;32m      2\u001b[0m \u001b[1;33m\u001b[0m\u001b[0m\n\u001b[0;32m      3\u001b[0m \u001b[1;32mfor\u001b[0m \u001b[0mkey\u001b[0m \u001b[1;32min\u001b[0m \u001b[0mcountries\u001b[0m\u001b[1;33m.\u001b[0m\u001b[0mkeys\u001b[0m\u001b[1;33m(\u001b[0m\u001b[1;33m)\u001b[0m\u001b[1;33m:\u001b[0m\u001b[1;33m\u001b[0m\u001b[1;33m\u001b[0m\u001b[0m\n\u001b[1;32m----> 4\u001b[1;33m     \u001b[0mCR\u001b[0m\u001b[1;33m[\u001b[0m\u001b[0mcountries\u001b[0m\u001b[1;33m[\u001b[0m\u001b[0mkey\u001b[0m\u001b[1;33m]\u001b[0m\u001b[1;33m]\u001b[0m \u001b[1;33m=\u001b[0m \u001b[0mkey\u001b[0m\u001b[1;33m\u001b[0m\u001b[1;33m\u001b[0m\u001b[0m\n\u001b[0m",
      "\u001b[1;31mTypeError\u001b[0m: unhashable type: 'list'"
     ]
    }
   ],
   "source": [
    "CR = {}\n",
    "\n",
    "for key in countries.keys():\n",
    "    CR[countries[key]] = key"
   ]
  },
  {
   "cell_type": "code",
   "execution_count": 72,
   "id": "c6fc363e",
   "metadata": {},
   "outputs": [
    {
     "data": {
      "text/plain": [
       "{'Abuja': 'Nigeria', 'DC': 'USA', 'Toronto': 'Canada'}"
      ]
     },
     "execution_count": 72,
     "metadata": {},
     "output_type": "execute_result"
    }
   ],
   "source": [
    "CR"
   ]
  },
  {
   "cell_type": "code",
   "execution_count": 77,
   "id": "2d67ca02",
   "metadata": {},
   "outputs": [
    {
     "data": {
      "text/plain": [
       "'Abuja'"
      ]
     },
     "execution_count": 77,
     "metadata": {},
     "output_type": "execute_result"
    }
   ],
   "source": [
    "countries.get('Nigeria', 'Country not Found')"
   ]
  },
  {
   "cell_type": "code",
   "execution_count": 75,
   "id": "add6dad2",
   "metadata": {},
   "outputs": [
    {
     "ename": "KeyError",
     "evalue": "'Cameroun'",
     "output_type": "error",
     "traceback": [
      "\u001b[1;31m---------------------------------------------------------------------------\u001b[0m",
      "\u001b[1;31mKeyError\u001b[0m                                  Traceback (most recent call last)",
      "\u001b[1;32mC:\\Users\\OMOLEW~1\\AppData\\Local\\Temp/ipykernel_28564/1019692925.py\u001b[0m in \u001b[0;36m<module>\u001b[1;34m\u001b[0m\n\u001b[1;32m----> 1\u001b[1;33m \u001b[0mcountries\u001b[0m\u001b[1;33m[\u001b[0m\u001b[1;34m'Cameroun'\u001b[0m\u001b[1;33m]\u001b[0m\u001b[1;33m\u001b[0m\u001b[1;33m\u001b[0m\u001b[0m\n\u001b[0m",
      "\u001b[1;31mKeyError\u001b[0m: 'Cameroun'"
     ]
    }
   ],
   "source": [
    "countries['Cameroun']"
   ]
  },
  {
   "cell_type": "code",
   "execution_count": 78,
   "id": "05ae0090",
   "metadata": {},
   "outputs": [],
   "source": [
    "countries = {'USA': ['GA', 'AL', 'TX'], 'Nigeria': 'Abuja', 'Canada': ['Toronto', 'Ottawa']}"
   ]
  },
  {
   "cell_type": "code",
   "execution_count": 80,
   "id": "8690cee8",
   "metadata": {},
   "outputs": [],
   "source": [
    "countries = {\n",
    "    'USA': {'GA': 'ATL', 'NC': 'Charlo'},\n",
    "    'Nig': {'LAG': 'Ikeja', 'Ekiti': 'Ado'}\n",
    "}"
   ]
  },
  {
   "cell_type": "code",
   "execution_count": 90,
   "id": "7da44ce6",
   "metadata": {},
   "outputs": [
    {
     "data": {
      "text/plain": [
       "'Ado'"
      ]
     },
     "execution_count": 90,
     "metadata": {},
     "output_type": "execute_result"
    }
   ],
   "source": [
    "countries['Nig'].get('Ekiti')"
   ]
  },
  {
   "cell_type": "code",
   "execution_count": 91,
   "id": "d5e9ea6d",
   "metadata": {},
   "outputs": [],
   "source": [
    "countries = {'USA': ['GA', 'AL', 'TX'], 'Nigeria': 'Abuja', 'Canada': ['Toronto', 'Ottawa']}"
   ]
  },
  {
   "cell_type": "code",
   "execution_count": 93,
   "id": "c2c7652a",
   "metadata": {},
   "outputs": [
    {
     "data": {
      "text/plain": [
       "'TX'"
      ]
     },
     "execution_count": 93,
     "metadata": {},
     "output_type": "execute_result"
    }
   ],
   "source": [
    "countries['USA'][2]"
   ]
  },
  {
   "cell_type": "code",
   "execution_count": 81,
   "id": "6d782dc6",
   "metadata": {},
   "outputs": [
    {
     "data": {
      "text/plain": [
       "dict_keys(['USA', 'Nig'])"
      ]
     },
     "execution_count": 81,
     "metadata": {},
     "output_type": "execute_result"
    }
   ],
   "source": [
    "countries.keys()"
   ]
  },
  {
   "cell_type": "code",
   "execution_count": 82,
   "id": "7329f3bb",
   "metadata": {},
   "outputs": [
    {
     "data": {
      "text/plain": [
       "dict_keys"
      ]
     },
     "execution_count": 82,
     "metadata": {},
     "output_type": "execute_result"
    }
   ],
   "source": [
    "type(countries.keys())"
   ]
  },
  {
   "cell_type": "code",
   "execution_count": 83,
   "id": "bebfc939",
   "metadata": {},
   "outputs": [
    {
     "data": {
      "text/plain": [
       "['USA', 'Nig']"
      ]
     },
     "execution_count": 83,
     "metadata": {},
     "output_type": "execute_result"
    }
   ],
   "source": [
    "list(countries.keys())"
   ]
  },
  {
   "cell_type": "code",
   "execution_count": null,
   "id": "db189ca5",
   "metadata": {},
   "outputs": [],
   "source": [
    "countries = {'USA': ['GA', 'AL', 'TX'], 'Nigeria': 'Abuja', 'Canada': ['Toronto', 'Ottawa']}"
   ]
  },
  {
   "cell_type": "code",
   "execution_count": null,
   "id": "002863ff",
   "metadata": {},
   "outputs": [],
   "source": []
  },
  {
   "cell_type": "code",
   "execution_count": null,
   "id": "c3585f7b",
   "metadata": {},
   "outputs": [],
   "source": [
    "## json format"
   ]
  },
  {
   "cell_type": "markdown",
   "id": "cc868314",
   "metadata": {},
   "source": [
    "#### Tuple"
   ]
  },
  {
   "cell_type": "code",
   "execution_count": 96,
   "id": "77b67bba",
   "metadata": {},
   "outputs": [
    {
     "data": {
      "text/plain": [
       "tuple"
      ]
     },
     "execution_count": 96,
     "metadata": {},
     "output_type": "execute_result"
    }
   ],
   "source": [
    "type(('Omolewa', 'Bukola'))"
   ]
  },
  {
   "cell_type": "code",
   "execution_count": 97,
   "id": "2b10653d",
   "metadata": {},
   "outputs": [],
   "source": [
    "tp = ('Omolewa', 'Bukola')"
   ]
  },
  {
   "cell_type": "code",
   "execution_count": 104,
   "id": "54d10ad9",
   "metadata": {},
   "outputs": [],
   "source": [
    "rev = list(tp)"
   ]
  },
  {
   "cell_type": "code",
   "execution_count": 106,
   "id": "4d6a08ec",
   "metadata": {},
   "outputs": [],
   "source": [
    "rev.append('Adaramola')"
   ]
  },
  {
   "cell_type": "code",
   "execution_count": 109,
   "id": "d37aa9bf",
   "metadata": {},
   "outputs": [
    {
     "data": {
      "text/plain": [
       "('Omolewa', 'Bukola', 'Adaramola')"
      ]
     },
     "execution_count": 109,
     "metadata": {},
     "output_type": "execute_result"
    }
   ],
   "source": [
    "tuple(rev)"
   ]
  },
  {
   "cell_type": "markdown",
   "id": "6f1ea3ad",
   "metadata": {},
   "source": [
    "#### Loop"
   ]
  },
  {
   "cell_type": "code",
   "execution_count": 110,
   "id": "84762953",
   "metadata": {},
   "outputs": [],
   "source": [
    "nums = [2, 5, 1, 7, 8]"
   ]
  },
  {
   "cell_type": "code",
   "execution_count": 111,
   "id": "22aeb6ab",
   "metadata": {},
   "outputs": [
    {
     "name": "stdout",
     "output_type": "stream",
     "text": [
      "8\n",
      "20\n",
      "4\n",
      "28\n",
      "32\n"
     ]
    }
   ],
   "source": [
    "for i in nums:\n",
    "    print(4 * i)"
   ]
  },
  {
   "cell_type": "code",
   "execution_count": 112,
   "id": "2e49b6d8",
   "metadata": {},
   "outputs": [],
   "source": [
    "output = []\n",
    "for i in nums:\n",
    "    output.append(4 * i)"
   ]
  },
  {
   "cell_type": "code",
   "execution_count": 113,
   "id": "b64737a0",
   "metadata": {},
   "outputs": [
    {
     "data": {
      "text/plain": [
       "[8, 20, 4, 28, 32]"
      ]
     },
     "execution_count": 113,
     "metadata": {},
     "output_type": "execute_result"
    }
   ],
   "source": [
    "output"
   ]
  },
  {
   "cell_type": "code",
   "execution_count": 114,
   "id": "06a925bc",
   "metadata": {},
   "outputs": [],
   "source": [
    "num1 = [2, 3, 4]\n",
    "num2 = [1, 2, 3]"
   ]
  },
  {
   "cell_type": "code",
   "execution_count": 115,
   "id": "18531b6b",
   "metadata": {},
   "outputs": [],
   "source": [
    "output = []\n",
    "for i in num2:\n",
    "    for j in num1:\n",
    "        output.append(i * j)"
   ]
  },
  {
   "cell_type": "code",
   "execution_count": 116,
   "id": "387300ab",
   "metadata": {},
   "outputs": [
    {
     "data": {
      "text/plain": [
       "[2, 3, 4, 4, 6, 8, 6, 9, 12]"
      ]
     },
     "execution_count": 116,
     "metadata": {},
     "output_type": "execute_result"
    }
   ],
   "source": [
    "output"
   ]
  },
  {
   "cell_type": "code",
   "execution_count": 118,
   "id": "d2bbc577",
   "metadata": {},
   "outputs": [
    {
     "data": {
      "text/plain": [
       "[8, 25, 5, 35, 32]"
      ]
     },
     "execution_count": 118,
     "metadata": {},
     "output_type": "execute_result"
    }
   ],
   "source": [
    "nums = [2, 5, 1, 7, 8]\n",
    "# even by 4, odd by 5\n",
    "[8, 25, 5, 35, 32]"
   ]
  },
  {
   "cell_type": "code",
   "execution_count": 119,
   "id": "7ced4513",
   "metadata": {},
   "outputs": [],
   "source": [
    "output = []\n",
    "for i in nums:\n",
    "    if i % 2 == 0:\n",
    "        output.append(4 * i)\n",
    "    else:\n",
    "        output.append(5 * i)"
   ]
  },
  {
   "cell_type": "code",
   "execution_count": 120,
   "id": "15baa6e2",
   "metadata": {},
   "outputs": [
    {
     "data": {
      "text/plain": [
       "[8, 25, 5, 35, 32]"
      ]
     },
     "execution_count": 120,
     "metadata": {},
     "output_type": "execute_result"
    }
   ],
   "source": [
    "output"
   ]
  },
  {
   "cell_type": "code",
   "execution_count": 125,
   "id": "632aa43c",
   "metadata": {},
   "outputs": [],
   "source": [
    "output = []\n",
    "for i in nums:\n",
    "    if i % 2 == 0:\n",
    "        output.append(4 * i)\n",
    "    elif i % 3 == 0:\n",
    "        output.append(6 * i)\n",
    "    elif i % 4 == 0:\n",
    "        output.append(8 * i)"
   ]
  },
  {
   "cell_type": "code",
   "execution_count": 126,
   "id": "69349e7a",
   "metadata": {},
   "outputs": [
    {
     "data": {
      "text/plain": [
       "[8, 32]"
      ]
     },
     "execution_count": 126,
     "metadata": {},
     "output_type": "execute_result"
    }
   ],
   "source": [
    "output"
   ]
  },
  {
   "cell_type": "code",
   "execution_count": 127,
   "id": "33ee2458",
   "metadata": {},
   "outputs": [
    {
     "data": {
      "text/plain": [
       "[2, 5, 1, 7, 8]"
      ]
     },
     "execution_count": 127,
     "metadata": {},
     "output_type": "execute_result"
    }
   ],
   "source": [
    "nums"
   ]
  },
  {
   "cell_type": "markdown",
   "id": "55dae4a2",
   "metadata": {},
   "source": [
    "#### Assignment: [3, 5, 10, 30, 23, 7, 18, 19, 11], \n",
    "\n",
    "- multiply\n",
    "    - 4 * any number less than 10\n",
    "    - 5 * any number less than 20\n",
    "    - 6 multiply by rest"
   ]
  },
  {
   "cell_type": "code",
   "execution_count": null,
   "id": "4917af7b",
   "metadata": {},
   "outputs": [],
   "source": []
  }
 ],
 "metadata": {
  "kernelspec": {
   "display_name": "Python 3 (ipykernel)",
   "language": "python",
   "name": "python3"
  },
  "language_info": {
   "codemirror_mode": {
    "name": "ipython",
    "version": 3
   },
   "file_extension": ".py",
   "mimetype": "text/x-python",
   "name": "python",
   "nbconvert_exporter": "python",
   "pygments_lexer": "ipython3",
   "version": "3.9.7"
  }
 },
 "nbformat": 4,
 "nbformat_minor": 5
}
