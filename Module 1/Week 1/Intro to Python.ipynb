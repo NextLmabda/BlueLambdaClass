{
 "cells": [
  {
   "cell_type": "markdown",
   "id": "4ec3ed27",
   "metadata": {},
   "source": [
    "### How to run python code using\n",
    "\n",
    "- Jupyter Notebook\n",
    "- Command Line\n",
    "- Text Editors like Pycharm, VSCode\n",
    "- from any Cloud Service"
   ]
  },
  {
   "cell_type": "code",
   "execution_count": null,
   "id": "ed147c39",
   "metadata": {},
   "outputs": [],
   "source": [
    "\n"
   ]
  }
 ],
 "metadata": {
  "kernelspec": {
   "display_name": "Python 3 (ipykernel)",
   "language": "python",
   "name": "python3"
  },
  "language_info": {
   "codemirror_mode": {
    "name": "ipython",
    "version": 3
   },
   "file_extension": ".py",
   "mimetype": "text/x-python",
   "name": "python",
   "nbconvert_exporter": "python",
   "pygments_lexer": "ipython3",
   "version": "3.9.7"
  }
 },
 "nbformat": 4,
 "nbformat_minor": 5
}
