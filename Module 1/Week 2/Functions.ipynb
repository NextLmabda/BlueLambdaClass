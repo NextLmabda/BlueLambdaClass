{
 "cells": [
  {
   "cell_type": "markdown",
   "id": "fd718850",
   "metadata": {},
   "source": [
    "[1, 2, 3, 4, 5]. Multiply everything by 10\n",
    "\n",
    "[10, 20, 30, 40, 50]"
   ]
  },
  {
   "cell_type": "code",
   "execution_count": 1,
   "id": "f3a07acb",
   "metadata": {},
   "outputs": [],
   "source": [
    "output = []\n",
    "for num in [1, 2, 3, 4, 5]:\n",
    "    output.append(10 * num)"
   ]
  },
  {
   "cell_type": "code",
   "execution_count": 2,
   "id": "3da06a9a",
   "metadata": {},
   "outputs": [
    {
     "data": {
      "text/plain": [
       "[10, 20, 30, 40, 50]"
      ]
     },
     "execution_count": 2,
     "metadata": {},
     "output_type": "execute_result"
    }
   ],
   "source": [
    "output"
   ]
  },
  {
   "cell_type": "code",
   "execution_count": 3,
   "id": "251d8035",
   "metadata": {},
   "outputs": [
    {
     "data": {
      "text/plain": [
       "[10, 20, 30, 40, 50]"
      ]
     },
     "execution_count": 3,
     "metadata": {},
     "output_type": "execute_result"
    }
   ],
   "source": [
    "# List Comprehension\n",
    "nums = [1, 2, 3, 4, 5]\n",
    "[i * 10 for i in nums]"
   ]
  },
  {
   "cell_type": "markdown",
   "id": "bcba6293",
   "metadata": {},
   "source": [
    "[1, 2, 3, 4, 5] Square all the numbers\n",
    "\n",
    "{1: 1, 2: 4, 3: 9, 4: 16, 5: 25}"
   ]
  },
  {
   "cell_type": "code",
   "execution_count": 13,
   "id": "733443dc",
   "metadata": {},
   "outputs": [],
   "source": [
    "nums = [1, 2, 3, 4, 5]\n",
    "output = {}\n",
    "for i in nums:\n",
    "    output[i] = i**2"
   ]
  },
  {
   "cell_type": "code",
   "execution_count": 14,
   "id": "6412fe8e",
   "metadata": {},
   "outputs": [
    {
     "data": {
      "text/plain": [
       "{1: 1, 2: 4, 3: 9, 4: 16, 5: 25}"
      ]
     },
     "execution_count": 14,
     "metadata": {},
     "output_type": "execute_result"
    }
   ],
   "source": [
    "output"
   ]
  },
  {
   "cell_type": "code",
   "execution_count": 17,
   "id": "dd6371ae",
   "metadata": {},
   "outputs": [
    {
     "data": {
      "text/plain": [
       "{2: 4, 4: 16}"
      ]
     },
     "execution_count": 17,
     "metadata": {},
     "output_type": "execute_result"
    }
   ],
   "source": [
    "{i: i ** 2 for i in nums if i % 2 == 0}"
   ]
  },
  {
   "cell_type": "markdown",
   "id": "9cf0d24e",
   "metadata": {},
   "source": [
    "{1:'Odd', 2: 'Even'}"
   ]
  },
  {
   "cell_type": "code",
   "execution_count": 22,
   "id": "5a4c3866",
   "metadata": {},
   "outputs": [
    {
     "data": {
      "text/plain": [
       "{2: 'Even', 4: 'Even'}"
      ]
     },
     "execution_count": 22,
     "metadata": {},
     "output_type": "execute_result"
    }
   ],
   "source": [
    "{i: 'Even' for i in nums if i % 2 == 0}"
   ]
  },
  {
   "cell_type": "code",
   "execution_count": 5,
   "id": "e5e46895",
   "metadata": {},
   "outputs": [],
   "source": [
    "students = {}\n",
    "students['Omolewa'] = 20"
   ]
  },
  {
   "cell_type": "code",
   "execution_count": 6,
   "id": "086bac15",
   "metadata": {},
   "outputs": [
    {
     "data": {
      "text/plain": [
       "{'Omolewa': 20}"
      ]
     },
     "execution_count": 6,
     "metadata": {},
     "output_type": "execute_result"
    }
   ],
   "source": [
    "students"
   ]
  },
  {
   "cell_type": "code",
   "execution_count": 7,
   "id": "fc0b5e8d",
   "metadata": {},
   "outputs": [],
   "source": [
    "students['Loko'] = 55"
   ]
  },
  {
   "cell_type": "code",
   "execution_count": 8,
   "id": "8d4dd1ab",
   "metadata": {},
   "outputs": [
    {
     "data": {
      "text/plain": [
       "{'Omolewa': 20, 'Loko': 55}"
      ]
     },
     "execution_count": 8,
     "metadata": {},
     "output_type": "execute_result"
    }
   ],
   "source": [
    "students"
   ]
  },
  {
   "cell_type": "code",
   "execution_count": 9,
   "id": "007d15b8",
   "metadata": {},
   "outputs": [],
   "source": [
    "students['Loko'] = 5"
   ]
  },
  {
   "cell_type": "code",
   "execution_count": 10,
   "id": "70313c74",
   "metadata": {},
   "outputs": [
    {
     "data": {
      "text/plain": [
       "{'Omolewa': 20, 'Loko': 5}"
      ]
     },
     "execution_count": 10,
     "metadata": {},
     "output_type": "execute_result"
    }
   ],
   "source": [
    "students"
   ]
  },
  {
   "cell_type": "code",
   "execution_count": 11,
   "id": "bdc8e042",
   "metadata": {},
   "outputs": [],
   "source": [
    "students['Dele'] = 100"
   ]
  },
  {
   "cell_type": "code",
   "execution_count": 12,
   "id": "4a6bf6a1",
   "metadata": {},
   "outputs": [
    {
     "data": {
      "text/plain": [
       "{'Omolewa': 20, 'Loko': 5, 'Dele': 100}"
      ]
     },
     "execution_count": 12,
     "metadata": {},
     "output_type": "execute_result"
    }
   ],
   "source": [
    "students"
   ]
  },
  {
   "cell_type": "code",
   "execution_count": 23,
   "id": "547ac8e0",
   "metadata": {},
   "outputs": [],
   "source": [
    "# Generator\n",
    "nums = [1, 2, 3, 4, 5]\n",
    "gen = (i * 10 for i in nums)"
   ]
  },
  {
   "cell_type": "code",
   "execution_count": 29,
   "id": "81145122",
   "metadata": {},
   "outputs": [
    {
     "ename": "StopIteration",
     "evalue": "",
     "output_type": "error",
     "traceback": [
      "\u001b[1;31m---------------------------------------------------------------------------\u001b[0m",
      "\u001b[1;31mStopIteration\u001b[0m                             Traceback (most recent call last)",
      "\u001b[1;32mC:\\Users\\OMOLEW~1\\AppData\\Local\\Temp/ipykernel_10888/4293081279.py\u001b[0m in \u001b[0;36m<module>\u001b[1;34m\u001b[0m\n\u001b[1;32m----> 1\u001b[1;33m \u001b[0mnext\u001b[0m\u001b[1;33m(\u001b[0m\u001b[0mgen\u001b[0m\u001b[1;33m)\u001b[0m\u001b[1;33m\u001b[0m\u001b[1;33m\u001b[0m\u001b[0m\n\u001b[0m",
      "\u001b[1;31mStopIteration\u001b[0m: "
     ]
    }
   ],
   "source": [
    "next(gen)"
   ]
  },
  {
   "cell_type": "code",
   "execution_count": 30,
   "id": "7944f5ab",
   "metadata": {},
   "outputs": [],
   "source": [
    "#### Module"
   ]
  },
  {
   "cell_type": "code",
   "execution_count": 31,
   "id": "294b40e3",
   "metadata": {},
   "outputs": [],
   "source": [
    "import math"
   ]
  },
  {
   "cell_type": "code",
   "execution_count": 32,
   "id": "79e64e51",
   "metadata": {},
   "outputs": [
    {
     "data": {
      "text/plain": [
       "6"
      ]
     },
     "execution_count": 32,
     "metadata": {},
     "output_type": "execute_result"
    }
   ],
   "source": [
    "math.factorial(3)"
   ]
  },
  {
   "cell_type": "code",
   "execution_count": 33,
   "id": "806c34bd",
   "metadata": {},
   "outputs": [],
   "source": [
    "import datetime"
   ]
  },
  {
   "cell_type": "code",
   "execution_count": 34,
   "id": "bccaf0d5",
   "metadata": {},
   "outputs": [],
   "source": [
    "import datetime as dt"
   ]
  },
  {
   "cell_type": "code",
   "execution_count": 35,
   "id": "9d3ffbcd",
   "metadata": {},
   "outputs": [],
   "source": [
    "import math as omolewa"
   ]
  },
  {
   "cell_type": "code",
   "execution_count": null,
   "id": "b7c45607",
   "metadata": {},
   "outputs": [],
   "source": [
    "omolewa.factorial"
   ]
  },
  {
   "cell_type": "code",
   "execution_count": 36,
   "id": "56565c2a",
   "metadata": {},
   "outputs": [],
   "source": [
    "from math import factorial as fact"
   ]
  },
  {
   "cell_type": "code",
   "execution_count": 37,
   "id": "5bd79ebc",
   "metadata": {},
   "outputs": [],
   "source": [
    "from math import factorial, comb"
   ]
  },
  {
   "cell_type": "code",
   "execution_count": 38,
   "id": "f83dd3d4",
   "metadata": {},
   "outputs": [],
   "source": [
    "import math, datetime"
   ]
  },
  {
   "cell_type": "code",
   "execution_count": 39,
   "id": "93fd5a43",
   "metadata": {},
   "outputs": [
    {
     "ename": "ModuleNotFoundError",
     "evalue": "No module named 'usaddress'",
     "output_type": "error",
     "traceback": [
      "\u001b[1;31m---------------------------------------------------------------------------\u001b[0m",
      "\u001b[1;31mModuleNotFoundError\u001b[0m                       Traceback (most recent call last)",
      "\u001b[1;32mC:\\Users\\OMOLEW~1\\AppData\\Local\\Temp/ipykernel_10888/675405180.py\u001b[0m in \u001b[0;36m<module>\u001b[1;34m\u001b[0m\n\u001b[1;32m----> 1\u001b[1;33m \u001b[1;32mimport\u001b[0m \u001b[0musaddress\u001b[0m\u001b[1;33m\u001b[0m\u001b[1;33m\u001b[0m\u001b[0m\n\u001b[0m",
      "\u001b[1;31mModuleNotFoundError\u001b[0m: No module named 'usaddress'"
     ]
    }
   ],
   "source": [
    "import usaddress"
   ]
  },
  {
   "cell_type": "code",
   "execution_count": null,
   "id": "cbc78ed8",
   "metadata": {},
   "outputs": [],
   "source": [
    "from math import *"
   ]
  },
  {
   "cell_type": "markdown",
   "id": "19aaff53",
   "metadata": {},
   "source": [
    "### Functions"
   ]
  },
  {
   "cell_type": "markdown",
   "id": "81b587ec",
   "metadata": {},
   "source": [
    "[1, 2, 3, 4, 5] Square all the numbers\n",
    "\n",
    "{1: 1, 2: 4, 3: 9, 4: 16, 5: 25}"
   ]
  },
  {
   "cell_type": "code",
   "execution_count": null,
   "id": "4aeda406",
   "metadata": {},
   "outputs": [],
   "source": [
    "nums = [1, 2, 3, 4, 5]\n",
    "output = {}\n",
    "for i in nums:\n",
    "    output[i] = i**2"
   ]
  },
  {
   "cell_type": "code",
   "execution_count": 44,
   "id": "99cb8f9e",
   "metadata": {},
   "outputs": [],
   "source": [
    "def square(lis):\n",
    "    output = {}\n",
    "    for i in lis:\n",
    "        output[i] = i**2\n",
    "    return output"
   ]
  },
  {
   "cell_type": "code",
   "execution_count": 45,
   "id": "9dbb1c25",
   "metadata": {},
   "outputs": [
    {
     "data": {
      "text/plain": [
       "{1: 1, 2: 4, 3: 9, 4: 16, 5: 25}"
      ]
     },
     "execution_count": 45,
     "metadata": {},
     "output_type": "execute_result"
    }
   ],
   "source": [
    "square([1, 2, 3, 4, 5])"
   ]
  },
  {
   "cell_type": "code",
   "execution_count": 46,
   "id": "c09ae5bb",
   "metadata": {},
   "outputs": [],
   "source": [
    "def square(lis):\n",
    "    '''\n",
    "    The function .......\n",
    "    :param lis: list\n",
    "    :return: dictionary\n",
    "    \n",
    "    Example: lis = [1, 2, 3]\n",
    "    returns {1: 1, 2: 4: 3: 9}\n",
    "    '''\n",
    "    output = {}\n",
    "    for i in lis:\n",
    "        output[i] = i**2\n",
    "    return output"
   ]
  },
  {
   "cell_type": "code",
   "execution_count": 47,
   "id": "a56940b5",
   "metadata": {},
   "outputs": [
    {
     "ename": "TypeError",
     "evalue": "square() missing 1 required positional argument: 'lis'",
     "output_type": "error",
     "traceback": [
      "\u001b[1;31m---------------------------------------------------------------------------\u001b[0m",
      "\u001b[1;31mTypeError\u001b[0m                                 Traceback (most recent call last)",
      "\u001b[1;32mC:\\Users\\OMOLEW~1\\AppData\\Local\\Temp/ipykernel_10888/1291548297.py\u001b[0m in \u001b[0;36m<module>\u001b[1;34m\u001b[0m\n\u001b[1;32m----> 1\u001b[1;33m \u001b[0msquare\u001b[0m\u001b[1;33m(\u001b[0m\u001b[1;33m)\u001b[0m\u001b[1;33m\u001b[0m\u001b[1;33m\u001b[0m\u001b[0m\n\u001b[0m",
      "\u001b[1;31mTypeError\u001b[0m: square() missing 1 required positional argument: 'lis'"
     ]
    }
   ],
   "source": [
    "square()"
   ]
  },
  {
   "cell_type": "code",
   "execution_count": null,
   "id": "f10d2235",
   "metadata": {},
   "outputs": [],
   "source": []
  },
  {
   "cell_type": "code",
   "execution_count": null,
   "id": "fb194fdd",
   "metadata": {},
   "outputs": [],
   "source": []
  },
  {
   "cell_type": "code",
   "execution_count": null,
   "id": "6a4cc086",
   "metadata": {},
   "outputs": [],
   "source": []
  },
  {
   "cell_type": "code",
   "execution_count": 48,
   "id": "89262741",
   "metadata": {},
   "outputs": [],
   "source": [
    "def square(lis = [4, 5, 6]):\n",
    "    '''\n",
    "    The function .......\n",
    "    :param lis: list\n",
    "    :return: dictionary\n",
    "    \n",
    "    Example: lis = [1, 2, 3]\n",
    "    returns {1: 1, 2: 4: 3: 9}\n",
    "    '''\n",
    "    output = {}\n",
    "    for i in lis:\n",
    "        output[i] = i**2\n",
    "    return output"
   ]
  },
  {
   "cell_type": "code",
   "execution_count": 53,
   "id": "2b92d550",
   "metadata": {},
   "outputs": [
    {
     "data": {
      "text/plain": [
       "{1: 1, 2: 4, 3: 9}"
      ]
     },
     "execution_count": 53,
     "metadata": {},
     "output_type": "execute_result"
    }
   ],
   "source": [
    "square([1, 2, 3])"
   ]
  },
  {
   "cell_type": "code",
   "execution_count": 54,
   "id": "cc868983",
   "metadata": {},
   "outputs": [],
   "source": [
    "def divide(x, y):\n",
    "    return x / y"
   ]
  },
  {
   "cell_type": "code",
   "execution_count": 55,
   "id": "ba732ec9",
   "metadata": {},
   "outputs": [
    {
     "data": {
      "text/plain": [
       "2.0"
      ]
     },
     "execution_count": 55,
     "metadata": {},
     "output_type": "execute_result"
    }
   ],
   "source": [
    "divide(10, 5)"
   ]
  },
  {
   "cell_type": "code",
   "execution_count": 56,
   "id": "667a5b22",
   "metadata": {},
   "outputs": [
    {
     "data": {
      "text/plain": [
       "0.5"
      ]
     },
     "execution_count": 56,
     "metadata": {},
     "output_type": "execute_result"
    }
   ],
   "source": [
    "divide(y=10,x=5)"
   ]
  },
  {
   "cell_type": "code",
   "execution_count": 57,
   "id": "6932e306",
   "metadata": {},
   "outputs": [],
   "source": [
    "def divide(x = 2, y = 10):\n",
    "    return x / y"
   ]
  },
  {
   "cell_type": "code",
   "execution_count": 60,
   "id": "10fe2eb1",
   "metadata": {},
   "outputs": [
    {
     "data": {
      "text/plain": [
       "2.0"
      ]
     },
     "execution_count": 60,
     "metadata": {},
     "output_type": "execute_result"
    }
   ],
   "source": [
    "divide(x = 20, y=10)"
   ]
  },
  {
   "cell_type": "code",
   "execution_count": 62,
   "id": "3b66d2af",
   "metadata": {},
   "outputs": [
    {
     "ename": "SyntaxError",
     "evalue": "non-default argument follows default argument (Temp/ipykernel_10888/3032086942.py, line 1)",
     "output_type": "error",
     "traceback": [
      "\u001b[1;36m  File \u001b[1;32m\"C:\\Users\\OMOLEW~1\\AppData\\Local\\Temp/ipykernel_10888/3032086942.py\"\u001b[1;36m, line \u001b[1;32m1\u001b[0m\n\u001b[1;33m    def divide(x = 2, y):\u001b[0m\n\u001b[1;37m                       ^\u001b[0m\n\u001b[1;31mSyntaxError\u001b[0m\u001b[1;31m:\u001b[0m non-default argument follows default argument\n"
     ]
    }
   ],
   "source": [
    "def divide(x = 2, y):\n",
    "    return x / y"
   ]
  },
  {
   "cell_type": "code",
   "execution_count": 63,
   "id": "55f3f912",
   "metadata": {},
   "outputs": [],
   "source": [
    "def divide(y, x = 2):\n",
    "    return x / y"
   ]
  },
  {
   "cell_type": "code",
   "execution_count": 64,
   "id": "3d3dd684",
   "metadata": {},
   "outputs": [
    {
     "data": {
      "text/plain": [
       "0.5"
      ]
     },
     "execution_count": 64,
     "metadata": {},
     "output_type": "execute_result"
    }
   ],
   "source": [
    "divide(4)"
   ]
  },
  {
   "cell_type": "code",
   "execution_count": 65,
   "id": "860d8f36",
   "metadata": {},
   "outputs": [],
   "source": [
    "def divide(y =10, x = 2):\n",
    "    return x / y"
   ]
  },
  {
   "cell_type": "code",
   "execution_count": 67,
   "id": "57b72d7b",
   "metadata": {},
   "outputs": [
    {
     "data": {
      "text/plain": [
       "0.02"
      ]
     },
     "execution_count": 67,
     "metadata": {},
     "output_type": "execute_result"
    }
   ],
   "source": [
    "divide(100)"
   ]
  },
  {
   "cell_type": "code",
   "execution_count": 78,
   "id": "8858612a",
   "metadata": {},
   "outputs": [],
   "source": [
    "name = 'Nigeria'"
   ]
  },
  {
   "cell_type": "code",
   "execution_count": 80,
   "id": "94df5f2b",
   "metadata": {},
   "outputs": [
    {
     "data": {
      "text/plain": [
       "1"
      ]
     },
     "execution_count": 80,
     "metadata": {},
     "output_type": "execute_result"
    }
   ],
   "source": [
    "len(name.split())"
   ]
  },
  {
   "cell_type": "code",
   "execution_count": 70,
   "id": "e48400df",
   "metadata": {},
   "outputs": [
    {
     "data": {
      "text/plain": [
       "'NIG'"
      ]
     },
     "execution_count": 70,
     "metadata": {},
     "output_type": "execute_result"
    }
   ],
   "source": [
    "name[:3].upper()"
   ]
  },
  {
   "cell_type": "code",
   "execution_count": 81,
   "id": "849e2210",
   "metadata": {},
   "outputs": [],
   "source": [
    "name = 'united states of america'"
   ]
  },
  {
   "cell_type": "code",
   "execution_count": 82,
   "id": "3da974c2",
   "metadata": {},
   "outputs": [
    {
     "data": {
      "text/plain": [
       "4"
      ]
     },
     "execution_count": 82,
     "metadata": {},
     "output_type": "execute_result"
    }
   ],
   "source": [
    "len(name.split())"
   ]
  },
  {
   "cell_type": "code",
   "execution_count": 72,
   "id": "8f7619e7",
   "metadata": {},
   "outputs": [
    {
     "data": {
      "text/plain": [
       "['united', 'states', 'of', 'america']"
      ]
     },
     "execution_count": 72,
     "metadata": {},
     "output_type": "execute_result"
    }
   ],
   "source": [
    "name.split()"
   ]
  },
  {
   "cell_type": "code",
   "execution_count": 77,
   "id": "37c6e23d",
   "metadata": {},
   "outputs": [
    {
     "data": {
      "text/plain": [
       "'USOA'"
      ]
     },
     "execution_count": 77,
     "metadata": {},
     "output_type": "execute_result"
    }
   ],
   "source": [
    "out = []\n",
    "for ent in name.split():\n",
    "    out.append(ent[0])\n",
    "''.join(out).upper()"
   ]
  },
  {
   "cell_type": "code",
   "execution_count": 92,
   "id": "8af35513",
   "metadata": {},
   "outputs": [],
   "source": [
    "def create_abbrev(country_name):\n",
    "    if len(country_name.split()) == 1:\n",
    "        return country_name[:3].upper()\n",
    "    else:\n",
    "        outcast = ['of', 'in', 'a'] # creating dictionary\n",
    "        out = []\n",
    "        for ent in country_name.split():\n",
    "            if ent not in outcast:\n",
    "                out.append(ent[0])\n",
    "        return ''.join(out).upper()"
   ]
  },
  {
   "cell_type": "code",
   "execution_count": 93,
   "id": "5f9473e2",
   "metadata": {},
   "outputs": [
    {
     "data": {
      "text/plain": [
       "'USA'"
      ]
     },
     "execution_count": 93,
     "metadata": {},
     "output_type": "execute_result"
    }
   ],
   "source": [
    "create_abbrev('united states of america in')"
   ]
  },
  {
   "cell_type": "code",
   "execution_count": 94,
   "id": "b09dfe67",
   "metadata": {},
   "outputs": [],
   "source": [
    "# lambda function"
   ]
  },
  {
   "cell_type": "code",
   "execution_count": 95,
   "id": "2eb6c8f8",
   "metadata": {},
   "outputs": [],
   "source": [
    "def divide(x, y):\n",
    "    return x / y"
   ]
  },
  {
   "cell_type": "code",
   "execution_count": 96,
   "id": "892a1f62",
   "metadata": {},
   "outputs": [],
   "source": [
    "def square(x):\n",
    "    return x ** 2"
   ]
  },
  {
   "cell_type": "code",
   "execution_count": 97,
   "id": "6568007c",
   "metadata": {},
   "outputs": [
    {
     "data": {
      "text/plain": [
       "81"
      ]
     },
     "execution_count": 97,
     "metadata": {},
     "output_type": "execute_result"
    }
   ],
   "source": [
    "square(9)"
   ]
  },
  {
   "cell_type": "code",
   "execution_count": 100,
   "id": "e0532f22",
   "metadata": {},
   "outputs": [
    {
     "data": {
      "text/plain": [
       "10000"
      ]
     },
     "execution_count": 100,
     "metadata": {},
     "output_type": "execute_result"
    }
   ],
   "source": [
    "(lambda x: x ** 2)(100)"
   ]
  },
  {
   "cell_type": "code",
   "execution_count": 101,
   "id": "a921d452",
   "metadata": {},
   "outputs": [],
   "source": [
    "square2 = lambda x: x ** 2"
   ]
  },
  {
   "cell_type": "code",
   "execution_count": 102,
   "id": "39b668f8",
   "metadata": {},
   "outputs": [
    {
     "data": {
      "text/plain": [
       "81"
      ]
     },
     "execution_count": 102,
     "metadata": {},
     "output_type": "execute_result"
    }
   ],
   "source": [
    "square2(9)"
   ]
  },
  {
   "cell_type": "code",
   "execution_count": 106,
   "id": "f5fe61f6",
   "metadata": {},
   "outputs": [
    {
     "data": {
      "text/plain": [
       "0.2"
      ]
     },
     "execution_count": 106,
     "metadata": {},
     "output_type": "execute_result"
    }
   ],
   "source": [
    "(lambda x, y, z, p: x / y)(y = 10, x = 2, p = 1, z = 3)"
   ]
  },
  {
   "cell_type": "code",
   "execution_count": 1,
   "id": "ac52c893",
   "metadata": {},
   "outputs": [
    {
     "name": "stdout",
     "output_type": "stream",
     "text": [
      "23\n"
     ]
    },
    {
     "data": {
      "text/plain": [
       "'23'"
      ]
     },
     "execution_count": 1,
     "metadata": {},
     "output_type": "execute_result"
    }
   ],
   "source": [
    "input()"
   ]
  },
  {
   "cell_type": "code",
   "execution_count": 13,
   "id": "e947c85f",
   "metadata": {},
   "outputs": [],
   "source": [
    "def multiply(x, y):\n",
    "    return x * y"
   ]
  },
  {
   "cell_type": "code",
   "execution_count": null,
   "id": "9803562e",
   "metadata": {},
   "outputs": [],
   "source": [
    "def <name of the function>():\n",
    "    <body of the function>\n",
    "    print(), return , yield"
   ]
  },
  {
   "cell_type": "code",
   "execution_count": 14,
   "id": "a59031b2",
   "metadata": {},
   "outputs": [
    {
     "name": "stdout",
     "output_type": "stream",
     "text": [
      "12\n"
     ]
    }
   ],
   "source": [
    "print(Omolewa(3, 4))"
   ]
  },
  {
   "cell_type": "code",
   "execution_count": 4,
   "id": "bc2ec043",
   "metadata": {},
   "outputs": [],
   "source": [
    "c = multiply(3, 4)"
   ]
  },
  {
   "cell_type": "code",
   "execution_count": 6,
   "id": "30fdb4e1",
   "metadata": {},
   "outputs": [
    {
     "data": {
      "text/plain": [
       "3.0"
      ]
     },
     "execution_count": 6,
     "metadata": {},
     "output_type": "execute_result"
    }
   ],
   "source": [
    "c / 4"
   ]
  },
  {
   "cell_type": "code",
   "execution_count": 7,
   "id": "20890c87",
   "metadata": {},
   "outputs": [],
   "source": [
    "def multiply(x, y):\n",
    "    print(x * y)"
   ]
  },
  {
   "cell_type": "code",
   "execution_count": 8,
   "id": "91dd993f",
   "metadata": {},
   "outputs": [
    {
     "name": "stdout",
     "output_type": "stream",
     "text": [
      "30\n"
     ]
    }
   ],
   "source": [
    "multiply(10, 3)"
   ]
  },
  {
   "cell_type": "code",
   "execution_count": 9,
   "id": "42cfe717",
   "metadata": {},
   "outputs": [
    {
     "name": "stdout",
     "output_type": "stream",
     "text": [
      "30\n"
     ]
    }
   ],
   "source": [
    "v = multiply(10, 3)"
   ]
  },
  {
   "cell_type": "code",
   "execution_count": 10,
   "id": "8d2ef770",
   "metadata": {},
   "outputs": [],
   "source": [
    "v"
   ]
  },
  {
   "cell_type": "code",
   "execution_count": 15,
   "id": "7979f0a8",
   "metadata": {},
   "outputs": [],
   "source": [
    "# Generator"
   ]
  },
  {
   "cell_type": "code",
   "execution_count": 16,
   "id": "d5ce63db",
   "metadata": {},
   "outputs": [],
   "source": [
    "lis = [2, 4, 6, 8, 10]"
   ]
  },
  {
   "cell_type": "code",
   "execution_count": 17,
   "id": "7b8bba33",
   "metadata": {},
   "outputs": [
    {
     "data": {
      "text/plain": [
       "[16, 32, 48, 64, 80]"
      ]
     },
     "execution_count": 17,
     "metadata": {},
     "output_type": "execute_result"
    }
   ],
   "source": [
    "[i * 8 for i in lis]"
   ]
  },
  {
   "cell_type": "code",
   "execution_count": 25,
   "id": "07a88d49",
   "metadata": {},
   "outputs": [],
   "source": [
    "gen = (i * 8 for i in lis)"
   ]
  },
  {
   "cell_type": "code",
   "execution_count": 26,
   "id": "b2ce6963",
   "metadata": {},
   "outputs": [
    {
     "data": {
      "text/plain": [
       "16"
      ]
     },
     "execution_count": 26,
     "metadata": {},
     "output_type": "execute_result"
    }
   ],
   "source": [
    "next(gen)"
   ]
  },
  {
   "cell_type": "code",
   "execution_count": 27,
   "id": "842867f4",
   "metadata": {},
   "outputs": [],
   "source": [
    "def Gen():\n",
    "    for i in lis:\n",
    "        yield i * 8"
   ]
  },
  {
   "cell_type": "code",
   "execution_count": 28,
   "id": "bf2db7f5",
   "metadata": {},
   "outputs": [],
   "source": [
    "gen = Gen()"
   ]
  },
  {
   "cell_type": "code",
   "execution_count": 31,
   "id": "0dd6e8e9",
   "metadata": {},
   "outputs": [
    {
     "data": {
      "text/plain": [
       "48"
      ]
     },
     "execution_count": 31,
     "metadata": {},
     "output_type": "execute_result"
    }
   ],
   "source": [
    "next(gen)"
   ]
  },
  {
   "cell_type": "code",
   "execution_count": null,
   "id": "1c1db74c",
   "metadata": {},
   "outputs": [],
   "source": [
    "# cache"
   ]
  },
  {
   "cell_type": "code",
   "execution_count": 32,
   "id": "dfc9a42e",
   "metadata": {},
   "outputs": [],
   "source": [
    "def multiply(x, y):\n",
    "    return x * y"
   ]
  },
  {
   "cell_type": "code",
   "execution_count": 33,
   "id": "b3bd8c51",
   "metadata": {},
   "outputs": [],
   "source": [
    "def multiply(*args):\n",
    "    out = []\n",
    "    for i in args:\n",
    "        out.append(i * 8)\n",
    "    return out"
   ]
  },
  {
   "cell_type": "code",
   "execution_count": 36,
   "id": "cf865fb4",
   "metadata": {},
   "outputs": [
    {
     "data": {
      "text/plain": [
       "[16, 24, 32, 8, 80, 72]"
      ]
     },
     "execution_count": 36,
     "metadata": {},
     "output_type": "execute_result"
    }
   ],
   "source": [
    "multiply(2, 3, 4, 1, 10, 9)"
   ]
  },
  {
   "cell_type": "code",
   "execution_count": 41,
   "id": "186d37b4",
   "metadata": {},
   "outputs": [],
   "source": [
    "def multiply(*charles):\n",
    "    out = []\n",
    "    for i in charles:\n",
    "        out.append(i * 8)\n",
    "    return out"
   ]
  },
  {
   "cell_type": "code",
   "execution_count": 42,
   "id": "97d5dbb4",
   "metadata": {},
   "outputs": [
    {
     "data": {
      "text/plain": [
       "[16, 24, 32, 8, 80, 72]"
      ]
     },
     "execution_count": 42,
     "metadata": {},
     "output_type": "execute_result"
    }
   ],
   "source": [
    "multiply(2, 3, 4, 1, 10, 9)"
   ]
  },
  {
   "cell_type": "code",
   "execution_count": 46,
   "id": "90697add",
   "metadata": {},
   "outputs": [],
   "source": [
    "def square(**kwargs):\n",
    "    print(kwargs)"
   ]
  },
  {
   "cell_type": "code",
   "execution_count": 48,
   "id": "4d090f13",
   "metadata": {},
   "outputs": [
    {
     "name": "stdout",
     "output_type": "stream",
     "text": [
      "{'x': 2, 'y': 5, 'c': 10}\n"
     ]
    }
   ],
   "source": [
    "square(x = 2, y = 5, c  = 10)"
   ]
  },
  {
   "cell_type": "code",
   "execution_count": null,
   "id": "ba279fbb",
   "metadata": {},
   "outputs": [],
   "source": []
  }
 ],
 "metadata": {
  "kernelspec": {
   "display_name": "Python 3 (ipykernel)",
   "language": "python",
   "name": "python3"
  },
  "language_info": {
   "codemirror_mode": {
    "name": "ipython",
    "version": 3
   },
   "file_extension": ".py",
   "mimetype": "text/x-python",
   "name": "python",
   "nbconvert_exporter": "python",
   "pygments_lexer": "ipython3",
   "version": "3.9.7"
  }
 },
 "nbformat": 4,
 "nbformat_minor": 5
}
